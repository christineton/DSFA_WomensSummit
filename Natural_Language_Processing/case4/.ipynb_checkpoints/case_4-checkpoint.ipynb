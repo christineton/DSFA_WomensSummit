{
 "cells": [
  {
   "cell_type": "markdown",
   "metadata": {},
   "source": [
    "# Natural Language Processing with Review Data"
   ]
  },
  {
   "cell_type": "markdown",
   "metadata": {},
   "source": [
    "## Introduction (10 mts)\n",
    "\n",
    "**Business Context.** You are a business consultant for small and medium-sized businesses with a large number of customers. Examples of such businesses might include a quick-dining restaurant, clothing store, or online distributor of hobby equipment. You would like to help your small businesses understand what factors are driving positive and negative customer experiences. Customers are often unwilling to give direct feedback, but do leave large numbers of online reviews on websites such as Yelp, Amazon, and so on. You would like to develop a service that would allow businesses to quickly obtain useful summaries of their reviews across such websites. Such a service would allow your clients to answer questions like: \"What are the most important factors driving negative reviews?\" or \"Did a recent policy change improve our reviews?\"\n",
    "\n",
    "**Business Problem.** Your main task is to **wrangle a dataset of text reviews, engineer relevant features, and create a model for sentiment analysis**.\n",
    "\n",
    "**Analytical Context.** Text data is highly unstructured, and often requires pre-processing before we can gather any business insights from it. We will be leveraging tools from **natural language processing (NLP)** in order to help us process this data and generate new features that can be used for analytics or model building.\n",
    "\n",
    "The case will proceed as follows:  \n",
    "(1) introduce basic steps of pre-processing like word tokenization and text visualization  \n",
    "(2) introduce key tools in feature extraction such as n-grams, count representations, and stop words  \n",
    "(3) leverage these tools to perform exploratory data analysis  \n",
    "(4) build machine learning models to classify text as exhibiting positive or negative sentimet"
   ]
  },
  {
   "cell_type": "markdown",
   "metadata": {},
   "source": [
    "## Context about NLP\n",
    "\n",
    "Some of the most famous success stories involving NLP come from Google, where it is used to give very good responses to vague or misspelled internet searches, as well as fairly comprehensible automatic translations of plain text.\n",
    "\n",
    "There is often quite a bit of misconception surrounding NLP and its place within machine learning as a whole. Many of the uninitiated think that NLP is just machine learning applied to words. However, this is far from true. NLP has two characteristics which make it intractable for naive applications of machine learning:"
   ]
  },
  {
   "cell_type": "markdown",
   "metadata": {},
   "source": [
    "### Challenge 1: Extraordinarily high dimensionality\n",
    "\n",
    "Consider the book *War and Peace*. It has 3 million characters. Can we view this as a long vector of strings taking values in a 3-million-dimensional space, and then apply machine learning methods here? This is a bad idea for two reasons:\n",
    "\n",
    "1. Basic approaches have terrible performance in such high-dimensional spaces\n",
    "2. These approaches \"miss out\" on some important rules about language that we all know; e.g. that \"don't\" and \"do not\" mean the same thing\n",
    "\n",
    "As a result, a huge amount of NLP involves finding ways to summarize incredibly long vectors in concise ways, so that we can tractably explore, analyze, and model build with them later."
   ]
  },
  {
   "cell_type": "markdown",
   "metadata": {},
   "source": [
    "### Challenge 2: Text is context specific\n",
    "\n",
    "For example, the word *queen* has many uses in English that are both *very different* and *common*:\n",
    "\n",
    "1. The ruler of a country\n",
    "2. A size of mattress\n",
    "3. The most powerful piece in chess\n",
    "4. The mother insect in certain types of insect colonies\n",
    "\n",
    "General purpose libraries will need to deal with all of these, but reviews for mattresses will almost always be about the second. This type of mismatch can result in misleading results that can easily be fixed by a team that is familiar with the underlying NLP computations."
   ]
  },
  {
   "cell_type": "markdown",
   "metadata": {},
   "source": [
    "## Pre-processing and tokenization (10 mts)\n",
    "\n",
    "Standardizing text involves many steps. Some of these include:\n",
    "\n",
    "1. Simple error correction (e.g. removing ASCII coding errors)\n",
    "2, Feature creation (e.g. labeling nouns and verbs)\n",
    "3. Replacing words and sentences altogether (e.g. standardizing spelling by changing \"yuuuuuuck!\" to \"yuck\", or more extreme steps such as replacing words with near synonyms)\n",
    "\n",
    "In a broad sense, standardization is similar to data wrangling with more conventional data; we are fixing errors, removing outliers, and transforming features. However, the details in NLP tend to be more complicated. We will be using Python's Natural Languages Toolkit (`nltk`) library. This library has functions that do most of the basics in NLP.\n",
    "\n",
    "**NOTE:** *Many text wrangling pipelines start a little before we do, with initial \"cleaning\" steps that involve things like: converting all characters to lower case, expanding contractions, etc. Our main reason for skipping this initial step is that you must make some important and very context-sensitive choices in these steps. For example, auto-correcting the spelling of a document can be very helpful in reducing noise (e.g. if there are important and hard-to-spell words in the document, like \"Poughkeepsie\") but can also destroy the most important part of the signal (e.g. auto-correcting brand names of companies like \"Rappi\" to \"rapping\"). Similarly, the steps we outline here may need to be adapted appropriately for other contexts, such as other languages, computer programs, legal documents, etc.* "
   ]
  },
  {
   "cell_type": "code",
   "execution_count": 1,
   "metadata": {},
   "outputs": [
    {
     "name": "stderr",
     "output_type": "stream",
     "text": [
      "[nltk_data] Downloading package punkt to /Users/sthais/nltk_data...\n",
      "[nltk_data]   Package punkt is already up-to-date!\n",
      "[nltk_data] Downloading package stopwords to\n",
      "[nltk_data]     /Users/sthais/nltk_data...\n",
      "[nltk_data]   Package stopwords is already up-to-date!\n"
     ]
    }
   ],
   "source": [
    "#import the relevant packages\n",
    "import nltk # imports the natural language toolkit\n",
    "nltk.download('punkt')\n",
    "nltk.download('stopwords')\n",
    "import pandas as pd\n",
    "import numpy  as np\n",
    "import string\n",
    "import plotly\n",
    "from nltk.stem import PorterStemmer "
   ]
  },
  {
   "cell_type": "code",
   "execution_count": 2,
   "metadata": {},
   "outputs": [
    {
     "data": {
      "text/html": [
       "<div>\n",
       "<style scoped>\n",
       "    .dataframe tbody tr th:only-of-type {\n",
       "        vertical-align: middle;\n",
       "    }\n",
       "\n",
       "    .dataframe tbody tr th {\n",
       "        vertical-align: top;\n",
       "    }\n",
       "\n",
       "    .dataframe thead th {\n",
       "        text-align: right;\n",
       "    }\n",
       "</style>\n",
       "<table border=\"1\" class=\"dataframe\">\n",
       "  <thead>\n",
       "    <tr style=\"text-align: right;\">\n",
       "      <th></th>\n",
       "      <th>review_id</th>\n",
       "      <th>user_id</th>\n",
       "      <th>business_id</th>\n",
       "      <th>stars</th>\n",
       "      <th>date</th>\n",
       "      <th>text</th>\n",
       "      <th>useful</th>\n",
       "      <th>funny</th>\n",
       "      <th>cool</th>\n",
       "    </tr>\n",
       "  </thead>\n",
       "  <tbody>\n",
       "    <tr>\n",
       "      <th>0</th>\n",
       "      <td>vkVSCC7xljjrAI4UGfnKEQ</td>\n",
       "      <td>bv2nCi5Qv5vroFiqKGopiw</td>\n",
       "      <td>AEx2SYEUJmTxVVB18LlCwA</td>\n",
       "      <td>5</td>\n",
       "      <td>2016-05-28</td>\n",
       "      <td>Super simple place but amazing nonetheless. It...</td>\n",
       "      <td>0</td>\n",
       "      <td>0</td>\n",
       "      <td>0</td>\n",
       "    </tr>\n",
       "    <tr>\n",
       "      <th>1</th>\n",
       "      <td>n6QzIUObkYshz4dz2QRJTw</td>\n",
       "      <td>bv2nCi5Qv5vroFiqKGopiw</td>\n",
       "      <td>VR6GpWIda3SfvPC-lg9H3w</td>\n",
       "      <td>5</td>\n",
       "      <td>2016-05-28</td>\n",
       "      <td>Small unassuming place that changes their menu...</td>\n",
       "      <td>0</td>\n",
       "      <td>0</td>\n",
       "      <td>0</td>\n",
       "    </tr>\n",
       "    <tr>\n",
       "      <th>2</th>\n",
       "      <td>MV3CcKScW05u5LVfF6ok0g</td>\n",
       "      <td>bv2nCi5Qv5vroFiqKGopiw</td>\n",
       "      <td>CKC0-MOWMqoeWf6s-szl8g</td>\n",
       "      <td>5</td>\n",
       "      <td>2016-05-28</td>\n",
       "      <td>Lester's is located in a beautiful neighborhoo...</td>\n",
       "      <td>0</td>\n",
       "      <td>0</td>\n",
       "      <td>0</td>\n",
       "    </tr>\n",
       "    <tr>\n",
       "      <th>3</th>\n",
       "      <td>IXvOzsEMYtiJI0CARmj77Q</td>\n",
       "      <td>bv2nCi5Qv5vroFiqKGopiw</td>\n",
       "      <td>ACFtxLv8pGrrxMm6EgjreA</td>\n",
       "      <td>4</td>\n",
       "      <td>2016-05-28</td>\n",
       "      <td>Love coming here. Yes the place always needs t...</td>\n",
       "      <td>0</td>\n",
       "      <td>0</td>\n",
       "      <td>0</td>\n",
       "    </tr>\n",
       "    <tr>\n",
       "      <th>4</th>\n",
       "      <td>L_9BTb55X0GDtThi6GlZ6w</td>\n",
       "      <td>bv2nCi5Qv5vroFiqKGopiw</td>\n",
       "      <td>s2I_Ni76bjJNK9yG60iD-Q</td>\n",
       "      <td>4</td>\n",
       "      <td>2016-05-28</td>\n",
       "      <td>Had their chocolate almond croissant and it wa...</td>\n",
       "      <td>0</td>\n",
       "      <td>0</td>\n",
       "      <td>0</td>\n",
       "    </tr>\n",
       "  </tbody>\n",
       "</table>\n",
       "</div>"
      ],
      "text/plain": [
       "                review_id                 user_id             business_id  \\\n",
       "0  vkVSCC7xljjrAI4UGfnKEQ  bv2nCi5Qv5vroFiqKGopiw  AEx2SYEUJmTxVVB18LlCwA   \n",
       "1  n6QzIUObkYshz4dz2QRJTw  bv2nCi5Qv5vroFiqKGopiw  VR6GpWIda3SfvPC-lg9H3w   \n",
       "2  MV3CcKScW05u5LVfF6ok0g  bv2nCi5Qv5vroFiqKGopiw  CKC0-MOWMqoeWf6s-szl8g   \n",
       "3  IXvOzsEMYtiJI0CARmj77Q  bv2nCi5Qv5vroFiqKGopiw  ACFtxLv8pGrrxMm6EgjreA   \n",
       "4  L_9BTb55X0GDtThi6GlZ6w  bv2nCi5Qv5vroFiqKGopiw  s2I_Ni76bjJNK9yG60iD-Q   \n",
       "\n",
       "   stars        date                                               text  \\\n",
       "0      5  2016-05-28  Super simple place but amazing nonetheless. It...   \n",
       "1      5  2016-05-28  Small unassuming place that changes their menu...   \n",
       "2      5  2016-05-28  Lester's is located in a beautiful neighborhoo...   \n",
       "3      4  2016-05-28  Love coming here. Yes the place always needs t...   \n",
       "4      4  2016-05-28  Had their chocolate almond croissant and it wa...   \n",
       "\n",
       "   useful  funny  cool  \n",
       "0       0      0     0  \n",
       "1       0      0     0  \n",
       "2       0      0     0  \n",
       "3       0      0     0  \n",
       "4       0      0     0  "
      ]
     },
     "execution_count": 2,
     "metadata": {},
     "output_type": "execute_result"
    }
   ],
   "source": [
    "# load the dataset and look at the first few samples\n",
    "data = pd.read_csv('sdata.csv')\n",
    "data.head()"
   ]
  },
  {
   "cell_type": "code",
   "execution_count": 3,
   "metadata": {},
   "outputs": [
    {
     "data": {
      "text/plain": [
       "0    Super simple place but amazing nonetheless. It...\n",
       "1    Small unassuming place that changes their menu...\n",
       "2    Lester's is located in a beautiful neighborhoo...\n",
       "3    Love coming here. Yes the place always needs t...\n",
       "4    Had their chocolate almond croissant and it wa...\n",
       "Name: text, dtype: object"
      ]
     },
     "execution_count": 3,
     "metadata": {},
     "output_type": "execute_result"
    }
   ],
   "source": [
    "# look at just the reviews \n",
    "AllReviews = data['text']\n",
    "AllReviews.head()"
   ]
  },
  {
   "cell_type": "markdown",
   "metadata": {},
   "source": [
    "### Tokenizing sentences\n",
    "\n",
    "Just like CSV data is composed of features, text data is composed of sentences. Thus, a natural first step is what is known as **sentence tokenization**: splitting a long document into its component sentences. At first this might seem trivial: just split whenever you see a period. Unfortunately, the same symbol is used in other ways in English (e.g. to mark an abbreviation, as part of ellipses, etc.), and so slightly more care is required. Fortunately, there are packages that will do this for us. Within `nltk`, we can use the `nltk.sent_tokenize()` function."
   ]
  },
  {
   "cell_type": "markdown",
   "metadata": {},
   "source": [
    "### Exercise 1:\n",
    "\n",
    "Give an example of a question we might be able to answer with this sort of data, and another question that we'd need additional data to answer. Assume for now that all of the reviews are coming from one business."
   ]
  },
  {
   "cell_type": "markdown",
   "metadata": {},
   "source": [
    "**Sample Answer.** A human reading this might be able to figure out the most appreciated features of a business by:\n",
    "\n",
    "1. Looking for features that are consistently praised (e.g. \"great customer service\")\n",
    "2. Looking for features that appear most often in positive reviews\n",
    "\n",
    "On the other hand, it would be very difficult to make any conclusions about how the business is faring with respect to locals vs. tourists based on this dataset."
   ]
  },
  {
   "cell_type": "markdown",
   "metadata": {},
   "source": [
    "Here, each \"document\" is just a single review. Let's take a look at the first \"document\" review in our dataset, and tokenize it:"
   ]
  },
  {
   "cell_type": "code",
   "execution_count": 4,
   "metadata": {},
   "outputs": [
    {
     "data": {
      "text/plain": [
       "\"Super simple place but amazing nonetheless. It's been around since the 30's and they still serve the same thing they started with: a bologna and salami sandwich with mustard. \\n\\nStaff was very helpful and friendly.\""
      ]
     },
     "execution_count": 4,
     "metadata": {},
     "output_type": "execute_result"
    }
   ],
   "source": [
    "# Print text of first Yelp review\n",
    "AllReviews[0]"
   ]
  },
  {
   "cell_type": "code",
   "execution_count": 5,
   "metadata": {},
   "outputs": [
    {
     "name": "stdout",
     "output_type": "stream",
     "text": [
      "Super simple place but amazing nonetheless.\n",
      "\n",
      "It's been around since the 30's and they still serve the same thing they started with: a bologna and salami sandwich with mustard.\n",
      "\n",
      "Staff was very helpful and friendly.\n",
      "\n"
     ]
    }
   ],
   "source": [
    "# apply sentence tokenization\n",
    "sentences = nltk.sent_tokenize(AllReviews[0])\n",
    "for sentence in sentences:\n",
    "    print(sentence)\n",
    "    print()"
   ]
  },
  {
   "cell_type": "markdown",
   "metadata": {},
   "source": [
    "### Tokenizing words\n",
    "\n",
    "Having split documents into sentences, we now split sentences into individual words. As with sentence tokenization, there is (i) a pretty good heuristic (split on spaces), (ii) a number of weird exceptions (e.g. compound words), and (iii) an existing package that does the job fairly well.\n",
    "\n",
    "We use the `nltk.word_tokenize()` function from `nltk`:"
   ]
  },
  {
   "cell_type": "code",
   "execution_count": 6,
   "metadata": {},
   "outputs": [
    {
     "name": "stdout",
     "output_type": "stream",
     "text": [
      "Small unassuming place that changes their menu every so often.\n",
      "['Small', 'unassuming', 'place', 'that', 'changes', 'their', 'menu', 'every', 'so', 'often', '.']\n",
      "\n",
      "Cool decor and vibe inside their 30 seat restaurant.\n",
      "['Cool', 'decor', 'and', 'vibe', 'inside', 'their', '30', 'seat', 'restaurant', '.']\n",
      "\n",
      "Call for a reservation.\n",
      "['Call', 'for', 'a', 'reservation', '.']\n",
      "\n",
      "We had their beef tartar and pork belly to start and a salmon dish and lamb meal for mains.\n",
      "['We', 'had', 'their', 'beef', 'tartar', 'and', 'pork', 'belly', 'to', 'start', 'and', 'a', 'salmon', 'dish', 'and', 'lamb', 'meal', 'for', 'mains', '.']\n",
      "\n",
      "Everything was incredible!\n",
      "['Everything', 'was', 'incredible', '!']\n",
      "\n",
      "I could go on at length about how all the listed ingredients really make their dishes amazing but honestly you just need to go.\n",
      "['I', 'could', 'go', 'on', 'at', 'length', 'about', 'how', 'all', 'the', 'listed', 'ingredients', 'really', 'make', 'their', 'dishes', 'amazing', 'but', 'honestly', 'you', 'just', 'need', 'to', 'go', '.']\n",
      "\n",
      "A bit outside of downtown montreal but take the metro out and it's less than a 10 minute walk from the station.\n",
      "['A', 'bit', 'outside', 'of', 'downtown', 'montreal', 'but', 'take', 'the', 'metro', 'out', 'and', 'it', \"'s\", 'less', 'than', 'a', '10', 'minute', 'walk', 'from', 'the', 'station', '.']\n",
      "\n"
     ]
    }
   ],
   "source": [
    "sentences = nltk.sent_tokenize(data['text'][1])\n",
    "for sentence in sentences:\n",
    "    words = nltk.word_tokenize(sentence)\n",
    "    print(sentence)\n",
    "    print(words)\n",
    "    print()"
   ]
  },
  {
   "cell_type": "markdown",
   "metadata": {},
   "source": [
    "## Data Exploration (20 mts)"
   ]
  },
  {
   "cell_type": "markdown",
   "metadata": {},
   "source": [
    "### Exercise 2:\n",
    "\n",
    "Conduct an exploratory analysis of the sizes of reviews: find the shortest and longest reviews, then plot a histogram showing the distribution of review lengths."
   ]
  },
  {
   "cell_type": "markdown",
   "metadata": {},
   "source": [
    "**Answer.** One possible solution is shown below:"
   ]
  },
  {
   "cell_type": "code",
   "execution_count": 7,
   "metadata": {},
   "outputs": [],
   "source": [
    "review_words_lengths = AllReviews.apply(lambda x: len(nltk.word_tokenize(x)))"
   ]
  },
  {
   "cell_type": "code",
   "execution_count": 8,
   "metadata": {},
   "outputs": [
    {
     "data": {
      "text/plain": [
       "2"
      ]
     },
     "execution_count": 8,
     "metadata": {},
     "output_type": "execute_result"
    }
   ],
   "source": [
    "min(review_words_lengths)"
   ]
  },
  {
   "cell_type": "code",
   "execution_count": 9,
   "metadata": {},
   "outputs": [
    {
     "data": {
      "text/plain": [
       "6687    在拉斯维加斯买了新房子，本来想安装布艺窗帘， 但是经过小刘的介绍，知道拉斯维加斯特别热，布艺...\n",
       "Name: text, dtype: object"
      ]
     },
     "execution_count": 9,
     "metadata": {},
     "output_type": "execute_result"
    }
   ],
   "source": [
    "# find the shortest review\n",
    "AllReviews[review_words_lengths[review_words_lengths == 2].index]"
   ]
  },
  {
   "cell_type": "code",
   "execution_count": 10,
   "metadata": {},
   "outputs": [
    {
     "name": "stdout",
     "output_type": "stream",
     "text": [
      "在拉斯维加斯买了新房子，本来想安装布艺窗帘， 但是经过小刘的介绍，知道拉斯维加斯特别热，布艺隔热性不强，所以用了实木的百叶窗，非常漂亮，隔热，而且价格实惠，推荐卓越窗帘给大家！\n"
     ]
    }
   ],
   "source": [
    "# print the shortest review (its actually longer than 2 words, but in a different language)\n",
    "print(AllReviews[6687])"
   ]
  },
  {
   "cell_type": "code",
   "execution_count": 11,
   "metadata": {},
   "outputs": [
    {
     "data": {
      "text/plain": [
       "1148"
      ]
     },
     "execution_count": 11,
     "metadata": {},
     "output_type": "execute_result"
    }
   ],
   "source": [
    "max(review_words_lengths)"
   ]
  },
  {
   "cell_type": "code",
   "execution_count": 12,
   "metadata": {},
   "outputs": [
    {
     "data": {
      "text/plain": [
       "9349    Alright...this is a bit of a mixed bag review-...\n",
       "Name: text, dtype: object"
      ]
     },
     "execution_count": 12,
     "metadata": {},
     "output_type": "execute_result"
    }
   ],
   "source": [
    "# find the longest review\n",
    "AllReviews[review_words_lengths[review_words_lengths == max(review_words_lengths)].index]"
   ]
  },
  {
   "cell_type": "code",
   "execution_count": 13,
   "metadata": {},
   "outputs": [
    {
     "name": "stdout",
     "output_type": "stream",
     "text": [
      "Alright...this is a bit of a mixed bag review-wise...not because there is some good and bad, but because...well...read the review.\n",
      "\n",
      "It was my birthday...or a few days later.  A friend and I were celebrating.  Smallman Galley was on my \"list\" to try.  I didn't know what to expect.  But I think I had in my mind a vision of what this \"chef incubator\" was going to be.  \n",
      "\n",
      "Things I didn't expect:  picnic table seating, 4 \"store fronts\", people lined up ordering from the counter.  So...go into it with that expectation.  I kind of love the idea of the place, but if you were thinking to woo your lady love (or man love, whatevs) with a candle-lit dinner in a cozy restaurant with amazing service...well, you'd  miss the mark.\n",
      "\n",
      "I had to wait.  My friend was late.  I was sitting at the bar, so I didn't really care.  I perused the menu.  First drink that popped out at me was a Primus song.  \"Jerry Was a Race Car Driver\" reportedly had:  Amara Sfumato Rabarbaro, Aperol, Genepy des Alpes, pluot syrup, and La Croix.  \n",
      "\n",
      "First impressions:  I don't know what any of those things are.  Not one.  Hadn't heard of them.  Hadn't had them.  Didn't know how to pronounce them.  The only word I recognized was \"syrup\".  I vaguely recalled 'des' might have meant \"of\" in friench.  Or Belgian.  Whatever.  Completely incomprehensible drink while you wait for a friend?  TAKE ALL MY MONEY!\n",
      "\n",
      "It was really good.  Served in a tall glass with a lemon garnish, I sat and drank my fancy unpronouncably ingrediented drink in suave sophistication.\n",
      "\n",
      "I texted a picture to my friend.  \"You're there already?\"  Yeah...because that's when we said we'd meet.  \n",
      "\n",
      "Whatever.  I finished that drink and went two lines up on the drink menu.  \"Vilified\"  This promised brown butter-washed bourbon, sage-sweet potato syrup, and black walnut bitters.  So much effort went into this drink.  Who do they get to wash the bourbon in brown butter?  How many natives died making the sage-sweet potato syrup?  And I don't even know how you make a bitter let alone a black walnut bitter.  This drink was described so pretentiously I had to lie to the bartender and tell him my name was Thurston J. Howell before he'd pour it for me.  It was great.  I would have had another.  Wait...I did have another.  I think.  Things were starting to get a little...hazy.  It had an orange garnish.  It didn't photograph well. \n",
      "\n",
      "I texted a picture of vilified to my friend.  \"What?  You're on your second drink?\"  I was.  \"You're going to be hammered by the time I get there.\"  I was.\n",
      "\n",
      "Whatever.  I finished that drink and and moved on to \"Cyco Vision\".  Redemption rye, Yellow Chartreuse, pistachio orgeat, lemon, cardamom bitters, egg white.  And listen...I'm a sucker for egg whites in my drink.  I can't explain why.  Rye?  Awesome.  Yellow Chartreuse?  Confusing.  Orgeat?  Let's be honest.  When I got to orgeat it sounded like orgy and I might have chuckled to myself and just ordered the drink because of the orgeat.  I don't even know what orgeat is.  But...it also reminded me of Xergiok from Adventure Time.  I had to have this drink.  \n",
      "\n",
      "I had this drink.  It was good.  It was honestly my least favorite of the three but it was good.  I took a picture...it looked like a malt.  Served in a wide goblet, It had a thick foam on top and the bartender drew a little design with ...maybe with the orgeat...I don't know.  Fancy!  \n",
      "\n",
      "I texted my friend the picture.  \"Jesus, I'm almost there, slow down!\"  I did.  \n",
      "\n",
      "And then my friend arrived and I recommended the Vilified and she hated it, so I drank hers and she took the \"Superman\" that I ordered, which was good, but I wasn't in love with it.  \n",
      "\n",
      "And then the bartender accidentally made someone another drink and it wasn't what he ordered and so she was going to dump it, but I said, \"What do you do with a drink when it's the wrong one?\" and she said, \"Dump it, unless you want it.\"  I did.  I don't even know what it was.  I think it was good. It's not completely clear.\n",
      "\n",
      "And so now...Well now I've had five or six drinks in an hour and a half and I'm pretty much open for business, but it's time to eat, because god forbid we drink on an empty stomach.  TOO LATE!! IT WAS TOO LATE!!  But I walked past the previously-mentioned store fronts on my way to the bathroom and brought back a few ideas...\n",
      "\n",
      "We ended up eating shrimp and grits (fairly certain this was delicious, but I have no idea which place I got it from) and poutine (again...and again).\n",
      "\n",
      "So...I guess the mixed bag is that 1)  I really don't have a clear memory of the food.  I know it was good.  I just don't know where I got it, but 2) I have a very strong sense of the drink menu.  And it was a good drink menu.  \n",
      "\n",
      "Go for drinks!\n",
      "\n",
      "I will be back.  What I remember of the food was that it was really good.  I know what to expect (no waitress, first come first serve seating, picnic table style).  Outstanding place to go with a group of friends and just sort of sprawl out across a picnic table and drink and try new foods.\n"
     ]
    }
   ],
   "source": [
    "# print the longest review\n",
    "print(AllReviews[9349])"
   ]
  },
  {
   "cell_type": "code",
   "execution_count": 14,
   "metadata": {},
   "outputs": [
    {
     "data": {
      "text/plain": [
       "<matplotlib.axes._subplots.AxesSubplot at 0x12835cd00>"
      ]
     },
     "execution_count": 14,
     "metadata": {},
     "output_type": "execute_result"
    },
    {
     "data": {
      "image/png": "[encoded data removed]",
      "text/plain": [
       "<Figure size 1440x432 with 1 Axes>"
      ]
     },
     "metadata": {
      "needs_background": "light"
     },
     "output_type": "display_data"
    }
   ],
   "source": [
    "## plot the histogram with a nice resolution\n",
    "from pylab import rcParams\n",
    "rcParams['figure.figsize'] = 20, 6\n",
    "review_words_lengths.hist(bins = 25)"
   ]
  },
  {
   "cell_type": "markdown",
   "metadata": {},
   "source": [
    "### Text visualization with word clouds  \n",
    "Just like visualization is crucial for standard CSV data, it is also important for text data. But text doesn't lend itself to histograms or scatterplots the way that numerical or even categorical data do. In such cases, **word clouds** are a common and useful tool:"
   ]
  },
  {
   "cell_type": "code",
   "execution_count": 15,
   "metadata": {},
   "outputs": [
    {
     "data": {
      "image/png": "[encoded data removed]",
      "text/plain": [
       "<Figure size 1440x432 with 1 Axes>"
      ]
     },
     "metadata": {
      "needs_background": "light"
     },
     "output_type": "display_data"
    }
   ],
   "source": [
    "# Importing the required parameter for plotting \n",
    "import matplotlib.pyplot as plt\n",
    "from wordcloud import WordCloud\n",
    "word_cloud_text = ''.join(data.text)\n",
    "wordcloud = WordCloud(max_font_size=100, max_words=100, background_color=\"white\",\\\n",
    "                          scale = 10,width=800, height=400).generate(word_cloud_text)\n",
    "plt.figure()\n",
    "plt.imshow(wordcloud, interpolation=\"bilinear\")\n",
    "plt.axis(\"off\")\n",
    "plt.show()"
   ]
  },
  {
   "cell_type": "markdown",
   "metadata": {},
   "source": [
    "### Exercise 3:\n",
    "\n",
    "Write a function `word_cloud_rating(data, star_value)` that constructs a word cloud from the subset of `data` that exhibit a certain `star_value`. Visualize the results of this function for 1-star reviews."
   ]
  },
  {
   "cell_type": "markdown",
   "metadata": {},
   "source": [
    "**Answer:** one possible solution is shown below:"
   ]
  },
  {
   "cell_type": "code",
   "execution_count": 16,
   "metadata": {},
   "outputs": [],
   "source": [
    "def word_cloud_rating(data,star_value):\n",
    "    \n",
    "    data_filtered = data[data.stars == star_value] #filtering according to the star value\n",
    "    Reviews = data_filtered.text\n",
    "\n",
    "    Reviews_text = ' '.join(Reviews.values) #joining all the words together\n",
    "\n",
    "    # Creating a word cloud object\n",
    "    wordcloud = WordCloud(max_font_size=100, max_words=100, background_color=\"white\",\\\n",
    "                          scale = 10,width=800, height=400).generate(Reviews_text)\n",
    "\n",
    "\n",
    "    # Plotting the generated word cloud\n",
    "    plt.figure()\n",
    "    plt.imshow(wordcloud, interpolation=\"bilinear\")\n",
    "    plt.axis(\"off\")\n",
    "    plt.show()"
   ]
  },
  {
   "cell_type": "code",
   "execution_count": 17,
   "metadata": {},
   "outputs": [
    {
     "data": {
      "image/png": "[encoded data removed]",
      "text/plain": [
       "<Figure size 1440x432 with 1 Axes>"
      ]
     },
     "metadata": {
      "needs_background": "light"
     },
     "output_type": "display_data"
    }
   ],
   "source": [
    "word_cloud_rating(data, 1)"
   ]
  },
  {
   "cell_type": "markdown",
   "metadata": {},
   "source": [
    "### Exercise 4:\n",
    "\n",
    "The word \"good\" seems to appear quite frequently in the negative reviews. Investigate why that is and come up with a reasonable explanation."
   ]
  },
  {
   "cell_type": "markdown",
   "metadata": {},
   "source": [
    " **Answer.** Let's look at the first 5 reviews containing 'good' with 1-star ratings to see if there are any discernible patterns:"
   ]
  },
  {
   "cell_type": "code",
   "execution_count": 18,
   "metadata": {},
   "outputs": [
    {
     "data": {
      "text/plain": [
       "['after reading the reviews on yelp, my boyfriend and i decided to give this place a try, especially since we are on a mission to try ramen in every city we visit.\\n\\nwe were really excited, as when we were in NYC, we had really good ramen. \\n\\nlistening to the reviews we started off with the gyoza appetizer - which was not as good as everyone says it is. It was pan fried with the thin layer of skin, but there was an aftertaste of soap water. Which I should have known, since the glass of water they served us was disgusting!\\n\\nWe had ordered the jumbo sumo ramen - beware, it is a very big bowl of noodles, which we did not expect.\\n\\nThe sumo ramen came with a half boil egg, seaweed, pork belly, and other veggies. The noodles and pork belly was good. Soup was tasteless.\\n\\nDefinitely would not go back again.',\n",
       " \"Came here for a friend's birthday. She had looked it up and thought it sound good. First of all, when we made reservations, they only had a 7pm time slot for us (we were looking for 8pm) and when we were there, we were seated in the lower area of the restaurant, which was pretty empty.\\n\\nThere was an extensive menu, everything on the menu sound good, but when we got our food - there was nothing special, especially for what we paid for it. \\n\\nThe pizza's are huge portions - so if you order it, make sure you share it.\\n\\nThere are 3 risottos on the menu, the seasonal vegetable one is the better one. Some of the pastas were portioned differently, some were huge, others were tiny - so be careful!\\n\\nThe food came out really fast after we ordered, so fast, that some of the food was cold (not sure if they make it in advance and just heat up afterwards). The desserts took forever to come.\\n\\nAt the end of the night when the bill came, there was a water service charge ($12.50) for 9 people for just getting tap water. And 18% gratuity after taxes.\\n\\nAtmosphere was good, but other than that I do not recommend this place at all.\",\n",
       " \"Horrible customer service!! Warning do not purchase anything from here, don't waste your time!!! Purchased $2,500 worth of furniture told sells person numerous times to deliver furniture in original boxes I didn't want it assembled.  Well received my delivery and everything was assembled!!!!! $700 table was damaged!!!! Living room furniture was stuffed in delivery truck with people's nasty old mattress....completely unprofessional and not worth it!!! Sent my whole order back for refund!! Called customer service talked with a guy named Chris, the absolute worst customer service agent I've ever spoken too.....Was missing the love seat, well guess what it's completely sold out.  Please spare your time and money! Don't waste it here, furniture might be good price but not worth the experience. I must save delivery guys were very nice.\",\n",
       " 'This whole place basically sucks and it\\'s even worse now. I have had so many bad experiences at this place, I just need to give up on it. \\n\\nA few years ago, Sheppard Centre was an alright place. When I lived at Yonge and Sheppard, there was a grocery store across the street and all the basics you would need st Sheppard Centre and it was good. \\n\\nSheppard Centre is at a major subway stop, in a hugely busy area, but somehow stores keep failing here. \\n\\nThat being the case, there are a few stores that are nice and handy. I would consider this mall for errands, now that I live away...except that the major reason for coming is gone now.\\n\\nSheppard Centre used to have 1 hour of free parking, which is a huge draw. You could go and park, run in and pick up your mail, or something from Shoppers Drug Mart and be on your way. They got rid of that. Not only that, but it\\'s $3.50 for half an hour or under!\\n\\nI think this is pretty pathetic for a crappy mall. \\n\\n\"OH, but they have to pay for their excellent staff!\" you say?\\n\\nYeah, let me tell you about the staff that work there. First of all, you should also know that the ticket machine to pay for your parking tickets likes to break down ALL THE TIME, so you have to go to the parking garage and drive up to the ticket booth, park in the non-parking spots, block traffic and go in and pay the guys sitting around in the office...an office with TV screens of the parking garage, where our car has been broken into before...but it\\'s not their fault. There are SIGNS that say they are not liable. Soooo...what are the TV screens for? To WATCH peoples\\' cars get broken into and laugh?\\n\\nRight, so back to the story! \\n\\nBefore I knew what to do when the machines broke down, I went to the in-mall security\\\\/info booth to ask. The guy was behind the booth, on the phone, having a personal conversation. He saw me, but turned away and continued for ten minutes. Finally he got off the phone and made like he was coming over...only to turn away at the last second and start going through some papers. Finally I called out and said, \"Excuse me?\" He told me he was busy and made a point of moving towards me as slowly as possible.\\n\\nThis isn\\'t the only time a staff member has been rude to me before. Dogs are allowed in the subway, so I was walking through once, to the subway entrance, HOLDING my dog, in my arms and a security guard chased me down to tell me dogs are not allowed. I told him I was just heading to the subway, so he followed me there to make sure. Yeah, because I really wanted to take my dog to the dollarstore and was clearly lying. GO STOP PEOPLE FROM BREAKING INTO CARS! \\n\\nBayview Village, down the street, or one subway stop over, has a Shoppers, a grocery store, a post office, a Blacks photography and clothing stores...like Sheppard Centre. It also has a Chapters with a Starbucks, an LCBO, GOOD restaurants and the people there are polite, the bathrooms nicer than mine at home AND parking is free.\\n\\nSo basically Sheppard Centre can bite me. I\\'m done with them.',\n",
       " 'Pandora charms are great, but not at this location. \\n\\nI purchased a charm from Pandora and it was put directly onto the bracelet. Overnight, I reconsidered one of the charms and wanted to exchange it. I brought it back, with the receipt, but was informed that I couldn\\'t exchange it, because it was on the bracelet. \\nI explained that it had been put there BY an employee. The manager was brought out and she was immediately snarky and rude towards me. She said she wouldn\\'t accept a charm that was \"all worn and beat up\". I encouraged her to look at the charm. She could clearly see it was in pristine condition. She glanced at my bracelet as a whole, but did not look at the charm, instead insisting that she could tell.\\n\\nSeriously lady, you don\\'t stand by your product at all? Your jewellery is so crappy it just gets beaten up and looks like crap after being worn for probably an hour total?!? This wasn\\'t even my fault!!! Plus, she could clearly see from my bracelet that I had spent a LOT of money on my bracelet and am a loyal customer. \\n\\nI know that if I had gotten a Pandora box and put the charm in it and brought it back, they would have exchanged it without a problem. I can\\'t now, because I\\'m sure I would be recognized. Instead I\\'ll go to another location...where perhaps I\\'ll be treated like a valued customer and not a leper. \\n\\nI\\'ve had bad experiences at this location before. The employees here seem to think customers are beneath them. Each location is independently owned, so needless to say I won\\'t purchase from this location again. Anyone who wants to purchase from Pandora I encourage you to check out the Scarborough or Fairview Mall locations. Always had good experiences at those locations. \\n\\nInstead I have sent a complaining email to Pandora head office. We\\'ll see what they respond with.']"
      ]
     },
     "execution_count": 18,
     "metadata": {},
     "output_type": "execute_result"
    }
   ],
   "source": [
    "[each for each in data[data.stars == 1].text if 'good' in each][:5]"
   ]
  },
  {
   "cell_type": "markdown",
   "metadata": {},
   "source": [
    "Reading each of the reviews, it is clear that good is mentioned in context like \"not as good\" or \"sound good\". This indicates that in the world of text we cannot go by single words (also called **1-grams**) alone. The context of the sentence or the surrounding words at least are very much necessary to understand the sentiment of a sentence."
   ]
  },
  {
   "cell_type": "markdown",
   "metadata": {},
   "source": [
    "## Count-based Representations (20 mts)"
   ]
  },
  {
   "cell_type": "markdown",
   "metadata": {},
   "source": [
    "### n-grams\n",
    "\n",
    "Since 1-grams are insufficient to understand the significance of certain words in our text, it is natural to consider blocks of words, or **n-grams**.\n",
    "\n",
    "The simplest version of the n-gram model, for $n > 1$, is the **bigram** model, which looks at pairs of consecutive words. For example, the sentence \"The quick brown fox jumps over the lazy dog\" would have tokens \"the quick\", \"quick brown\",..., \"lazy dog\". The following image (courtesy: google) explains this concept:\n",
    "\n",
    "![](ngrams.png)\n",
    "\n",
    "This has obvious advantages and disadvantages over looking at words individually:\n",
    "\n",
    "1. This retains the structure of the overall document, and\n",
    "2. It paves the way for analyzing words in contex; however,\n",
    "3. The dimension is vastly larger\n",
    "\n",
    "In practice, this last challenge can be truly daunting. As an example, *War and Peace* has 3 million characters, which translates to several hundred thousand 1-grams (words). If you consider that the set of all possible bigrams can be as large as the square of the number of 1-grams, this gets us to a hundred billion possible bigrams! If classical ML techniques are not suitable for training on 3 million characters, how can they possibly deal with a hundred billion dimensions?\n",
    "\n",
    "For this reason, it is often prudent to start by extracting as much value out of 1-grams as possible, before working our way up to more complex structures."
   ]
  },
  {
   "cell_type": "markdown",
   "metadata": {},
   "source": [
    "In this section we also start to look at one of our main goals: calculating some \"interesting\" features of our corpus of reviews.\n",
    "\n",
    "When thinking about word analysis, the main topic of interest is finding an *efficient* and *low-dimensional* representation in order to facilitate document visualization and larger-scale analyses. We discuss two broad categories of word representations:\n",
    "\n",
    "1. `Count-based representations`: word-word and word-document matrices.\n",
    "2. `Word embeddings`: spectral embedding, UMAP, word2vec, GloVe, and many many more.\n",
    "\n",
    "These are often used to assist with downstream tasks such as sentiment analysis, which we'll cover soon.  \n",
    "\n",
    "We'll start with count-based representations: "
   ]
  },
  {
   "cell_type": "markdown",
   "metadata": {},
   "source": [
    "### Count-based representations\n",
    "\n",
    "n-grams fall under a broader category of techniques otherwise known as **count-based representations**. These are techniques to analyze documents by indicating how frequently certain types of structures occur throughout.\n",
    "\n",
    "Let's start with 1-grams (words). The simplest type of information would be whether a particular word occurs in particular documents. This leads to **word-document co-occurrence matrices**, where the $(W, X)$ entry of the word-document matrix is set to 1 if word $W$ occurs in document $X$, and 0 otherwise.\n",
    "\n",
    "There are many variants of this. In lieu of the fact that we are looking for count-based representations of our documents, one natural variable is the following: the $(W, X)$ entry of the word-document matrix equals the number of times that word $W$ occurs in document $X$, rather than merely being a binary variable.\n",
    "\n",
    "Let's create a word-document co-occurrence matrix for our set of reviews:"
   ]
  },
  {
   "cell_type": "code",
   "execution_count": 19,
   "metadata": {},
   "outputs": [
    {
     "data": {
      "text/html": [
       "<div>\n",
       "<style scoped>\n",
       "    .dataframe tbody tr th:only-of-type {\n",
       "        vertical-align: middle;\n",
       "    }\n",
       "\n",
       "    .dataframe tbody tr th {\n",
       "        vertical-align: top;\n",
       "    }\n",
       "\n",
       "    .dataframe thead th {\n",
       "        text-align: right;\n",
       "    }\n",
       "</style>\n",
       "<table border=\"1\" class=\"dataframe\">\n",
       "  <thead>\n",
       "    <tr style=\"text-align: right;\">\n",
       "      <th></th>\n",
       "      <th>00</th>\n",
       "      <th>000</th>\n",
       "      <th>0014</th>\n",
       "      <th>00429</th>\n",
       "      <th>00a</th>\n",
       "      <th>00am</th>\n",
       "      <th>00p</th>\n",
       "      <th>00pm</th>\n",
       "      <th>01</th>\n",
       "      <th>0146</th>\n",
       "      <th>...</th>\n",
       "      <th>可能說中文啊</th>\n",
       "      <th>在拉斯维加斯买了新房子</th>\n",
       "      <th>布艺隔热性不强</th>\n",
       "      <th>所以用了实木的百叶窗</th>\n",
       "      <th>推荐卓越窗帘给大家</th>\n",
       "      <th>本来想安装布艺窗帘</th>\n",
       "      <th>知道拉斯维加斯特别热</th>\n",
       "      <th>而且价格实惠</th>\n",
       "      <th>隔热</th>\n",
       "      <th>非常漂亮</th>\n",
       "    </tr>\n",
       "  </thead>\n",
       "  <tbody>\n",
       "    <tr>\n",
       "      <th>0</th>\n",
       "      <td>0</td>\n",
       "      <td>0</td>\n",
       "      <td>0</td>\n",
       "      <td>0</td>\n",
       "      <td>0</td>\n",
       "      <td>0</td>\n",
       "      <td>0</td>\n",
       "      <td>0</td>\n",
       "      <td>0</td>\n",
       "      <td>0</td>\n",
       "      <td>...</td>\n",
       "      <td>0</td>\n",
       "      <td>0</td>\n",
       "      <td>0</td>\n",
       "      <td>0</td>\n",
       "      <td>0</td>\n",
       "      <td>0</td>\n",
       "      <td>0</td>\n",
       "      <td>0</td>\n",
       "      <td>0</td>\n",
       "      <td>0</td>\n",
       "    </tr>\n",
       "    <tr>\n",
       "      <th>1</th>\n",
       "      <td>0</td>\n",
       "      <td>0</td>\n",
       "      <td>0</td>\n",
       "      <td>0</td>\n",
       "      <td>0</td>\n",
       "      <td>0</td>\n",
       "      <td>0</td>\n",
       "      <td>0</td>\n",
       "      <td>0</td>\n",
       "      <td>0</td>\n",
       "      <td>...</td>\n",
       "      <td>0</td>\n",
       "      <td>0</td>\n",
       "      <td>0</td>\n",
       "      <td>0</td>\n",
       "      <td>0</td>\n",
       "      <td>0</td>\n",
       "      <td>0</td>\n",
       "      <td>0</td>\n",
       "      <td>0</td>\n",
       "      <td>0</td>\n",
       "    </tr>\n",
       "    <tr>\n",
       "      <th>2</th>\n",
       "      <td>0</td>\n",
       "      <td>0</td>\n",
       "      <td>0</td>\n",
       "      <td>0</td>\n",
       "      <td>0</td>\n",
       "      <td>0</td>\n",
       "      <td>0</td>\n",
       "      <td>0</td>\n",
       "      <td>0</td>\n",
       "      <td>0</td>\n",
       "      <td>...</td>\n",
       "      <td>0</td>\n",
       "      <td>0</td>\n",
       "      <td>0</td>\n",
       "      <td>0</td>\n",
       "      <td>0</td>\n",
       "      <td>0</td>\n",
       "      <td>0</td>\n",
       "      <td>0</td>\n",
       "      <td>0</td>\n",
       "      <td>0</td>\n",
       "    </tr>\n",
       "    <tr>\n",
       "      <th>3</th>\n",
       "      <td>0</td>\n",
       "      <td>0</td>\n",
       "      <td>0</td>\n",
       "      <td>0</td>\n",
       "      <td>0</td>\n",
       "      <td>0</td>\n",
       "      <td>0</td>\n",
       "      <td>0</td>\n",
       "      <td>0</td>\n",
       "      <td>0</td>\n",
       "      <td>...</td>\n",
       "      <td>0</td>\n",
       "      <td>0</td>\n",
       "      <td>0</td>\n",
       "      <td>0</td>\n",
       "      <td>0</td>\n",
       "      <td>0</td>\n",
       "      <td>0</td>\n",
       "      <td>0</td>\n",
       "      <td>0</td>\n",
       "      <td>0</td>\n",
       "    </tr>\n",
       "    <tr>\n",
       "      <th>4</th>\n",
       "      <td>0</td>\n",
       "      <td>0</td>\n",
       "      <td>0</td>\n",
       "      <td>0</td>\n",
       "      <td>0</td>\n",
       "      <td>0</td>\n",
       "      <td>0</td>\n",
       "      <td>0</td>\n",
       "      <td>0</td>\n",
       "      <td>0</td>\n",
       "      <td>...</td>\n",
       "      <td>0</td>\n",
       "      <td>0</td>\n",
       "      <td>0</td>\n",
       "      <td>0</td>\n",
       "      <td>0</td>\n",
       "      <td>0</td>\n",
       "      <td>0</td>\n",
       "      <td>0</td>\n",
       "      <td>0</td>\n",
       "      <td>0</td>\n",
       "    </tr>\n",
       "  </tbody>\n",
       "</table>\n",
       "<p>5 rows × 31803 columns</p>\n",
       "</div>"
      ],
      "text/plain": [
       "   00  000  0014  00429  00a  00am  00p  00pm  01  0146  ...  可能說中文啊  \\\n",
       "0   0    0     0      0    0     0    0     0   0     0  ...       0   \n",
       "1   0    0     0      0    0     0    0     0   0     0  ...       0   \n",
       "2   0    0     0      0    0     0    0     0   0     0  ...       0   \n",
       "3   0    0     0      0    0     0    0     0   0     0  ...       0   \n",
       "4   0    0     0      0    0     0    0     0   0     0  ...       0   \n",
       "\n",
       "   在拉斯维加斯买了新房子  布艺隔热性不强  所以用了实木的百叶窗  推荐卓越窗帘给大家  本来想安装布艺窗帘  知道拉斯维加斯特别热  而且价格实惠  \\\n",
       "0            0        0           0          0          0           0       0   \n",
       "1            0        0           0          0          0           0       0   \n",
       "2            0        0           0          0          0           0       0   \n",
       "3            0        0           0          0          0           0       0   \n",
       "4            0        0           0          0          0           0       0   \n",
       "\n",
       "   隔热  非常漂亮  \n",
       "0   0     0  \n",
       "1   0     0  \n",
       "2   0     0  \n",
       "3   0     0  \n",
       "4   0     0  \n",
       "\n",
       "[5 rows x 31803 columns]"
      ]
     },
     "execution_count": 19,
     "metadata": {},
     "output_type": "execute_result"
    }
   ],
   "source": [
    "# The following code creates a word-document matrix.\n",
    "from sklearn.feature_extraction.text import CountVectorizer\n",
    "\n",
    "vec = CountVectorizer()\n",
    "X = vec.fit_transform(AllReviews)\n",
    "df = pd.DataFrame(X.toarray(), columns=vec.get_feature_names())\n",
    "df.head()"
   ]
  },
  {
   "cell_type": "markdown",
   "metadata": {},
   "source": [
    "### Exercise 5:\n",
    "\n",
    "Find all the high-frequency (top 1%) and low-frequency (bottom 1%) words in the reviews overall. (Hint: import the `Counter()` function from the `collections` class.)"
   ]
  },
  {
   "cell_type": "markdown",
   "metadata": {},
   "source": [
    "**Answer.** One possible solution is shown below:"
   ]
  },
  {
   "cell_type": "code",
   "execution_count": 20,
   "metadata": {},
   "outputs": [
    {
     "data": {
      "text/plain": [
       "46305"
      ]
     },
     "execution_count": 20,
     "metadata": {},
     "output_type": "execute_result"
    }
   ],
   "source": [
    "from collections import Counter\n",
    "\n",
    "all_reviews_text = ' '.join(AllReviews)\n",
    "tokenized_words = nltk.word_tokenize(all_reviews_text)\n",
    "word_freq = Counter(tokenized_words)\n",
    "\n",
    "len(word_freq)"
   ]
  },
  {
   "cell_type": "code",
   "execution_count": 21,
   "metadata": {},
   "outputs": [
    {
     "data": {
      "text/plain": [
       "[('.', 78692),\n",
       " ('the', 53661),\n",
       " (',', 49969),\n",
       " ('and', 43839),\n",
       " ('I', 39869),\n",
       " ('a', 35382),\n",
       " ('to', 30469),\n",
       " ('was', 23568),\n",
       " ('of', 20245),\n",
       " ('it', 16930),\n",
       " ('is', 16268),\n",
       " ('!', 15181),\n",
       " ('for', 15021),\n",
       " ('in', 14279),\n",
       " ('The', 11863),\n",
       " ('that', 11665),\n",
       " ('with', 11648),\n",
       " ('you', 10424),\n",
       " ('my', 9550),\n",
       " ('but', 9387),\n",
       " (\"n't\", 9006),\n",
       " ('on', 8996),\n",
       " (\"'s\", 8739),\n",
       " ('have', 8323),\n",
       " ('this', 7682),\n",
       " ('they', 7511),\n",
       " ('not', 7091),\n",
       " ('had', 7071),\n",
       " ('were', 6742),\n",
       " ('are', 6580),\n",
       " (')', 6361),\n",
       " ('we', 6165),\n",
       " ('at', 6004),\n",
       " ('so', 5918),\n",
       " ('(', 5646),\n",
       " ('place', 5536),\n",
       " ('be', 5492),\n",
       " ('good', 5428),\n",
       " ('as', 5407),\n",
       " ('me', 5097),\n",
       " ('food', 5024),\n",
       " ('It', 4753),\n",
       " ('here', 4459),\n",
       " ('like', 4417),\n",
       " ('out', 4324),\n",
       " ('there', 4195),\n",
       " ('just', 4053),\n",
       " ('...', 4053),\n",
       " ('do', 3930),\n",
       " ('all', 3884),\n",
       " ('very', 3802),\n",
       " ('or', 3722),\n",
       " ('great', 3685),\n",
       " ('get', 3670),\n",
       " ('time', 3652),\n",
       " ('one', 3644),\n",
       " ('We', 3628),\n",
       " ('from', 3563),\n",
       " ('would', 3528),\n",
       " ('up', 3523),\n",
       " ('did', 3425),\n",
       " ('their', 3310),\n",
       " ('if', 3287),\n",
       " ('which', 3284),\n",
       " ('an', 3111),\n",
       " ('They', 3101),\n",
       " ('our', 3080),\n",
       " ('back', 3069),\n",
       " ('really', 3058),\n",
       " ('about', 2971),\n",
       " ('some', 2948),\n",
       " ('when', 2869),\n",
       " ('service', 2865),\n",
       " ('can', 2847),\n",
       " ('$', 2836),\n",
       " ('your', 2811),\n",
       " ('go', 2772),\n",
       " ('-', 2705),\n",
       " ('been', 2602),\n",
       " ('will', 2599),\n",
       " ('more', 2591),\n",
       " ('?', 2589),\n",
       " (\"'ve\", 2527),\n",
       " ('what', 2506),\n",
       " ('also', 2485),\n",
       " ('This', 2411),\n",
       " (\"''\", 2365),\n",
       " ('``', 2298),\n",
       " (':', 2290),\n",
       " (\"'m\", 2283),\n",
       " ('because', 2268),\n",
       " ('by', 2250),\n",
       " ('only', 2226),\n",
       " ('them', 2220),\n",
       " ('nice', 2217),\n",
       " ('has', 2110),\n",
       " ('too', 2103),\n",
       " ('us', 2092),\n",
       " ('other', 2090),\n",
       " ('little', 2053),\n",
       " ('no', 2015),\n",
       " ('well', 1950),\n",
       " ('could', 1930),\n",
       " ('than', 1919),\n",
       " ('ordered', 1918),\n",
       " ('My', 1907),\n",
       " ('got', 1893),\n",
       " ('even', 1824),\n",
       " ('try', 1717),\n",
       " ('she', 1706),\n",
       " ('menu', 1694),\n",
       " ('order', 1677),\n",
       " ('he', 1674),\n",
       " ('always', 1669),\n",
       " ('came', 1657),\n",
       " ('restaurant', 1614),\n",
       " ('people', 1604),\n",
       " ('much', 1592),\n",
       " ('come', 1572),\n",
       " ('love', 1530),\n",
       " ('pretty', 1528),\n",
       " ('friendly', 1477),\n",
       " ('staff', 1476),\n",
       " (\"'re\", 1474),\n",
       " ('chicken', 1469),\n",
       " ('best', 1432),\n",
       " ('off', 1428),\n",
       " ('over', 1420),\n",
       " ('after', 1410),\n",
       " ('know', 1408),\n",
       " ('first', 1399),\n",
       " ('make', 1386),\n",
       " ('made', 1378),\n",
       " ('never', 1368),\n",
       " ('delicious', 1364),\n",
       " ('sauce', 1338),\n",
       " ('two', 1336),\n",
       " ('how', 1314),\n",
       " ('her', 1308),\n",
       " ('definitely', 1291),\n",
       " ('think', 1286),\n",
       " ('went', 1285),\n",
       " ('again', 1283),\n",
       " ('right', 1261),\n",
       " ('If', 1259),\n",
       " ('bar', 1252),\n",
       " ('better', 1246),\n",
       " ('experience', 1234),\n",
       " ('around', 1232),\n",
       " ('sure', 1225),\n",
       " ('any', 1220),\n",
       " ('few', 1220),\n",
       " ('want', 1218),\n",
       " ('who', 1212),\n",
       " ('way', 1209),\n",
       " ('There', 1206),\n",
       " ('wait', 1199),\n",
       " ('going', 1191),\n",
       " ('before', 1182),\n",
       " ('area', 1176),\n",
       " ('day', 1157),\n",
       " (\"'ll\", 1149),\n",
       " ('then', 1143),\n",
       " ('bit', 1141),\n",
       " ('see', 1137),\n",
       " ('small', 1133),\n",
       " ('though', 1128),\n",
       " ('still', 1116),\n",
       " ('night', 1112),\n",
       " ('down', 1111),\n",
       " ('said', 1104),\n",
       " ('And', 1101),\n",
       " ('take', 1098),\n",
       " ('So', 1096),\n",
       " ('am', 1086),\n",
       " ('say', 1084),\n",
       " ('lunch', 1079),\n",
       " ('&', 1060),\n",
       " ('2', 1051),\n",
       " ('fresh', 1046),\n",
       " ('You', 1043),\n",
       " ('new', 1042),\n",
       " ('something', 1026),\n",
       " ('find', 1020),\n",
       " ('cheese', 1010),\n",
       " ('table', 1008),\n",
       " ('since', 1000),\n",
       " ('But', 999),\n",
       " ('side', 996),\n",
       " ('salad', 996),\n",
       " ('into', 994),\n",
       " ('minutes', 994),\n",
       " ('times', 991),\n",
       " ('being', 991),\n",
       " ('location', 986),\n",
       " ('most', 975),\n",
       " ('eat', 975),\n",
       " ('lot', 973),\n",
       " ('while', 970),\n",
       " ('give', 965),\n",
       " ('many', 946),\n",
       " ('de', 943),\n",
       " ('amazing', 938),\n",
       " ('recommend', 932),\n",
       " ('feel', 917),\n",
       " ('now', 911),\n",
       " (\"'d\", 902),\n",
       " ('thing', 894),\n",
       " ('another', 889),\n",
       " ('long', 884),\n",
       " ('next', 881),\n",
       " ('took', 880),\n",
       " ('does', 879),\n",
       " ('where', 867),\n",
       " ('ever', 862),\n",
       " ('work', 854),\n",
       " ('meal', 849),\n",
       " ('looking', 849),\n",
       " ('tried', 843),\n",
       " ('room', 843),\n",
       " ('bad', 841),\n",
       " ('asked', 835),\n",
       " ('ca', 832),\n",
       " ('A', 822),\n",
       " ('drinks', 822),\n",
       " ('happy', 819),\n",
       " ('3', 815),\n",
       " ('told', 814),\n",
       " ('enough', 812),\n",
       " ('everything', 811),\n",
       " ('store', 806),\n",
       " ('pizza', 805),\n",
       " ('price', 801),\n",
       " ('5', 798),\n",
       " ('dinner', 797),\n",
       " ('sweet', 793),\n",
       " ('hot', 789),\n",
       " ('his', 783),\n",
       " ('She', 781),\n",
       " ('need', 779),\n",
       " ('last', 776),\n",
       " ('When', 770),\n",
       " ('different', 766),\n",
       " ('big', 765),\n",
       " ('every', 762),\n",
       " ('home', 757),\n",
       " ('super', 753),\n",
       " ('drink', 748),\n",
       " ('quite', 741),\n",
       " ('friend', 736),\n",
       " ('large', 736),\n",
       " ('He', 732),\n",
       " ('wanted', 729),\n",
       " ('Not', 728),\n",
       " ('taste', 723),\n",
       " ('things', 722),\n",
       " ('both', 718),\n",
       " ('dish', 716),\n",
       " (';', 714),\n",
       " ('should', 713),\n",
       " ('flavor', 703),\n",
       " ('sandwich', 702),\n",
       " ('Vegas', 700),\n",
       " ('worth', 698),\n",
       " ('Great', 697),\n",
       " ('away', 694),\n",
       " ('meat', 689),\n",
       " ('spot', 688),\n",
       " ('clean', 686),\n",
       " ('same', 685),\n",
       " ('hour', 685),\n",
       " ('server', 677),\n",
       " ('inside', 675),\n",
       " ('those', 674),\n",
       " ('stars', 665),\n",
       " ('For', 662),\n",
       " ('fries', 661),\n",
       " ('places', 661),\n",
       " ('found', 661),\n",
       " ('rice', 658),\n",
       " ('et', 652),\n",
       " ('prices', 645),\n",
       " ('top', 644),\n",
       " ('favorite', 644),\n",
       " ('4', 639),\n",
       " ('quality', 638),\n",
       " ('through', 637),\n",
       " ('Our', 634),\n",
       " ('special', 633),\n",
       " ('car', 629),\n",
       " ('friends', 628),\n",
       " ('awesome', 628),\n",
       " (\"'\", 627),\n",
       " ('its', 627),\n",
       " ('thought', 625),\n",
       " ('coffee', 624),\n",
       " ('bread', 624),\n",
       " ('items', 614),\n",
       " ('check', 614),\n",
       " ('visit', 614),\n",
       " ('actually', 613),\n",
       " ('review', 611),\n",
       " ('nothing', 610),\n",
       " ('perfect', 608),\n",
       " ('That', 606),\n",
       " ('served', 603),\n",
       " ('full', 593),\n",
       " ('burger', 592),\n",
       " ('selection', 591),\n",
       " ('left', 590),\n",
       " ('years', 589),\n",
       " ('anything', 589),\n",
       " ('customer', 585),\n",
       " ('decided', 584),\n",
       " ('look', 577),\n",
       " ('10', 575),\n",
       " ('coming', 571),\n",
       " ('sushi', 568),\n",
       " ('dishes', 566),\n",
       " ('probably', 566),\n",
       " ('couple', 563),\n",
       " ('free', 562),\n",
       " ('fun', 561),\n",
       " ('getting', 561),\n",
       " ('kind', 558),\n",
       " ('beer', 555),\n",
       " ('him', 553),\n",
       " ('without', 553),\n",
       " ('ask', 553),\n",
       " ('options', 552),\n",
       " ('tasty', 551),\n",
       " ('done', 550),\n",
       " ('excellent', 548),\n",
       " ('fried', 546),\n",
       " ('husband', 546),\n",
       " ('these', 544),\n",
       " ('busy', 539),\n",
       " ('i', 538),\n",
       " ('far', 537),\n",
       " ('half', 536),\n",
       " ('once', 534),\n",
       " ('enjoy', 534),\n",
       " ('else', 532),\n",
       " ('cream', 528),\n",
       " ('usually', 523),\n",
       " ('having', 521),\n",
       " ('enjoyed', 519),\n",
       " ('As', 519),\n",
       " ('All', 519),\n",
       " ('use', 516),\n",
       " ('water', 516),\n",
       " ('soup', 516),\n",
       " ('breakfast', 515),\n",
       " ('open', 515),\n",
       " ('chocolate', 513),\n",
       " ('end', 513),\n",
       " ('why', 513),\n",
       " ('outside', 511),\n",
       " ('used', 511),\n",
       " ('quick', 509),\n",
       " ('hard', 507),\n",
       " ('each', 504),\n",
       " ('line', 502),\n",
       " ('old', 501),\n",
       " ('looked', 501),\n",
       " ('let', 499),\n",
       " ('huge', 497),\n",
       " ('atmosphere', 495),\n",
       " ('put', 493),\n",
       " ('house', 493),\n",
       " ('fish', 490),\n",
       " ('front', 489),\n",
       " ('shop', 486),\n",
       " ('part', 485),\n",
       " ('decent', 484),\n",
       " ('able', 483),\n",
       " ('called', 483),\n",
       " ('care', 479),\n",
       " ('cool', 479),\n",
       " ('No', 478),\n",
       " ('la', 478),\n",
       " ('gave', 477),\n",
       " ('business', 477),\n",
       " ('tables', 476),\n",
       " ('pork', 474),\n",
       " ('several', 473),\n",
       " ('spicy', 469),\n",
       " ('course', 466),\n",
       " ('high', 465),\n",
       " ('beef', 464),\n",
       " ('least', 464),\n",
       " ('parking', 463),\n",
       " ('After', 459),\n",
       " ('wine', 458),\n",
       " ('What', 457),\n",
       " ('cooked', 456),\n",
       " ('le', 456),\n",
       " ('walk', 455),\n",
       " ('close', 455),\n",
       " ('--', 454),\n",
       " ('loved', 452),\n",
       " ('Service', 450),\n",
       " ('name', 450),\n",
       " ('everyone', 449),\n",
       " ('tea', 446),\n",
       " ('disappointed', 445),\n",
       " ('almost', 445),\n",
       " ('1', 444),\n",
       " ('pay', 444),\n",
       " ('maybe', 443),\n",
       " ('return', 438),\n",
       " ('less', 436),\n",
       " ('ice', 436),\n",
       " ('during', 436),\n",
       " ('dining', 436),\n",
       " ('family', 435),\n",
       " ('must', 435),\n",
       " ('waitress', 433),\n",
       " ('call', 430),\n",
       " ('dessert', 430),\n",
       " ('whole', 430),\n",
       " ('three', 429),\n",
       " ('fast', 428),\n",
       " ('helpful', 426),\n",
       " ('tasted', 425),\n",
       " ('especially', 425),\n",
       " ('such', 425),\n",
       " ('fantastic', 424),\n",
       " ('seemed', 424),\n",
       " ('Also', 423),\n",
       " ('someone', 423),\n",
       " ('Their', 421),\n",
       " ('trying', 421),\n",
       " ('own', 419),\n",
       " ('job', 417),\n",
       " ('reviews', 417),\n",
       " ('town', 417),\n",
       " ('sit', 417),\n",
       " ('tell', 417),\n",
       " ('size', 416),\n",
       " ('group', 414),\n",
       " ('felt', 414),\n",
       " ('offer', 414),\n",
       " ('star', 414),\n",
       " ('One', 413),\n",
       " ('restaurants', 411),\n",
       " ('hours', 410),\n",
       " ('makes', 409),\n",
       " ('started', 406),\n",
       " ('In', 406),\n",
       " ('might', 405),\n",
       " ('un', 404),\n",
       " ('point', 403),\n",
       " ('steak', 403),\n",
       " ('waiting', 402),\n",
       " ('until', 401),\n",
       " ('liked', 395),\n",
       " ('chips', 391),\n",
       " ('needed', 390),\n",
       " ('Overall', 389),\n",
       " ('decor', 388),\n",
       " ('seating', 386),\n",
       " ('door', 385)]"
      ]
     },
     "execution_count": 21,
     "metadata": {},
     "output_type": "execute_result"
    }
   ],
   "source": [
    "## Therefore, top 1% is ~463 words\n",
    "word_freq.most_common(463)"
   ]
  },
  {
   "cell_type": "code",
   "execution_count": 22,
   "metadata": {},
   "outputs": [
    {
     "data": {
      "text/plain": [
       "[('chillax-with-friends', 1),\n",
       " ('Fino', 1),\n",
       " ('Vaz', 1),\n",
       " ('Knowledge', 1),\n",
       " ('Conversational', 1),\n",
       " ('scripted', 1),\n",
       " ('Charla', 1),\n",
       " ('myselfShe', 1),\n",
       " ('aurora', 1),\n",
       " ('back-in-the-day', 1),\n",
       " ('Coras', 1),\n",
       " ('interrupting', 1),\n",
       " ('Mojitos', 1),\n",
       " ('Elote', 1),\n",
       " ('locos', 1),\n",
       " ('SPEED', 1),\n",
       " ('MCDONALD', 1),\n",
       " ('truest', 1),\n",
       " ('tagged', 1),\n",
       " ('Cruz', 1),\n",
       " ('Jetson', 1),\n",
       " ('Schrager', 1),\n",
       " ('Vics', 1),\n",
       " ('FWIW', 1),\n",
       " ('Kimpton', 1),\n",
       " ('Hogs', 1),\n",
       " ('communiting', 1),\n",
       " ('Suggested', 1),\n",
       " ('277', 1),\n",
       " ('275-near', 1),\n",
       " ('365-far', 1),\n",
       " ('201-central', 1),\n",
       " ('unmarked', 1),\n",
       " ('corridors', 1),\n",
       " ('RP', 1),\n",
       " ('Gianfranco', 1),\n",
       " ('Adriatic', 1),\n",
       " ('Montepulciano', 1),\n",
       " ('unloaded', 1),\n",
       " ('bellmen', 1),\n",
       " ('unusable', 1),\n",
       " ('bad.', 1),\n",
       " ('subjective', 1),\n",
       " ('Loyd', 1),\n",
       " ('Roxy', 1),\n",
       " ('Burlesque', 1),\n",
       " ('Cleve', 1),\n",
       " ('attracks', 1),\n",
       " ('Fireplace', 1),\n",
       " ('undoubtably', 1),\n",
       " ('Phoenix\\\\/Scottsdale', 1),\n",
       " ('Would\\\\/will', 1),\n",
       " ('cowboys', 1),\n",
       " ('Numerous', 1),\n",
       " ('Positive', 1),\n",
       " ('contend', 1),\n",
       " ('FS', 1),\n",
       " ('Tarbell', 1),\n",
       " ('extensively', 1),\n",
       " ('Tallavera', 1),\n",
       " ('Acacia', 1),\n",
       " ('Boulders', 1),\n",
       " ('CONS', 1),\n",
       " ('TT', 1),\n",
       " ('bordeaux', 1),\n",
       " ('Sancerre', 1),\n",
       " ('Manthers', 1),\n",
       " ('Cleveberg', 1),\n",
       " ('Puts', 1),\n",
       " ('infinoty', 1),\n",
       " ('setvice', 1),\n",
       " ('s7', 1),\n",
       " ('grubbin', 1),\n",
       " ('GRUBBING', 1),\n",
       " ('thatnk', 1),\n",
       " ('truss', 1),\n",
       " ('joann', 1),\n",
       " ('smidge', 1),\n",
       " ('disgusts', 1),\n",
       " ('serval', 1),\n",
       " ('omurice', 1),\n",
       " ('rice\\\\/pasta', 1),\n",
       " ('Hub', 1),\n",
       " ('ackee', 1),\n",
       " ('congees', 1),\n",
       " ('Gonoe', 1),\n",
       " ('japchae', 1),\n",
       " ('handroll', 1),\n",
       " ('RMT', 1),\n",
       " ('bbt', 1),\n",
       " ('Kum', 1),\n",
       " ('Skyview', 1),\n",
       " ('Myungdong', 1),\n",
       " ('Kalkuksu', 1),\n",
       " ('407', 1),\n",
       " ('bossam', 1),\n",
       " ('Myundong', 1),\n",
       " ('44.95', 1),\n",
       " ('36.99', 1),\n",
       " ('handrolls', 1),\n",
       " ('Gyukai', 1),\n",
       " ('Tsukemen', 1),\n",
       " ('woodoven', 1),\n",
       " ('29.99', 1),\n",
       " ('re-discovered', 1),\n",
       " ('Agreed', 1),\n",
       " ('cheesebake', 1),\n",
       " ('6.85', 1),\n",
       " ('ika', 1),\n",
       " ('fishball', 1),\n",
       " ('Torched', 1),\n",
       " ('yam', 1),\n",
       " ('905', 1),\n",
       " ('Kaji.I', 1),\n",
       " ('longan', 1),\n",
       " ('A___erto', 1),\n",
       " ('Barilla', 1),\n",
       " ('saaauwces', 1),\n",
       " ('saauwce', 1),\n",
       " ('Whatchyou', 1),\n",
       " ('Logan', 1),\n",
       " ('woth', 1),\n",
       " ('Wing', 1),\n",
       " ('0.35', 1),\n",
       " (\"O'Connell\", 1),\n",
       " (\"'gwei\", 1),\n",
       " ('Monkland', 1),\n",
       " ('Ninth', 1),\n",
       " ('Parallel', 1),\n",
       " ('spinner', 1),\n",
       " ('Benu', 1),\n",
       " ('Quince', 1),\n",
       " ('Saison', 1),\n",
       " ('revered', 1),\n",
       " ('Versailles', 1),\n",
       " ('Bold', 1),\n",
       " ('ivy', 1),\n",
       " ('broadcasts', 1),\n",
       " ('best-in-class', 1),\n",
       " ('degustation', 1),\n",
       " ('Langoustine', 1),\n",
       " ('preperation', 1),\n",
       " ('Noix', 1),\n",
       " ('Saint-Jacques', 1),\n",
       " ('relates', 1),\n",
       " ('weeks\\\\/months', 1),\n",
       " ('Wonka-esque', 1),\n",
       " ('Admit', 1),\n",
       " ('irreverent', 1),\n",
       " ('stuffier', 1),\n",
       " ('melty-ess', 1),\n",
       " ('savoriest', 1),\n",
       " ('brine', 1),\n",
       " ('malai', 1),\n",
       " ('bought\\\\/transferred', 1),\n",
       " ('leadership', 1),\n",
       " ('supervisors', 1),\n",
       " ('Cunningham', 1),\n",
       " ('mid-size', 1),\n",
       " ('young-uns', 1),\n",
       " ('Steeler', 1),\n",
       " ('Pluses', 1),\n",
       " ('dismissive', 1),\n",
       " ('Pantages', 1),\n",
       " ('númerous', 1),\n",
       " ('Reviewed', 1),\n",
       " ('refunding', 1),\n",
       " ('imperfections', 1),\n",
       " ('C-', 1),\n",
       " ('AGH', 1),\n",
       " ('Beets', 1),\n",
       " ('aps', 1),\n",
       " ('220', 1),\n",
       " ('260.00', 1),\n",
       " ('720.00', 1),\n",
       " ('720', 1),\n",
       " ('BUFFALO', 1),\n",
       " ('DIP', 1),\n",
       " ('worms', 1),\n",
       " ('dunkaroo', 1),\n",
       " ('Chaison', 1),\n",
       " ('Nivatvongs-Tobin', 1),\n",
       " ('amazeballz', 1),\n",
       " ('atetoomuchoffhehappyhourmenu', 1),\n",
       " ('.from', 1),\n",
       " ('Alot', 1),\n",
       " ('Kyklos', 1),\n",
       " ('Flaming', 1),\n",
       " ('Empanadas', 1),\n",
       " ('Rodriguez', 1),\n",
       " ('wouldve', 1),\n",
       " ('mundo', 1),\n",
       " ('tequila.they', 1),\n",
       " ('shocked\\\\/put', 1),\n",
       " ('1:28', 1),\n",
       " ('Liz.She', 1),\n",
       " ('fabulous.She', 1),\n",
       " ('restaurant.I', 1),\n",
       " ('Colman', 1),\n",
       " ('unamused', 1),\n",
       " ('Kimmy.She', 1),\n",
       " ('unpersonable', 1),\n",
       " ('table.the', 1),\n",
       " ('Pearle', 1),\n",
       " ('Diavola', 1),\n",
       " ('thumble', 1),\n",
       " ('Weekly', 1),\n",
       " ('Kiki', 1),\n",
       " ('Burger..perfect', 1),\n",
       " ('BUN', 1),\n",
       " ('Dalton', 1),\n",
       " ('Bryce', 1),\n",
       " ('restaurant.Waittttt', 1),\n",
       " ('Xoxo', 1),\n",
       " ('geoduck', 1),\n",
       " ('Layne', 1),\n",
       " ('amazeaballs', 1),\n",
       " ('beauties', 1),\n",
       " ('4pm-6:00pm', 1),\n",
       " ('Handlers', 1),\n",
       " ('Archi', 1),\n",
       " ('strayed', 1),\n",
       " ('a***es', 1),\n",
       " ('inducted', 1),\n",
       " ('ladie', 1),\n",
       " ('gem.But', 1),\n",
       " ('BM', 1),\n",
       " ('sunday.you', 1),\n",
       " ('strings.I', 1),\n",
       " ('homeade', 1),\n",
       " ('Vincanto', 1),\n",
       " ('Leche', 1),\n",
       " ('Lindo', 1),\n",
       " ('Chinita', 1),\n",
       " ('ramenDX', 1),\n",
       " ('Five50', 1),\n",
       " ('Degrees', 1),\n",
       " ('cavi-lipo', 1),\n",
       " ('Burquest', 1),\n",
       " ('Melinda', 1),\n",
       " ('tues', 1),\n",
       " ('too.a', 1),\n",
       " ('Humbolt', 1),\n",
       " ('Jamón', 1),\n",
       " ('restaurant.We', 1),\n",
       " ('Zmon', 1),\n",
       " ('Cegas', 1),\n",
       " ('nigiri.Get', 1),\n",
       " ('XXX2', 1),\n",
       " ('XXX3', 1),\n",
       " ('.everything', 1),\n",
       " ('in.stage', 1),\n",
       " ('week.get', 1),\n",
       " ('stoked', 1),\n",
       " ('Stefanie', 1),\n",
       " ('desk.Thank', 1),\n",
       " ('Letty', 1),\n",
       " ('Sergio', 1),\n",
       " ('Shroom', 1),\n",
       " ('Akexandra', 1),\n",
       " ('burger.The', 1),\n",
       " ('gaucho', 1),\n",
       " ('wings.unfreakin', 1),\n",
       " ('believable', 1),\n",
       " ('menu.I', 1),\n",
       " ('monday', 1),\n",
       " ('Randomness', 1),\n",
       " ('vocals.I', 1),\n",
       " ('wed', 1),\n",
       " ('cevape', 1),\n",
       " ('humongo', 1),\n",
       " ('3:30-6:30', 1),\n",
       " ('mon-Friday', 1),\n",
       " ('gardener', 1),\n",
       " ('G35', 1),\n",
       " ('Coupe', 1),\n",
       " ('thermostat', 1),\n",
       " ('lf', 1),\n",
       " ('.nothing', 1),\n",
       " ('pulley', 1),\n",
       " ('Weins', 1),\n",
       " ('Fl', 1),\n",
       " ('needs.NEVER', 1),\n",
       " ('civics', 1),\n",
       " ('builds', 1),\n",
       " ('Drag', 1),\n",
       " ('Cars', 1),\n",
       " ('building\\\\/racing', 1),\n",
       " ('memorial', 1),\n",
       " ('downpart', 1),\n",
       " ('.wings', 1),\n",
       " ('taphouse', 1),\n",
       " ('Resnable', 1),\n",
       " ('Consultation', 1),\n",
       " ('unrushed', 1),\n",
       " ('bucatini', 1),\n",
       " ('NINA', 1),\n",
       " ('pinwheels', 1),\n",
       " ('1LB', 1),\n",
       " ('Naga', 1),\n",
       " ('Qdobas', 1),\n",
       " ('madly', 1),\n",
       " ('F.Y', 1),\n",
       " ('gingivectomy', 1),\n",
       " ('anesthesia', 1),\n",
       " ('1800\\\\/implant', 1),\n",
       " ('re-experience', 1),\n",
       " ('goodwich', 1),\n",
       " ('1:20am', 1),\n",
       " ('slang', 1),\n",
       " ('Oden', 1),\n",
       " ('Raku-Tofu', 1),\n",
       " ('Agedashi-Tofu', 1),\n",
       " ('suzuya', 1),\n",
       " ('cakes\\\\/crepes', 1),\n",
       " ('Elk', 1),\n",
       " ('injector', 1),\n",
       " ('needles', 1),\n",
       " ('symmetrical', 1),\n",
       " ('bachi', 1),\n",
       " ('CFC', 1),\n",
       " ('Mentaiko-Don', 1),\n",
       " ('Hiyashi', 1),\n",
       " ('Chuka', 1),\n",
       " ('Managers', 1),\n",
       " ('annin-dofu', 1),\n",
       " ('hostess\\\\/servers', 1),\n",
       " ('monta\\\\/spring', 1),\n",
       " ('66', 1),\n",
       " ('card\\\\/cash', 1),\n",
       " ('Nakamuraya', 1),\n",
       " ('hiv', 1),\n",
       " ('std', 1),\n",
       " ('theyve', 1),\n",
       " ('nagger', 1),\n",
       " ('founder', 1),\n",
       " ('caregiver', 1),\n",
       " ('5-30', 1),\n",
       " ('CNAs', 1),\n",
       " ('Shrimps', 1),\n",
       " ('seamed', 1),\n",
       " ('meat\\\\/falafel', 1),\n",
       " ('alcohols', 1),\n",
       " ('cleanness', 1),\n",
       " ('consequences', 1),\n",
       " ('stylists\\\\/nail', 1),\n",
       " ('ichiza', 1),\n",
       " ('know\\\\/care', 1),\n",
       " ('up\\\\/cleaning', 1),\n",
       " ('Tori', 1),\n",
       " ('Tiana', 1),\n",
       " ('hawaii', 1),\n",
       " ('kiichi', 1),\n",
       " ('enjoed', 1),\n",
       " ('Firestone', 1),\n",
       " ('630', 1),\n",
       " ('not-so-savory', 1),\n",
       " ('stratosphere', 1),\n",
       " ('Fund', 1),\n",
       " ('Luv-It', 1),\n",
       " ('Prescribed', 1),\n",
       " ('acne-free', 1),\n",
       " ('persuasive', 1),\n",
       " ('whew', 1),\n",
       " ('opi', 1),\n",
       " ('Peso', 1),\n",
       " ('Fixed', 1),\n",
       " ('caucasian', 1),\n",
       " ('sahara', 1),\n",
       " ('Andreas', 1),\n",
       " ('90percent', 1),\n",
       " ('Tahini', 1),\n",
       " ('katsudon', 1),\n",
       " ('poke-bowl', 1),\n",
       " ('sushi\\\\/food', 1),\n",
       " ('puked', 1),\n",
       " ('Davio', 1),\n",
       " ('rewrite', 1),\n",
       " ('tea\\\\/milk', 1),\n",
       " ('Clinicians', 1),\n",
       " ('jargons', 1),\n",
       " ('Chinese\\\\/authentic', 1),\n",
       " ('panda-express', 1),\n",
       " ('Gow', 1),\n",
       " ('Food\\\\/beverage', 1),\n",
       " ('dippin', 1),\n",
       " ('aquafina', 1),\n",
       " ('SAMs', 1),\n",
       " ('Refer', 1),\n",
       " ('splitted', 1),\n",
       " ('spago', 1),\n",
       " ('Cioppino', 1),\n",
       " ('UNIQUE', 1),\n",
       " ('fragile', 1),\n",
       " ('flavor\\\\/texture', 1),\n",
       " ('bucks\\\\/a', 1),\n",
       " ('Moriawase', 1),\n",
       " ('30+minutes', 1),\n",
       " ('6:05pm', 1),\n",
       " ('TiNA', 1),\n",
       " ('Supersmile', 1),\n",
       " ('Communication', 1),\n",
       " ('examinations', 1),\n",
       " ('technique\\\\/machines', 1),\n",
       " ('grape\\\\/bubble', 1),\n",
       " ('go-pro', 1),\n",
       " ('X-rated', 1),\n",
       " ('Tsutomu-San', 1),\n",
       " ('locomoco', 1),\n",
       " ('menu.BTW', 1),\n",
       " ('Russel', 1),\n",
       " ('henderson', 1),\n",
       " ('Mariott', 1),\n",
       " ('Consiglio', 1),\n",
       " ('mother-in-law', 1),\n",
       " ('matboard', 1),\n",
       " ('smugly', 1),\n",
       " ('radiologic', 1),\n",
       " ('Grimy', 1),\n",
       " ('penicillin', 1),\n",
       " ('However-', 1),\n",
       " ('customers-', 1),\n",
       " ('RN', 1),\n",
       " ('unprofessionalism', 1),\n",
       " ('Selma', 1),\n",
       " ('=0', 1),\n",
       " ('volt', 1),\n",
       " ('subletting', 1),\n",
       " ('terminate', 1),\n",
       " ('hundred\\\\/month', 1),\n",
       " ('leg\\\\/foot', 1),\n",
       " ('pedi\\\\/mani-', 1),\n",
       " ('Ultas', 1),\n",
       " ('bourguignon', 1),\n",
       " ('real-time', 1),\n",
       " ('Rectory', 1),\n",
       " ('tenth', 1),\n",
       " ('ferry', 1),\n",
       " ('euthanize', 1),\n",
       " ('amend', 1),\n",
       " ('hypodermic', 1),\n",
       " ('five-minute', 1),\n",
       " ('9600', 1),\n",
       " ('catheter', 1),\n",
       " ('bodywork', 1),\n",
       " ('Xterra', 1),\n",
       " ('decal', 1),\n",
       " ('specialists', 1),\n",
       " ('Veterinarian', 1),\n",
       " ('Chicha', 1),\n",
       " ('papa', 1),\n",
       " ('saltado', 1),\n",
       " ('comming', 1),\n",
       " ('adventuredome', 1),\n",
       " ('delievery', 1),\n",
       " ('Mics', 1),\n",
       " ('cabling', 1),\n",
       " ('Ls', 1),\n",
       " ('Song', 1),\n",
       " ('geezer', 1),\n",
       " ('brained', 1),\n",
       " ('Hooples', 1)]"
      ]
     },
     "execution_count": 22,
     "metadata": {},
     "output_type": "execute_result"
    }
   ],
   "source": [
    "## Similarly, bottom 1% is ~463 words\n",
    "word_freq.most_common()[-463:-1]"
   ]
  },
  {
   "cell_type": "markdown",
   "metadata": {},
   "source": [
    "We can do the same for bigrams.  \n",
    "\n",
    "Let's get the bigrams for the first 5 reviews:"
   ]
  },
  {
   "cell_type": "code",
   "execution_count": 23,
   "metadata": {},
   "outputs": [
    {
     "data": {
      "text/plain": [
       "[('Super', 'simple'),\n",
       " ('simple', 'place'),\n",
       " ('place', 'but'),\n",
       " ('but', 'amazing'),\n",
       " ('amazing', 'nonetheless'),\n",
       " ('nonetheless', '.'),\n",
       " ('.', 'It'),\n",
       " ('It', \"'s\"),\n",
       " (\"'s\", 'been'),\n",
       " ('been', 'around'),\n",
       " ('around', 'since'),\n",
       " ('since', 'the'),\n",
       " ('the', '30'),\n",
       " ('30', \"'s\"),\n",
       " (\"'s\", 'and'),\n",
       " ('and', 'they'),\n",
       " ('they', 'still'),\n",
       " ('still', 'serve'),\n",
       " ('serve', 'the'),\n",
       " ('the', 'same'),\n",
       " ('same', 'thing'),\n",
       " ('thing', 'they'),\n",
       " ('they', 'started'),\n",
       " ('started', 'with'),\n",
       " ('with', ':'),\n",
       " (':', 'a'),\n",
       " ('a', 'bologna'),\n",
       " ('bologna', 'and'),\n",
       " ('and', 'salami'),\n",
       " ('salami', 'sandwich'),\n",
       " ('sandwich', 'with'),\n",
       " ('with', 'mustard'),\n",
       " ('mustard', '.'),\n",
       " ('.', 'Staff'),\n",
       " ('Staff', 'was'),\n",
       " ('was', 'very'),\n",
       " ('very', 'helpful'),\n",
       " ('helpful', 'and'),\n",
       " ('and', 'friendly.Small'),\n",
       " ('friendly.Small', 'unassuming'),\n",
       " ('unassuming', 'place'),\n",
       " ('place', 'that'),\n",
       " ('that', 'changes'),\n",
       " ('changes', 'their'),\n",
       " ('their', 'menu'),\n",
       " ('menu', 'every'),\n",
       " ('every', 'so'),\n",
       " ('so', 'often'),\n",
       " ('often', '.'),\n",
       " ('.', 'Cool'),\n",
       " ('Cool', 'decor'),\n",
       " ('decor', 'and'),\n",
       " ('and', 'vibe'),\n",
       " ('vibe', 'inside'),\n",
       " ('inside', 'their'),\n",
       " ('their', '30'),\n",
       " ('30', 'seat'),\n",
       " ('seat', 'restaurant'),\n",
       " ('restaurant', '.'),\n",
       " ('.', 'Call'),\n",
       " ('Call', 'for'),\n",
       " ('for', 'a'),\n",
       " ('a', 'reservation'),\n",
       " ('reservation', '.'),\n",
       " ('.', 'We'),\n",
       " ('We', 'had'),\n",
       " ('had', 'their'),\n",
       " ('their', 'beef'),\n",
       " ('beef', 'tartar'),\n",
       " ('tartar', 'and'),\n",
       " ('and', 'pork'),\n",
       " ('pork', 'belly'),\n",
       " ('belly', 'to'),\n",
       " ('to', 'start'),\n",
       " ('start', 'and'),\n",
       " ('and', 'a'),\n",
       " ('a', 'salmon'),\n",
       " ('salmon', 'dish'),\n",
       " ('dish', 'and'),\n",
       " ('and', 'lamb'),\n",
       " ('lamb', 'meal'),\n",
       " ('meal', 'for'),\n",
       " ('for', 'mains'),\n",
       " ('mains', '.'),\n",
       " ('.', 'Everything'),\n",
       " ('Everything', 'was'),\n",
       " ('was', 'incredible'),\n",
       " ('incredible', '!'),\n",
       " ('!', 'I'),\n",
       " ('I', 'could'),\n",
       " ('could', 'go'),\n",
       " ('go', 'on'),\n",
       " ('on', 'at'),\n",
       " ('at', 'length'),\n",
       " ('length', 'about'),\n",
       " ('about', 'how'),\n",
       " ('how', 'all'),\n",
       " ('all', 'the'),\n",
       " ('the', 'listed'),\n",
       " ('listed', 'ingredients'),\n",
       " ('ingredients', 'really'),\n",
       " ('really', 'make'),\n",
       " ('make', 'their'),\n",
       " ('their', 'dishes'),\n",
       " ('dishes', 'amazing'),\n",
       " ('amazing', 'but'),\n",
       " ('but', 'honestly'),\n",
       " ('honestly', 'you'),\n",
       " ('you', 'just'),\n",
       " ('just', 'need'),\n",
       " ('need', 'to'),\n",
       " ('to', 'go'),\n",
       " ('go', '.'),\n",
       " ('.', 'A'),\n",
       " ('A', 'bit'),\n",
       " ('bit', 'outside'),\n",
       " ('outside', 'of'),\n",
       " ('of', 'downtown'),\n",
       " ('downtown', 'montreal'),\n",
       " ('montreal', 'but'),\n",
       " ('but', 'take'),\n",
       " ('take', 'the'),\n",
       " ('the', 'metro'),\n",
       " ('metro', 'out'),\n",
       " ('out', 'and'),\n",
       " ('and', 'it'),\n",
       " ('it', \"'s\"),\n",
       " (\"'s\", 'less'),\n",
       " ('less', 'than'),\n",
       " ('than', 'a'),\n",
       " ('a', '10'),\n",
       " ('10', 'minute'),\n",
       " ('minute', 'walk'),\n",
       " ('walk', 'from'),\n",
       " ('from', 'the'),\n",
       " ('the', 'station.Lester'),\n",
       " ('station.Lester', \"'s\"),\n",
       " (\"'s\", 'is'),\n",
       " ('is', 'located'),\n",
       " ('located', 'in'),\n",
       " ('in', 'a'),\n",
       " ('a', 'beautiful'),\n",
       " ('beautiful', 'neighborhood'),\n",
       " ('neighborhood', 'and'),\n",
       " ('and', 'has'),\n",
       " ('has', 'been'),\n",
       " ('been', 'there'),\n",
       " ('there', 'since'),\n",
       " ('since', '1951'),\n",
       " ('1951', '.'),\n",
       " ('.', 'They'),\n",
       " ('They', 'are'),\n",
       " ('are', 'known'),\n",
       " ('known', 'for'),\n",
       " ('for', 'smoked'),\n",
       " ('smoked', 'meat'),\n",
       " ('meat', 'which'),\n",
       " ('which', 'most'),\n",
       " ('most', 'deli'),\n",
       " ('deli', \"'s\"),\n",
       " (\"'s\", 'have'),\n",
       " ('have', 'but'),\n",
       " ('but', 'their'),\n",
       " ('their', 'brisket'),\n",
       " ('brisket', 'sandwich'),\n",
       " ('sandwich', 'is'),\n",
       " ('is', 'what'),\n",
       " ('what', 'I'),\n",
       " ('I', 'come'),\n",
       " ('come', 'to'),\n",
       " ('to', 'montreal'),\n",
       " ('montreal', 'for'),\n",
       " ('for', '.'),\n",
       " ('.', 'They'),\n",
       " ('They', \"'ve\"),\n",
       " (\"'ve\", 'got'),\n",
       " ('got', 'about'),\n",
       " ('about', '12'),\n",
       " ('12', 'seats'),\n",
       " ('seats', 'outside'),\n",
       " ('outside', 'to'),\n",
       " ('to', 'go'),\n",
       " ('go', 'along'),\n",
       " ('along', 'with'),\n",
       " ('with', 'the'),\n",
       " ('the', 'inside'),\n",
       " ('inside', '.'),\n",
       " ('.', 'The'),\n",
       " ('The', 'smoked'),\n",
       " ('smoked', 'meat'),\n",
       " ('meat', 'is'),\n",
       " ('is', 'up'),\n",
       " ('up', 'there'),\n",
       " ('there', 'in'),\n",
       " ('in', 'quality'),\n",
       " ('quality', 'and'),\n",
       " ('and', 'taste'),\n",
       " ('taste', 'with'),\n",
       " ('with', 'Schwartz'),\n",
       " ('Schwartz', \"'s\"),\n",
       " (\"'s\", 'and'),\n",
       " ('and', 'you'),\n",
       " ('you', \"'ll\"),\n",
       " (\"'ll\", 'find'),\n",
       " ('find', 'less'),\n",
       " ('less', 'tourists'),\n",
       " ('tourists', 'at'),\n",
       " ('at', 'Lester'),\n",
       " ('Lester', \"'s\"),\n",
       " (\"'s\", 'as'),\n",
       " ('as', 'well.Love'),\n",
       " ('well.Love', 'coming'),\n",
       " ('coming', 'here'),\n",
       " ('here', '.'),\n",
       " ('.', 'Yes'),\n",
       " ('Yes', 'the'),\n",
       " ('the', 'place'),\n",
       " ('place', 'always'),\n",
       " ('always', 'needs'),\n",
       " ('needs', 'the'),\n",
       " ('the', 'floor'),\n",
       " ('floor', 'swept'),\n",
       " ('swept', 'but'),\n",
       " ('but', 'when'),\n",
       " ('when', 'you'),\n",
       " ('you', 'give'),\n",
       " ('give', 'out'),\n",
       " ('out', 'peanuts'),\n",
       " ('peanuts', 'in'),\n",
       " ('in', 'the'),\n",
       " ('the', 'shell'),\n",
       " ('shell', 'how'),\n",
       " ('how', 'wo'),\n",
       " ('wo', \"n't\"),\n",
       " (\"n't\", 'it'),\n",
       " ('it', 'always'),\n",
       " ('always', 'be'),\n",
       " ('be', 'a'),\n",
       " ('a', 'bit'),\n",
       " ('bit', 'dirty'),\n",
       " ('dirty', '.'),\n",
       " ('.', 'The'),\n",
       " ('The', 'food'),\n",
       " ('food', 'speaks'),\n",
       " ('speaks', 'for'),\n",
       " ('for', 'itself'),\n",
       " ('itself', ','),\n",
       " (',', 'so'),\n",
       " ('so', 'good'),\n",
       " ('good', '.'),\n",
       " ('.', 'Burgers'),\n",
       " ('Burgers', 'are'),\n",
       " ('are', 'made'),\n",
       " ('made', 'to'),\n",
       " ('to', 'order'),\n",
       " ('order', 'and'),\n",
       " ('and', 'the'),\n",
       " ('the', 'meat'),\n",
       " ('meat', 'is'),\n",
       " ('is', 'put'),\n",
       " ('put', 'on'),\n",
       " ('on', 'the'),\n",
       " ('the', 'grill'),\n",
       " ('grill', 'when'),\n",
       " ('when', 'you'),\n",
       " ('you', 'order'),\n",
       " ('order', 'your'),\n",
       " ('your', 'sandwich'),\n",
       " ('sandwich', '.'),\n",
       " ('.', 'Getting'),\n",
       " ('Getting', 'the'),\n",
       " ('the', 'small'),\n",
       " ('small', 'burger'),\n",
       " ('burger', 'just'),\n",
       " ('just', 'means'),\n",
       " ('means', '1'),\n",
       " ('1', 'patty'),\n",
       " ('patty', ','),\n",
       " (',', 'the'),\n",
       " ('the', 'regular'),\n",
       " ('regular', 'is'),\n",
       " ('is', 'a'),\n",
       " ('a', '2'),\n",
       " ('2', 'patty'),\n",
       " ('patty', 'burger'),\n",
       " ('burger', 'which'),\n",
       " ('which', 'is'),\n",
       " ('is', 'twice'),\n",
       " ('twice', 'the'),\n",
       " ('the', 'deliciousness'),\n",
       " ('deliciousness', '.'),\n",
       " ('.', 'Getting'),\n",
       " ('Getting', 'the'),\n",
       " ('the', 'Cajun'),\n",
       " ('Cajun', 'fries'),\n",
       " ('fries', 'adds'),\n",
       " ('adds', 'a'),\n",
       " ('a', 'bit'),\n",
       " ('bit', 'of'),\n",
       " ('of', 'spice'),\n",
       " ('spice', 'to'),\n",
       " ('to', 'them'),\n",
       " ('them', 'and'),\n",
       " ('and', 'whatever'),\n",
       " ('whatever', 'size'),\n",
       " ('size', 'you'),\n",
       " ('you', 'order'),\n",
       " ('order', 'they'),\n",
       " ('they', 'always'),\n",
       " ('always', 'throw'),\n",
       " ('throw', 'more'),\n",
       " ('more', 'fries'),\n",
       " ('fries', '('),\n",
       " ('(', 'a'),\n",
       " ('a', 'lot'),\n",
       " ('lot', 'more'),\n",
       " ('more', 'fries'),\n",
       " ('fries', ')'),\n",
       " (')', 'into'),\n",
       " ('into', 'the'),\n",
       " ('the', 'bag.Had'),\n",
       " ('bag.Had', 'their'),\n",
       " ('their', 'chocolate'),\n",
       " ('chocolate', 'almond'),\n",
       " ('almond', 'croissant'),\n",
       " ('croissant', 'and'),\n",
       " ('and', 'it'),\n",
       " ('it', 'was'),\n",
       " ('was', 'amazing'),\n",
       " ('amazing', '!'),\n",
       " ('!', 'So'),\n",
       " ('So', 'light'),\n",
       " ('light', 'and'),\n",
       " ('and', 'buttery'),\n",
       " ('buttery', 'and'),\n",
       " ('and', 'oh'),\n",
       " ('oh', 'my'),\n",
       " ('my', 'how'),\n",
       " ('how', 'chocolaty'),\n",
       " ('chocolaty', '.'),\n",
       " ('.', 'If'),\n",
       " ('If', 'you'),\n",
       " ('you', \"'re\"),\n",
       " (\"'re\", 'looking'),\n",
       " ('looking', 'for'),\n",
       " ('for', 'a'),\n",
       " ('a', 'light'),\n",
       " ('light', 'breakfast'),\n",
       " ('breakfast', 'then'),\n",
       " ('then', 'head'),\n",
       " ('head', 'out'),\n",
       " ('out', 'here'),\n",
       " ('here', '.'),\n",
       " ('.', 'Perfect'),\n",
       " ('Perfect', 'spot'),\n",
       " ('spot', 'for'),\n",
       " ('for', 'a'),\n",
       " ('a', 'coffee\\\\/latté'),\n",
       " ('coffee\\\\/latté', 'before'),\n",
       " ('before', 'heading'),\n",
       " ('heading', 'out'),\n",
       " ('out', 'to'),\n",
       " ('to', 'the'),\n",
       " ('the', 'old'),\n",
       " ('old', 'port')]"
      ]
     },
     "execution_count": 23,
     "metadata": {},
     "output_type": "execute_result"
    }
   ],
   "source": [
    "from nltk.util import ngrams\n",
    "\n",
    "first_5_revs = data.text[0:5]\n",
    "word_tokens = nltk.word_tokenize(''.join(first_5_revs))\n",
    "list(ngrams(word_tokens, 2)) #ngrams(word_tokens,n) gives the n-grams."
   ]
  },
  {
   "cell_type": "markdown",
   "metadata": {},
   "source": [
    "### Exercise 6:\n",
    "\n",
    "Write a function called `top_k_ngrams(word_tokens, n, k)` for printing out the top $k$ n-grams. Use this function to get the top 10 1-grams, 2-grams, and 3-grams from the first 1000 reviews in our dataset."
   ]
  },
  {
   "cell_type": "markdown",
   "metadata": {},
   "source": [
    "**Answer.** One possible solution is shown below:"
   ]
  },
  {
   "cell_type": "code",
   "execution_count": 24,
   "metadata": {},
   "outputs": [],
   "source": [
    "from nltk.util import ngrams\n",
    "\n",
    "def top_k_ngrams(word_tokens,n,k):\n",
    "    \n",
    "    ## Getting them as n-grams\n",
    "    n_gram_list = list(ngrams(word_tokens, n))\n",
    "\n",
    "    ### Getting each n-gram as a separate string\n",
    "    n_gram_strings = [' '.join(each) for each in n_gram_list]\n",
    "    \n",
    "    n_gram_counter = Counter(n_gram_strings)\n",
    "    most_common_k = n_gram_counter.most_common(k)\n",
    "    print(most_common_k)\n",
    "    \n",
    "   # x_pos = [k for k,v in most_common_k]\n",
    "   # y_pos = [v for k,v in most_common_k]\n",
    "    \n",
    "   # plt.bar(x_pos, y_pos,align='center')"
   ]
  },
  {
   "cell_type": "code",
   "execution_count": 25,
   "metadata": {},
   "outputs": [
    {
     "name": "stdout",
     "output_type": "stream",
     "text": [
      "[('.', 10895), ('the', 6927), (',', 6198), ('I', 5917), ('and', 5318), ('a', 4745), ('to', 4375), ('was', 3057), ('of', 2865), ('it', 2549)]\n"
     ]
    }
   ],
   "source": [
    "### Getting a single string\n",
    "top_1000_reviews = data.text[0:1000]\n",
    "all_reviews_text = ' '.join(top_1000_reviews)\n",
    "\n",
    "## Splitting them into tokens\n",
    "word_tokens = nltk.word_tokenize(all_reviews_text)\n",
    "\n",
    "## Calling the function for top 10 1-grams\n",
    "top_k_ngrams(word_tokens, 1, 10)"
   ]
  },
  {
   "cell_type": "code",
   "execution_count": 26,
   "metadata": {},
   "outputs": [
    {
     "name": "stdout",
     "output_type": "stream",
     "text": [
      "[('. I', 1958), ('. The', 1512), (', but', 866), ('. It', 726), ('of the', 601), (', and', 601), ('I was', 531), ('in the', 518), (', I', 465), ('it was', 439)]\n"
     ]
    }
   ],
   "source": [
    "# calling the function for the top 10 bi-grams\n",
    "top_k_ngrams(word_tokens, 2, 10)"
   ]
  },
  {
   "cell_type": "code",
   "execution_count": 27,
   "metadata": {},
   "outputs": [
    {
     "name": "stdout",
     "output_type": "stream",
     "text": [
      "[(\". It 's\", 241), ('. It was', 193), (', but I', 167), (\". I 've\", 163), ('. I was', 144), (\"I do n't\", 131), (\". I 'm\", 121), ('. The food', 106), (', but it', 103), ('. I had', 99)]\n"
     ]
    }
   ],
   "source": [
    "# calling the function for the top 10 tri-grams\n",
    "top_k_ngrams(word_tokens, 3, 10)"
   ]
  },
  {
   "cell_type": "markdown",
   "metadata": {},
   "source": [
    "## Stop Words (15 mts)\n",
    "\n",
    "You may have noticed a pattern in the types of words that show up in the top 10 1-grams, 2-grams, and 3-grams. In particular, these are common words that appear in nearly every sentence of the English language: pronoums like \"I\", prepositions like \"but\", \"of\", \"and\", articles like \"the\", etc. These very common words are usually uninformative, and their very large occurrence values can distort the results of many NLP algorithms.\n",
    "\n",
    "For this reason, it is common to pre-process text by removing words that you have a reason to believe are uninformative; these words are called **stop words**. Usually, it suffices to simply treat extremely common words as stop words. However, for specific types of applications it might make sense to use other stop words; e.g. the word \"burger\" when analyzing reviews of burger chains.\n",
    "\n",
    "The `nltk` library has a standard list of stopwords, which you can download by writing `nltk.download(“stopwords”)`. We can then load the stopwords package from the nltk.corpus and use it to load the stop words:"
   ]
  },
  {
   "cell_type": "code",
   "execution_count": 28,
   "metadata": {},
   "outputs": [
    {
     "name": "stdout",
     "output_type": "stream",
     "text": [
      "['i', 'me', 'my', 'myself', 'we', 'our', 'ours', 'ourselves', 'you', \"you're\", \"you've\", \"you'll\", \"you'd\", 'your', 'yours', 'yourself', 'yourselves', 'he', 'him', 'his', 'himself', 'she', \"she's\", 'her', 'hers', 'herself', 'it', \"it's\", 'its', 'itself', 'they', 'them', 'their', 'theirs', 'themselves', 'what', 'which', 'who', 'whom', 'this', 'that', \"that'll\", 'these', 'those', 'am', 'is', 'are', 'was', 'were', 'be', 'been', 'being', 'have', 'has', 'had', 'having', 'do', 'does', 'did', 'doing', 'a', 'an', 'the', 'and', 'but', 'if', 'or', 'because', 'as', 'until', 'while', 'of', 'at', 'by', 'for', 'with', 'about', 'against', 'between', 'into', 'through', 'during', 'before', 'after', 'above', 'below', 'to', 'from', 'up', 'down', 'in', 'out', 'on', 'off', 'over', 'under', 'again', 'further', 'then', 'once', 'here', 'there', 'when', 'where', 'why', 'how', 'all', 'any', 'both', 'each', 'few', 'more', 'most', 'other', 'some', 'such', 'no', 'nor', 'not', 'only', 'own', 'same', 'so', 'than', 'too', 'very', 's', 't', 'can', 'will', 'just', 'don', \"don't\", 'should', \"should've\", 'now', 'd', 'll', 'm', 'o', 're', 've', 'y', 'ain', 'aren', \"aren't\", 'couldn', \"couldn't\", 'didn', \"didn't\", 'doesn', \"doesn't\", 'hadn', \"hadn't\", 'hasn', \"hasn't\", 'haven', \"haven't\", 'isn', \"isn't\", 'ma', 'mightn', \"mightn't\", 'mustn', \"mustn't\", 'needn', \"needn't\", 'shan', \"shan't\", 'shouldn', \"shouldn't\", 'wasn', \"wasn't\", 'weren', \"weren't\", 'won', \"won't\", 'wouldn', \"wouldn't\"]\n"
     ]
    },
    {
     "name": "stderr",
     "output_type": "stream",
     "text": [
      "[nltk_data] Downloading package stopwords to\n",
      "[nltk_data]     /Users/sthais/nltk_data...\n",
      "[nltk_data]   Package stopwords is already up-to-date!\n"
     ]
    }
   ],
   "source": [
    "nltk.download('stopwords')\n",
    "from nltk.corpus import stopwords\n",
    "print(stopwords.words(\"english\"))"
   ]
  },
  {
   "cell_type": "markdown",
   "metadata": {},
   "source": [
    "### Exercise 7:\n",
    "\n",
    "#### 7.1\n",
    "\n",
    "Filter out all of the stop words in the first review of the Yelp review data and print out your answer. Additionally, print out (separately) the stopwords you found in this review."
   ]
  },
  {
   "cell_type": "markdown",
   "metadata": {},
   "source": [
    "**Answer.** One possible solution is given below:"
   ]
  },
  {
   "cell_type": "code",
   "execution_count": 29,
   "metadata": {},
   "outputs": [
    {
     "name": "stdout",
     "output_type": "stream",
     "text": [
      "['but', 'been', 'the', 'and', 'they', 'the', 'same', 'they', 'with', 'a', 'and', 'with', 'was', 'very', 'and']\n",
      "\n",
      "['Super', 'simple', 'place', 'amazing', 'nonetheless', '.', 'It', \"'s\", 'around', 'since', '30', \"'s\", 'still', 'serve', 'thing', 'started', ':', 'bologna', 'salami', 'sandwich', 'mustard', '.', 'Staff', 'helpful', 'friendly', '.']\n"
     ]
    }
   ],
   "source": [
    "stop_words = set(stopwords.words(\"english\"))\n",
    "without_stop_words = []\n",
    "stopword = []\n",
    "sentence = data.text[0]\n",
    "words = nltk.word_tokenize(sentence)\n",
    "for word in words:\n",
    "    if word in stop_words:\n",
    "        stopword.append(word)\n",
    "    else:\n",
    "        without_stop_words.append(word)\n",
    "\n",
    "print(stopword)\n",
    "print()\n",
    "print(without_stop_words)"
   ]
  },
  {
   "cell_type": "markdown",
   "metadata": {},
   "source": [
    "#### 7.2\n",
    "\n",
    "Modify the function `top_k_ngrams(word_tokens, n, k)` to remove stop words before determining the top n-grams and print the top 10 modified tri-grams."
   ]
  },
  {
   "cell_type": "markdown",
   "metadata": {},
   "source": [
    "**Answer:** One possible solution is shown below:"
   ]
  },
  {
   "cell_type": "code",
   "execution_count": 30,
   "metadata": {},
   "outputs": [
    {
     "name": "stdout",
     "output_type": "stream",
     "text": [
      "[('wait come back', 11), (\"n't wait come\", 10), (\"n't feel like\", 8), (\"'ll definitely back\", 8), (\"'ve never seen\", 8), ('give place try', 7), ('staff friendly helpful', 7), ('Vegas nearly years', 7), ('Las Vegas strip', 7), ('half dozen times', 7)]\n"
     ]
    }
   ],
   "source": [
    "# Removing the most basic stop words from the ntlk corpus and including only those\n",
    "# words with character size above 2 so as to remove punctuations\n",
    "# But, this could be extended to remove further high and low frequency stop words\n",
    "\n",
    "from nltk.corpus import stopwords\n",
    "import string\n",
    "eng_stopwords = stopwords.words('english')\n",
    "\n",
    "### Getting a single string\n",
    "all_reviews_text = ' '.join(top_1000_reviews)\n",
    "\n",
    "## Splitting them into tokens\n",
    "word_tokens = nltk.word_tokenize(all_reviews_text)\n",
    "\n",
    "## Removing the stopwords\n",
    "word_tokens_clean = [each for each in word_tokens if each.lower() not in eng_stopwords and len(each.lower()) > 2]\n",
    "\n",
    "## print the top 10 tri-grams\n",
    "top_k_ngrams(word_tokens_clean, 3, 10)"
   ]
  },
  {
   "cell_type": "markdown",
   "metadata": {},
   "source": [
    "*Note:* In some contexts, it is common to remove both very common and very *uncommon* words. The idea is that common words like \"a\" are almost never informative, while uncommon words like \"syzygy\" occur so infrequently in a corpus that many algorithms have a hard time processing them in a meaningful way. We will not deal with uncommon words today, but you should be aware that doing so improves the performance of several NLP techniques."
   ]
  },
  {
   "cell_type": "markdown",
   "metadata": {},
   "source": [
    "## Finding important words (20 mts)\n",
    "\n",
    "Up to this point, we have focused on techniques for transforming our data. We are now ready to start looking for some answers, so let's take a break from discussing techniques so we can explore our dataset and various ways to summarize it.\n",
    "\n",
    "We begin by looking at the words and n-grams that are most common in positive and negative reviews. \n",
    "\n",
    "Let's definte a function to grab the top n k-grams:"
   ]
  },
  {
   "cell_type": "code",
   "execution_count": 31,
   "metadata": {},
   "outputs": [],
   "source": [
    "# Following code grabbed from:\n",
    "# https://towardsdatascience.com/a-complete-exploratory-data-analysis-and-visualization-for-text-data-29fb1b96fb6a\n",
    "# we will use it in our context to create some visualizations.\n",
    "def get_top_n_words(corpus, n=1,k=1):\n",
    "    vec = CountVectorizer(ngram_range=(k,k),stop_words = 'english').fit(corpus)\n",
    "    bag_of_words = vec.transform(corpus)\n",
    "    sum_words = bag_of_words.sum(axis=0) \n",
    "    words_freq = [(word, sum_words[0, idx]) for word, idx in vec.vocabulary_.items()]\n",
    "    words_freq =sorted(words_freq, key = lambda x: x[1], reverse=True)\n",
    "    return words_freq[:n]"
   ]
  },
  {
   "cell_type": "markdown",
   "metadata": {},
   "source": [
    "Let's get a list of the most common words with their counts:"
   ]
  },
  {
   "cell_type": "code",
   "execution_count": 32,
   "metadata": {},
   "outputs": [
    {
     "name": "stdout",
     "output_type": "stream",
     "text": [
      "good 5818\n",
      "place 5617\n",
      "food 5449\n",
      "like 4628\n",
      "great 4449\n",
      "just 4440\n",
      "time 3716\n",
      "service 3365\n",
      "really 3280\n",
      "ve 2531\n",
      "nice 2390\n",
      "don 2328\n",
      "little 2109\n",
      "ordered 2022\n",
      "love 1951\n",
      "got 1929\n",
      "came 1830\n",
      "didn 1825\n",
      "try 1814\n",
      "menu 1732\n"
     ]
    },
    {
     "data": {
      "text/plain": [
       "<matplotlib.axes._subplots.AxesSubplot at 0x11124dac0>"
      ]
     },
     "execution_count": 32,
     "metadata": {},
     "output_type": "execute_result"
    },
    {
     "data": {
      "image/png": "[encoded data removed]",
      "text/plain": [
       "<Figure size 1440x432 with 1 Axes>"
      ]
     },
     "metadata": {
      "needs_background": "light"
     },
     "output_type": "display_data"
    }
   ],
   "source": [
    "common_words = get_top_n_words(data['text'], 20,1)\n",
    "for word, freq in common_words:\n",
    "    print(word, freq)\n",
    "df = pd.DataFrame(common_words, columns = ['ReviewText' , 'count'])\n",
    "df.groupby('ReviewText').sum()['count'].sort_values(ascending=False).plot(\n",
    "    kind='bar',  title='Top 20 words from all reviews')"
   ]
  },
  {
   "cell_type": "markdown",
   "metadata": {},
   "source": [
    "### Exercise 8:\n",
    "\n",
    "#### 8.1\n",
    "\n",
    "Divide the data into \"good reviews\" (i.e. `stars` rating was greater than or equal to 3) and \"bad reviews\" (i.e. `stars` rating was less than 3) and make a bar plot of the top 20 words in each case. Are these results different from above?"
   ]
  },
  {
   "cell_type": "markdown",
   "metadata": {},
   "source": [
    "**Answer.** One possible solution is shown below:"
   ]
  },
  {
   "cell_type": "code",
   "execution_count": 33,
   "metadata": {},
   "outputs": [
    {
     "name": "stdout",
     "output_type": "stream",
     "text": [
      "good 4989\n",
      "place 4495\n",
      "food 4197\n",
      "great 4110\n",
      "like 3588\n",
      "just 3272\n",
      "time 2923\n",
      "really 2721\n",
      "service 2557\n",
      "nice 2105\n",
      "ve 2097\n",
      "little 1824\n",
      "love 1790\n",
      "don 1772\n",
      "try 1523\n",
      "ordered 1520\n",
      "menu 1491\n",
      "friendly 1461\n",
      "best 1455\n",
      "delicious 1404\n"
     ]
    }
   ],
   "source": [
    "# split the data\n",
    "GoodInd = data['stars'] >=3\n",
    "GoodRev = data[GoodInd]\n",
    "BadInd = data['stars'] <3\n",
    "BadRev = data[BadInd]\n",
    "\n",
    "# get common words for positive reviews\n",
    "common_words = get_top_n_words(GoodRev['text'], 20)\n",
    "for word, freq in common_words:\n",
    "    print(word, freq)\n",
    "df = pd.DataFrame(common_words, columns = ['ReviewText' , 'count'])"
   ]
  },
  {
   "cell_type": "code",
   "execution_count": 34,
   "metadata": {},
   "outputs": [
    {
     "data": {
      "text/plain": [
       "<matplotlib.axes._subplots.AxesSubplot at 0x12adfdb20>"
      ]
     },
     "execution_count": 34,
     "metadata": {},
     "output_type": "execute_result"
    },
    {
     "data": {
      "image/png": "[encoded data removed]",
      "text/plain": [
       "<Figure size 1440x432 with 1 Axes>"
      ]
     },
     "metadata": {
      "needs_background": "light"
     },
     "output_type": "display_data"
    }
   ],
   "source": [
    "# and we can plot it as a histogram \n",
    "rcParams['figure.figsize'] = 20, 6\n",
    "df.groupby('ReviewText').sum()['count'].sort_values(ascending=False).plot(\n",
    "    kind='bar', title='Top 20 words from good reviews')"
   ]
  },
  {
   "cell_type": "code",
   "execution_count": 35,
   "metadata": {},
   "outputs": [
    {
     "name": "stdout",
     "output_type": "stream",
     "text": [
      "food 1252\n",
      "just 1168\n",
      "place 1122\n",
      "like 1040\n",
      "good 829\n",
      "service 808\n",
      "time 793\n",
      "didn 561\n",
      "really 559\n",
      "don 556\n",
      "got 529\n",
      "said 524\n",
      "did 515\n",
      "ordered 502\n",
      "order 494\n",
      "came 467\n",
      "minutes 438\n",
      "ve 434\n",
      "told 424\n",
      "people 423\n"
     ]
    }
   ],
   "source": [
    "# now the same for negative reviews\n",
    "common_words = get_top_n_words(BadRev['text'], 20)\n",
    "for word, freq in common_words:\n",
    "    print(word, freq)\n",
    "df = pd.DataFrame(common_words, columns = ['ReviewText' , 'count'])"
   ]
  },
  {
   "cell_type": "code",
   "execution_count": 36,
   "metadata": {},
   "outputs": [
    {
     "data": {
      "text/plain": [
       "<matplotlib.axes._subplots.AxesSubplot at 0x129be6820>"
      ]
     },
     "execution_count": 36,
     "metadata": {},
     "output_type": "execute_result"
    },
    {
     "data": {
      "image/png": "[encoded data removed]",
      "text/plain": [
       "<Figure size 1440x432 with 1 Axes>"
      ]
     },
     "metadata": {
      "needs_background": "light"
     },
     "output_type": "display_data"
    }
   ],
   "source": [
    "# and histogram them \n",
    "df.groupby('ReviewText').sum()['count'].sort_values(ascending=False).plot(\n",
    "    kind='bar', title='Top 20 words from bad reviews')"
   ]
  },
  {
   "cell_type": "markdown",
   "metadata": {},
   "source": [
    "Well, that was pretty useless. The \"good\" words are mostly a mix of generic words like \"place\" and overtly positive words like \"good\" itself.\n",
    "\n",
    "The problem here is that we are dealing with single words, which cannot convey much information out of context. The natural solution then is to deal with n-grams, so that we can get context-aware results like \"good burger\" or \"good service\" (in the positive reviews) or, as we saw, \"good 45 minutes\" (in the negative reviews)."
   ]
  },
  {
   "cell_type": "markdown",
   "metadata": {},
   "source": [
    "#### 8.2\n",
    "\n",
    "Use the `get_top_n_words()` function to find the top 20 bigrams and trigrams. Do the results seem useful?"
   ]
  },
  {
   "cell_type": "markdown",
   "metadata": {},
   "source": [
    "**Answer.** One possible solution is shown below"
   ]
  },
  {
   "cell_type": "code",
   "execution_count": 37,
   "metadata": {},
   "outputs": [
    {
     "name": "stdout",
     "output_type": "stream",
     "text": [
      "customer service 163\n",
      "don know 83\n",
      "20 minutes 61\n",
      "10 minutes 60\n",
      "tasted like 59\n",
      "15 minutes 56\n",
      "feel like 55\n",
      "looked like 51\n",
      "ice cream 47\n",
      "make sure 45\n",
      "happy hour 45\n",
      "pretty good 42\n",
      "didn want 41\n",
      "minutes later 41\n",
      "don think 41\n",
      "food good 39\n",
      "30 minutes 36\n",
      "felt like 33\n",
      "food just 31\n",
      "place just 30\n"
     ]
    },
    {
     "data": {
      "text/plain": [
       "<matplotlib.axes._subplots.AxesSubplot at 0x13286c190>"
      ]
     },
     "execution_count": 37,
     "metadata": {},
     "output_type": "execute_result"
    },
    {
     "data": {
      "image/png": "[encoded data removed]",
      "text/plain": [
       "<Figure size 1440x432 with 1 Axes>"
      ]
     },
     "metadata": {
      "needs_background": "light"
     },
     "output_type": "display_data"
    }
   ],
   "source": [
    "# Get top bigrams from bad reviews\n",
    "common_words = get_top_n_words(BadRev['text'], 20,2)\n",
    "for word, freq in common_words:\n",
    "    print(word, freq)\n",
    "df = pd.DataFrame(common_words, columns = ['ReviewText' , 'count'])\n",
    "df.groupby('ReviewText').sum()['count'].sort_values(ascending=False).plot(\n",
    "    kind='bar', title='Top 20 bigrams from bad reviews')"
   ]
  },
  {
   "cell_type": "code",
   "execution_count": 38,
   "metadata": {},
   "outputs": [
    {
     "name": "stdout",
     "output_type": "stream",
     "text": [
      "worst customer service 9\n",
      "took 10 minutes 9\n",
      "wanted like place 8\n",
      "warning warning warning 8\n",
      "don waste time 7\n",
      "waste time money 7\n",
      "let just say 7\n",
      "seated right away 7\n",
      "ve experienced better 7\n",
      "ce est pas 7\n",
      "really wanted like 7\n",
      "10 minutes later 7\n",
      "horrible customer service 6\n",
      "vanilla ice cream 6\n",
      "meh ve experienced 6\n",
      "french onion soup 6\n",
      "took 20 minutes 6\n",
      "qu il avait 6\n",
      "asked speak manager 6\n",
      "15 20 minutes 6\n"
     ]
    },
    {
     "data": {
      "text/plain": [
       "<matplotlib.axes._subplots.AxesSubplot at 0x13276b6a0>"
      ]
     },
     "execution_count": 38,
     "metadata": {},
     "output_type": "execute_result"
    },
    {
     "data": {
      "image/png": "[encoded data removed]",
      "text/plain": [
       "<Figure size 1440x432 with 1 Axes>"
      ]
     },
     "metadata": {
      "needs_background": "light"
     },
     "output_type": "display_data"
    }
   ],
   "source": [
    "# top trigrams from bad reviews\n",
    "common_words = get_top_n_words(BadRev['text'], 20,3)\n",
    "for word, freq in common_words:\n",
    "    print(word, freq)\n",
    "df = pd.DataFrame(common_words, columns = ['ReviewText' , 'count'])\n",
    "df.groupby('ReviewText').sum()['count'].sort_values(ascending=False).plot(\n",
    "    kind='bar', title='Top 20 trigrams from bad reviews')"
   ]
  },
  {
   "cell_type": "code",
   "execution_count": 39,
   "metadata": {},
   "outputs": [
    {
     "name": "stdout",
     "output_type": "stream",
     "text": [
      "really good 321\n",
      "pretty good 279\n",
      "las vegas 273\n",
      "highly recommend 273\n",
      "ice cream 263\n",
      "happy hour 260\n",
      "customer service 252\n",
      "great place 247\n",
      "make sure 240\n",
      "food good 233\n",
      "staff friendly 219\n",
      "feel like 215\n",
      "love place 203\n",
      "great service 186\n",
      "don know 183\n",
      "service great 179\n",
      "good food 164\n",
      "great food 163\n",
      "food great 138\n",
      "really nice 137\n"
     ]
    },
    {
     "data": {
      "text/plain": [
       "<matplotlib.axes._subplots.AxesSubplot at 0x1335b6d00>"
      ]
     },
     "execution_count": 39,
     "metadata": {},
     "output_type": "execute_result"
    },
    {
     "data": {
      "image/png": "[encoded data removed]",
      "text/plain": [
       "<Figure size 1440x432 with 1 Axes>"
      ]
     },
     "metadata": {
      "needs_background": "light"
     },
     "output_type": "display_data"
    }
   ],
   "source": [
    "# top bigrams from good reviews\n",
    "common_words = get_top_n_words(GoodRev['text'], 20,2)\n",
    "for word, freq in common_words:\n",
    "    print(word, freq)\n",
    "df = pd.DataFrame(common_words, columns = ['ReviewText' , 'count'])\n",
    "df.groupby('ReviewText').sum()['count'].sort_values(ascending=False).plot(\n",
    "    kind='bar', title='Top 20 bigrams from good reviews')"
   ]
  },
  {
   "cell_type": "code",
   "execution_count": 40,
   "metadata": {},
   "outputs": [
    {
     "name": "stdout",
     "output_type": "stream",
     "text": [
      "http www yelp 91\n",
      "www yelp com 91\n",
      "yelp com biz_photos 88\n",
      "great customer service 44\n",
      "did great job 39\n",
      "sweet potato fries 37\n",
      "food really good 34\n",
      "staff friendly helpful 29\n",
      "service great food 29\n",
      "highly recommend place 26\n",
      "love love love 25\n",
      "let just say 22\n",
      "great service great 22\n",
      "staff super friendly 22\n",
      "food pretty good 22\n",
      "definitely recommend place 21\n",
      "food great service 21\n",
      "food good service 20\n",
      "las vegas strip 20\n",
      "je vous conseille 20\n"
     ]
    },
    {
     "data": {
      "text/plain": [
       "<matplotlib.axes._subplots.AxesSubplot at 0x132885af0>"
      ]
     },
     "execution_count": 40,
     "metadata": {},
     "output_type": "execute_result"
    },
    {
     "data": {
      "image/png": "[encoded data removed]",
      "text/plain": [
       "<Figure size 1440x432 with 1 Axes>"
      ]
     },
     "metadata": {
      "needs_background": "light"
     },
     "output_type": "display_data"
    }
   ],
   "source": [
    "# top trigrams from good reviews\n",
    "common_words = get_top_n_words(GoodRev['text'], 20,3)\n",
    "for word, freq in common_words:\n",
    "    print(word, freq)\n",
    "df = pd.DataFrame(common_words, columns = ['ReviewText' , 'count'])\n",
    "df.groupby('ReviewText').sum()['count'].sort_values(ascending=False).plot(\n",
    "    kind='bar', title='Top 20 trigrams from good reviews')"
   ]
  },
  {
   "cell_type": "markdown",
   "metadata": {},
   "source": [
    "Although there are some nonsense entries, this is starting to be helpful. We can see a few recurring themes among good reviews (e.g. \"staff friendly helpful\"). Nonsense entries are typically difficult to eliminate completely in NLP with user-generated text and smaller corpora. NLP is still useful *despite* the existence of nonsense results, and we should think of the output of NLP algorithms like this as a *screening tool* for finding important phrases rather than a *careful estimate* of the most important phrases. In other words, it's an application of machine intelligence to *conduct exploratory analysis* rather than to *build predictive models*."
   ]
  },
  {
   "cell_type": "markdown",
   "metadata": {},
   "source": [
    "### Exercise 9:\n",
    "\n",
    "Look at the 5 most important bigrams for bad reviews. What *single, specific* problem seems to be the most important driver of bad reviews?"
   ]
  },
  {
   "cell_type": "markdown",
   "metadata": {},
   "source": [
    "**Answer:** Three of the top 5 bigrams were \"20 minutes\", \"15 minutes\", and \"10 minutes.\" These are all times, *strongly* suggesting that *waiting time for service* is a main driver for bad review scores."
   ]
  },
  {
   "cell_type": "markdown",
   "metadata": {},
   "source": [
    "### Exercise 10:\n",
    "\n",
    "#### 10.1\n",
    "\n",
    "You may have noticed that many of the important \"bad\" bigrams included the words \"like\" or \"just\" but didn't seem very informative (e.g. \"felt like\", \"food just\"). Give some ideas of how to use this sort of observation in future pre-processing of reviews, based on the pre-processing ideas we have already studied."
   ]
  },
  {
   "cell_type": "markdown",
   "metadata": {},
   "source": [
    "**Answer.** Two potential answers are (there are many others):\n",
    "\n",
    "1. Having recognized that these words go together in common bigrams, you could modify your algorithm so that it \"clumps\" these bigrams together; i.e. treats them as one word, so that your algorithm will focus on the words following that.\n",
    "2. Having recognized this as a key phrase, we could have a list of the most important words that follow these key phrases (which are presumably informative). This is more time-consuming as it requires human input."
   ]
  },
  {
   "cell_type": "markdown",
   "metadata": {},
   "source": [
    "#### 10.2\n",
    "\n",
    "Building on the previous question, we note that most of the most important complaints and compliments can't be *completely* observed by looking at bigrams or trigrams. This can often be fixed by small modifications. Do the following:\n",
    "\n",
    "1. Write down a complaint that is unlikely to be (completely) picked up by bigram analysis. Hint: what might you write if your hamburger was served cold?\n",
    "2. Write down a processing step that would fix this problem. Try to find a solution that would work for several similar problems without additional human input."
   ]
  },
  {
   "cell_type": "markdown",
   "metadata": {},
   "source": [
    "**Answer.** There are many good answers, but we focus on a simple one:\n",
    "\n",
    "1. I would probably write \"the burger was cold\" or \"the burger was served cold.\" If this were a common complaint, the most-important bigrams might include \"was cold\" or \"served cold,\" which doesn't tell me *what* was served cold.\n",
    "2. A simple fix, along the lines of the previous question, would be to \"clump\" words like \"was cold\" together. However, I think this is a bad fix, as it focuses too much on the word \"cold\" and would require a great deal of hand tuning. A better idea would be to recognize that words like \"was\" are always going to be a problem in this context, as they separate the important noun describing the subject (\"burger\") from the adjective describing the problem (\"cold\"). This suggests that we should take a *much* more aggressive stance towards removing stop words. This should certainly include conjugations of \"to be,\" and likely many other common but uninformative words (like \"too\").\n",
    "\n",
    "This second response is an important takeaway for NLP – this sort of problem is extremely common, and a great deal of time is often spent tweaking initial pre-processing rules. In the final part of this case, you will learn about a method that can help systematically deal with these uninformative stop words."
   ]
  },
  {
   "cell_type": "markdown",
   "metadata": {},
   "source": [
    "# Transitioning to ML based NLP Models:\n",
    "\n",
    "We've learned some important techniques for text processing and have done some exploratory analysis to get a sense of words and phrases that indicate positive or negative setiments. For the next part of this case we will combine this with our knowledge of classification models to try to automate the sentiment analysis."
   ]
  },
  {
   "cell_type": "markdown",
   "metadata": {},
   "source": [
    "### Standardizing the ratings for sentiment analysis (5 mts) \n",
    "\n",
    "For the purposes of sentiment analysis, we will convert all of the ratings into binary values using the follow rule: ratings of 4 or 5 will get mapped to 1, ratings of 1 or 2 will get mapped to 0, and ratings of 3 will get removed."
   ]
  },
  {
   "cell_type": "markdown",
   "metadata": {},
   "source": [
    "First, let's get a clean dataframe with just the review text and star ratings:"
   ]
  },
  {
   "cell_type": "code",
   "execution_count": 41,
   "metadata": {},
   "outputs": [
    {
     "data": {
      "text/html": [
       "<div>\n",
       "<style scoped>\n",
       "    .dataframe tbody tr th:only-of-type {\n",
       "        vertical-align: middle;\n",
       "    }\n",
       "\n",
       "    .dataframe tbody tr th {\n",
       "        vertical-align: top;\n",
       "    }\n",
       "\n",
       "    .dataframe thead th {\n",
       "        text-align: right;\n",
       "    }\n",
       "</style>\n",
       "<table border=\"1\" class=\"dataframe\">\n",
       "  <thead>\n",
       "    <tr style=\"text-align: right;\">\n",
       "      <th></th>\n",
       "      <th>stars</th>\n",
       "      <th>text</th>\n",
       "    </tr>\n",
       "  </thead>\n",
       "  <tbody>\n",
       "    <tr>\n",
       "      <th>0</th>\n",
       "      <td>5</td>\n",
       "      <td>Super simple place but amazing nonetheless. It...</td>\n",
       "    </tr>\n",
       "    <tr>\n",
       "      <th>1</th>\n",
       "      <td>5</td>\n",
       "      <td>Small unassuming place that changes their menu...</td>\n",
       "    </tr>\n",
       "    <tr>\n",
       "      <th>2</th>\n",
       "      <td>5</td>\n",
       "      <td>Lester's is located in a beautiful neighborhoo...</td>\n",
       "    </tr>\n",
       "    <tr>\n",
       "      <th>3</th>\n",
       "      <td>4</td>\n",
       "      <td>Love coming here. Yes the place always needs t...</td>\n",
       "    </tr>\n",
       "    <tr>\n",
       "      <th>4</th>\n",
       "      <td>4</td>\n",
       "      <td>Had their chocolate almond croissant and it wa...</td>\n",
       "    </tr>\n",
       "  </tbody>\n",
       "</table>\n",
       "</div>"
      ],
      "text/plain": [
       "   stars                                               text\n",
       "0      5  Super simple place but amazing nonetheless. It...\n",
       "1      5  Small unassuming place that changes their menu...\n",
       "2      5  Lester's is located in a beautiful neighborhoo...\n",
       "3      4  Love coming here. Yes the place always needs t...\n",
       "4      4  Had their chocolate almond croissant and it wa..."
      ]
     },
     "execution_count": 41,
     "metadata": {},
     "output_type": "execute_result"
    }
   ],
   "source": [
    "reviews = pd.read_csv('sdata.csv',usecols=[3,5])\n",
    "reviews.head()"
   ]
  },
  {
   "cell_type": "code",
   "execution_count": 42,
   "metadata": {},
   "outputs": [
    {
     "data": {
      "text/plain": [
       "1    6520\n",
       "0    3480\n",
       "Name: sentiment, dtype: int64"
      ]
     },
     "execution_count": 42,
     "metadata": {},
     "output_type": "execute_result"
    }
   ],
   "source": [
    "reviews['sentiment']=np.where(reviews.stars>3,1,0)\n",
    "reviews['sentiment'].value_counts()"
   ]
  },
  {
   "cell_type": "code",
   "execution_count": 43,
   "metadata": {},
   "outputs": [],
   "source": [
    "#remove neutral reviews\n",
    "reviews=reviews[reviews.stars !=3]"
   ]
  },
  {
   "cell_type": "code",
   "execution_count": 44,
   "metadata": {},
   "outputs": [
    {
     "data": {
      "text/plain": [
       "<matplotlib.axes._subplots.AxesSubplot at 0x12f903a90>"
      ]
     },
     "execution_count": 44,
     "metadata": {},
     "output_type": "execute_result"
    },
    {
     "data": {
      "image/png": "[encoded data removed]",
      "text/plain": [
       "<Figure size 360x216 with 1 Axes>"
      ]
     },
     "metadata": {
      "needs_background": "light"
     },
     "output_type": "display_data"
    }
   ],
   "source": [
    "rcParams['figure.figsize'] = 5, 3\n",
    "reviews.sentiment.value_counts().plot.bar()"
   ]
  },
  {
   "cell_type": "markdown",
   "metadata": {},
   "source": [
    "## Pre-processing (25 mts)\n",
    "\n",
    "As we saw above, text preprocessing and normalization is crucial. We'll apply the following pre-processing steps to our cleaned review set:\n",
    "\n",
    "1. converting words to lower/upper case\n",
    "2. removing special characters\n",
    "3. removing stopwords and high/low-frequency words\n",
    "4. stemming/lemmatization\n",
    "\n",
    "We'll start by converting all of the words into a consistent case format (we'll use lowercase):"
   ]
  },
  {
   "cell_type": "code",
   "execution_count": 45,
   "metadata": {},
   "outputs": [],
   "source": [
    "reviews['text_new']=reviews.text.apply(lambda x: x.lower())"
   ]
  },
  {
   "cell_type": "markdown",
   "metadata": {},
   "source": [
    "Now we can tokenize the reviews:"
   ]
  },
  {
   "cell_type": "code",
   "execution_count": 46,
   "metadata": {},
   "outputs": [
    {
     "name": "stdout",
     "output_type": "stream",
     "text": [
      "Number of unique tokens then:  41100\n",
      "Number of unique tokens now:  34055\n"
     ]
    }
   ],
   "source": [
    "from nltk import word_tokenize\n",
    "\n",
    "token_lists = [word_tokenize(each) for each in reviews.text]\n",
    "tokens = [item for sublist in token_lists for item in sublist]\n",
    "print(\"Number of unique tokens then: \",len(set(tokens)))\n",
    "\n",
    "token_lists_lower = [word_tokenize(each) for each in reviews.text_new]\n",
    "tokens_lower = [item for sublist in token_lists_lower for item in sublist]\n",
    "print(\"Number of unique tokens now: \",len(set(tokens_lower)))"
   ]
  },
  {
   "cell_type": "markdown",
   "metadata": {},
   "source": [
    "So the number of unique tokens has gone down by ~17% just by normalizing case! "
   ]
  },
  {
   "cell_type": "markdown",
   "metadata": {},
   "source": [
    "We can also remove special characters like &, *, <, etc"
   ]
  },
  {
   "cell_type": "markdown",
   "metadata": {},
   "source": [
    "### Exercise 11: (5 mts)\n",
    "\n",
    "Is removing special characters even a good idea? What are some examples of characters that would likely be safe to remove, and what are some that would not be?"
   ]
  },
  {
   "cell_type": "markdown",
   "metadata": {},
   "source": [
    "**Answer.** Removing special characters is a subjective call, especially in cases like this one. People often use special characters to express their emotions and might leave a review like _'This product is the worst!!!'_, while a positive review could be like _'This product is the best. Loved it!'_ Here, the presence of exclamation marks clearly indicates something about the underlying sentiment, so removing them may well not be a good idea.\n",
    "\n",
    "On the other hand, removing non-emotionally charged punctuation such as commas, periods, and semicolons is likely safe."
   ]
  },
  {
   "cell_type": "markdown",
   "metadata": {},
   "source": [
    "For the sake of simplicity, we will proceed by removing all of the special characters; however, it pays to keep in mind that this is something to revisit depending on the results we get later. The following gives a list of all the special characters in our dataset:"
   ]
  },
  {
   "cell_type": "code",
   "execution_count": 47,
   "metadata": {},
   "outputs": [
    {
     "data": {
      "text/plain": [
       "{'\\n',\n",
       " '!',\n",
       " '\"',\n",
       " '#',\n",
       " '$',\n",
       " '%',\n",
       " '&',\n",
       " \"'\",\n",
       " '(',\n",
       " ')',\n",
       " '*',\n",
       " '+',\n",
       " ',',\n",
       " '-',\n",
       " '.',\n",
       " '/',\n",
       " ':',\n",
       " ';',\n",
       " '=',\n",
       " '?',\n",
       " '@',\n",
       " '[',\n",
       " '\\\\',\n",
       " ']',\n",
       " '^',\n",
       " '_',\n",
       " '`',\n",
       " '|',\n",
       " '}',\n",
       " '~',\n",
       " '\\xa0',\n",
       " '£',\n",
       " '°',\n",
       " '·',\n",
       " '\\u200d',\n",
       " '™',\n",
       " '。',\n",
       " '《',\n",
       " '》',\n",
       " '！',\n",
       " '，'}"
      ]
     },
     "execution_count": 47,
     "metadata": {},
     "output_type": "execute_result"
    }
   ],
   "source": [
    "### Selecting non alpha numeric charactes that are not spaces\n",
    "spl_chars = reviews.text_new.apply(lambda x: [each for each in list(x) if not each.isalnum() and each != ' '])\n",
    "\n",
    "## Getting list of list into a single list\n",
    "flat_list = [item for sublist in spl_chars for item in sublist]\n",
    "\n",
    "## Unique special characters\n",
    "set(flat_list)"
   ]
  },
  {
   "cell_type": "markdown",
   "metadata": {},
   "source": [
    "Now we can remove these special characters from the reviews:"
   ]
  },
  {
   "cell_type": "code",
   "execution_count": 48,
   "metadata": {},
   "outputs": [],
   "source": [
    "import re\n",
    "review_backup = reviews.text_new.copy()\n",
    "reviews.text_new = reviews.text_new.apply(lambda x: re.sub('[^A-Za-z0-9 ]+', ' ', x))"
   ]
  },
  {
   "cell_type": "markdown",
   "metadata": {},
   "source": [
    "We can see how our reviews change after removing these:"
   ]
  },
  {
   "cell_type": "code",
   "execution_count": 62,
   "metadata": {},
   "outputs": [
    {
     "name": "stdout",
     "output_type": "stream",
     "text": [
      "Old Review:\n"
     ]
    },
    {
     "data": {
      "text/plain": [
       "\"who would have guess that you would be able to get fairly decent vietnamese restaurant in east york? \\n\\nnot quite the same as chinatown in terms of pricing (slightly higher) but definitely one of the better vietnamese restaurants outside of the neighbourhood. when i don't have time to go to chinatown, this is the next best thing as it is down the street from me.\\n\\nso far the only items i have tried are the phos (beef, chicken & vegetarian) - and they have not disappointed me! especially the chicken pho.\\n\\nnext time i go back, i'm going to try the banh cuon (steamed rice noodle) and the vermicelli!\""
      ]
     },
     "execution_count": 62,
     "metadata": {},
     "output_type": "execute_result"
    }
   ],
   "source": [
    "print(\"Old Review:\")\n",
    "review_backup.values[6]"
   ]
  },
  {
   "cell_type": "code",
   "execution_count": 63,
   "metadata": {},
   "outputs": [
    {
     "name": "stdout",
     "output_type": "stream",
     "text": [
      "New Review:\n"
     ]
    },
    {
     "data": {
      "text/plain": [
       "'who would have guess that you would be able to get fairly decent vietnamese restaurant in east york   not quite the same as chinatown in terms of pricing  slightly higher  but definitely one of the better vietnamese restaurants outside of the neighbourhood  when i don t have time to go to chinatown  this is the next best thing as it is down the street from me so far the only items i have tried are the phos  beef  chicken   vegetarian    and they have not disappointed me  especially the chicken pho next time i go back  i m going to try the banh cuon  steamed rice noodle  and the vermicelli '"
      ]
     },
     "execution_count": 63,
     "metadata": {},
     "output_type": "execute_result"
    }
   ],
   "source": [
    "print(\"New Review:\")\n",
    "reviews.text_new[6]"
   ]
  },
  {
   "cell_type": "markdown",
   "metadata": {},
   "source": [
    "The number of unique tokens has dropped further:"
   ]
  },
  {
   "cell_type": "code",
   "execution_count": 64,
   "metadata": {},
   "outputs": [
    {
     "name": "stdout",
     "output_type": "stream",
     "text": [
      "Number of unique tokens then:  41100\n",
      "Number of unique tokens now:  28513\n"
     ]
    }
   ],
   "source": [
    "token_lists = [word_tokenize(each) for each in reviews.text]\n",
    "tokens = [item for sublist in token_lists for item in sublist]\n",
    "print(\"Number of unique tokens then: \",len(set(tokens)))\n",
    "\n",
    "token_lists = [word_tokenize(each) for each in reviews.text_new]\n",
    "tokens = [item for sublist in token_lists for item in sublist]\n",
    "print(\"Number of unique tokens now: \",len(set(tokens)))"
   ]
  },
  {
   "cell_type": "markdown",
   "metadata": {},
   "source": [
    "### Stopwords and high/low frequency words (5 mts)\n",
    "\n",
    "As discussed before, stopwords naturally occur very frequently in the English language without adding any context specific insights. It makes sense to remove them. Here, we'll create a list of so-called noise words (stop words and frequent/unfrequent words) that will be removed before training our models."
   ]
  },
  {
   "cell_type": "code",
   "execution_count": 65,
   "metadata": {},
   "outputs": [
    {
     "data": {
      "text/plain": [
       "['i',\n",
       " 'me',\n",
       " 'my',\n",
       " 'myself',\n",
       " 'we',\n",
       " 'our',\n",
       " 'ours',\n",
       " 'ourselves',\n",
       " 'you',\n",
       " \"you're\",\n",
       " \"you've\",\n",
       " \"you'll\",\n",
       " \"you'd\",\n",
       " 'your',\n",
       " 'yours',\n",
       " 'yourself',\n",
       " 'yourselves',\n",
       " 'he',\n",
       " 'him',\n",
       " 'his',\n",
       " 'himself',\n",
       " 'she',\n",
       " \"she's\",\n",
       " 'her',\n",
       " 'hers',\n",
       " 'herself',\n",
       " 'it',\n",
       " \"it's\",\n",
       " 'its',\n",
       " 'itself',\n",
       " 'they',\n",
       " 'them',\n",
       " 'their',\n",
       " 'theirs',\n",
       " 'themselves',\n",
       " 'what',\n",
       " 'which',\n",
       " 'who',\n",
       " 'whom',\n",
       " 'this',\n",
       " 'that',\n",
       " \"that'll\",\n",
       " 'these',\n",
       " 'those',\n",
       " 'am',\n",
       " 'is',\n",
       " 'are',\n",
       " 'was',\n",
       " 'were',\n",
       " 'be',\n",
       " 'been',\n",
       " 'being',\n",
       " 'have',\n",
       " 'has',\n",
       " 'had',\n",
       " 'having',\n",
       " 'do',\n",
       " 'does',\n",
       " 'did',\n",
       " 'doing',\n",
       " 'a',\n",
       " 'an',\n",
       " 'the',\n",
       " 'and',\n",
       " 'but',\n",
       " 'if',\n",
       " 'or',\n",
       " 'because',\n",
       " 'as',\n",
       " 'until',\n",
       " 'while',\n",
       " 'of',\n",
       " 'at',\n",
       " 'by',\n",
       " 'for',\n",
       " 'with',\n",
       " 'about',\n",
       " 'against',\n",
       " 'between',\n",
       " 'into',\n",
       " 'through',\n",
       " 'during',\n",
       " 'before',\n",
       " 'after',\n",
       " 'above',\n",
       " 'below',\n",
       " 'to',\n",
       " 'from',\n",
       " 'up',\n",
       " 'down',\n",
       " 'in',\n",
       " 'out',\n",
       " 'on',\n",
       " 'off',\n",
       " 'over',\n",
       " 'under',\n",
       " 'again',\n",
       " 'further',\n",
       " 'then',\n",
       " 'once',\n",
       " 'here',\n",
       " 'there',\n",
       " 'when',\n",
       " 'where',\n",
       " 'why',\n",
       " 'how',\n",
       " 'all',\n",
       " 'any',\n",
       " 'both',\n",
       " 'each',\n",
       " 'few',\n",
       " 'more',\n",
       " 'most',\n",
       " 'other',\n",
       " 'some',\n",
       " 'such',\n",
       " 'no',\n",
       " 'nor',\n",
       " 'not',\n",
       " 'only',\n",
       " 'own',\n",
       " 'same',\n",
       " 'so',\n",
       " 'than',\n",
       " 'too',\n",
       " 'very',\n",
       " 's',\n",
       " 't',\n",
       " 'can',\n",
       " 'will',\n",
       " 'just',\n",
       " 'don',\n",
       " \"don't\",\n",
       " 'should',\n",
       " \"should've\",\n",
       " 'now',\n",
       " 'd',\n",
       " 'll',\n",
       " 'm',\n",
       " 'o',\n",
       " 're',\n",
       " 've',\n",
       " 'y',\n",
       " 'ain',\n",
       " 'aren',\n",
       " \"aren't\",\n",
       " 'couldn',\n",
       " \"couldn't\",\n",
       " 'didn',\n",
       " \"didn't\",\n",
       " 'doesn',\n",
       " \"doesn't\",\n",
       " 'hadn',\n",
       " \"hadn't\",\n",
       " 'hasn',\n",
       " \"hasn't\",\n",
       " 'haven',\n",
       " \"haven't\",\n",
       " 'isn',\n",
       " \"isn't\",\n",
       " 'ma',\n",
       " 'mightn',\n",
       " \"mightn't\",\n",
       " 'mustn',\n",
       " \"mustn't\",\n",
       " 'needn',\n",
       " \"needn't\",\n",
       " 'shan',\n",
       " \"shan't\",\n",
       " 'shouldn',\n",
       " \"shouldn't\",\n",
       " 'wasn',\n",
       " \"wasn't\",\n",
       " 'weren',\n",
       " \"weren't\",\n",
       " 'won',\n",
       " \"won't\",\n",
       " 'wouldn',\n",
       " \"wouldn't\"]"
      ]
     },
     "execution_count": 65,
     "metadata": {},
     "output_type": "execute_result"
    }
   ],
   "source": [
    "noise_words = []\n",
    "stopwords_corpus = nltk.corpus.stopwords\n",
    "eng_stop_words = stopwords_corpus.words('english')\n",
    "noise_words.extend(eng_stop_words)\n",
    "noise_words"
   ]
  },
  {
   "cell_type": "markdown",
   "metadata": {},
   "source": [
    "### Exercise 3: (5 mts)\n",
    "\n",
    "Find the high- and low-frequency words, which we will define as the 1% of words that occur most often in the reviews and the 1% of words that occur least often in the reviews (after adjusting for case and special characters)."
   ]
  },
  {
   "cell_type": "markdown",
   "metadata": {},
   "source": [
    "**Answer.** One possible solution is given below:"
   ]
  },
  {
   "cell_type": "code",
   "execution_count": 66,
   "metadata": {},
   "outputs": [
    {
     "data": {
      "text/plain": [
       "[('the', 52134),\n",
       " ('and', 37091),\n",
       " ('i', 32840),\n",
       " ('a', 28872),\n",
       " ('to', 25024),\n",
       " ('was', 17781),\n",
       " ('it', 16914),\n",
       " ('of', 16166),\n",
       " ('is', 12709),\n",
       " ('for', 12557)]"
      ]
     },
     "execution_count": 66,
     "metadata": {},
     "output_type": "execute_result"
    }
   ],
   "source": [
    "one_percentile = int(len(set(tokens)) * 0.01)\n",
    "top_1_percentile = Counter(tokens).most_common(one_percentile)\n",
    "top_1_percentile[:10]"
   ]
  },
  {
   "cell_type": "code",
   "execution_count": 67,
   "metadata": {},
   "outputs": [
    {
     "data": {
      "text/plain": [
       "[('crazily', 1),\n",
       " ('quell', 1),\n",
       " ('unrelenting', 1),\n",
       " ('appreciator', 1),\n",
       " ('unchicken', 1),\n",
       " ('seitan', 1),\n",
       " ('supremacy', 1),\n",
       " ('dwellers', 1),\n",
       " ('homie', 1),\n",
       " ('fakelunch', 1)]"
      ]
     },
     "execution_count": 67,
     "metadata": {},
     "output_type": "execute_result"
    }
   ],
   "source": [
    "bottom_1_percentile = Counter(tokens).most_common()[-one_percentile:]\n",
    "bottom_1_percentile[:10]"
   ]
  },
  {
   "cell_type": "markdown",
   "metadata": {},
   "source": [
    "Now we can extend our noise words list to include these:"
   ]
  },
  {
   "cell_type": "code",
   "execution_count": 68,
   "metadata": {},
   "outputs": [],
   "source": [
    "noise_words.extend([word for word,val in top_1_percentile])\n",
    "noise_words.extend([word for word,val in bottom_1_percentile])"
   ]
  },
  {
   "cell_type": "markdown",
   "metadata": {},
   "source": [
    "### Stemming & lemmatization (5 mts)"
   ]
  },
  {
   "cell_type": "markdown",
   "metadata": {},
   "source": [
    "Now we are ready for the last part of our pre-processing - **stemming & lemmatization**.\n",
    "\n",
    "Different forms of a word often communicate essentially the same meaning. For example, there’s probably no difference in intent between a search for `shoe` and a search for `shoes`. The same word may also appear in different tenses; e.g. \"run\", \"ran\", and \"running\". These syntactic differences between word forms are called **inflections**. In general, we probably want to treat inflections identically when featurizing our text.\n",
    "\n",
    "Sometimes this process is nearly-reversible and quite safe (e.g. replacing verbs with their infinitive, so that \"run\", \"runs\", and \"running\" all become \"run\"). Other times it is a bit dangerous and context-dependant (e.g. replacing superlatives with their base form, so that \"good\", \"better\", and \"best\" all become \"good\"). The more aggressive you are, the greater the potential rewards and risks. For a very aggressive example, you might choose to replace \"Zeus\" and \"Jupiter\" with \"Zeus\" only; this might be OK if you are summarizing myths, confusing if you are working on astronomy, and disastrous if you are working on comparative mythology.\n",
    "\n",
    "We won't get into the details of the differences between stemming, lemmatization and other types of text normalization here, but a careful introduction can be found at: https://nlp.stanford.edu/IR-book/html/htmledition/stemming-and-lemmatization-1.html."
   ]
  },
  {
   "cell_type": "code",
   "execution_count": 69,
   "metadata": {},
   "outputs": [
    {
     "name": "stderr",
     "output_type": "stream",
     "text": [
      "[nltk_data] Downloading package wordnet to /Users/sthais/nltk_data...\n",
      "[nltk_data]   Unzipping corpora/wordnet.zip.\n"
     ]
    }
   ],
   "source": [
    "from nltk.stem import PorterStemmer, WordNetLemmatizer, LancasterStemmer\n",
    "nltk.download('wordnet')\n",
    "from nltk.corpus import wordnet\n",
    "\n",
    "porter = PorterStemmer()\n",
    "lancaster = LancasterStemmer()\n",
    "lemmatizer = WordNetLemmatizer()"
   ]
  },
  {
   "cell_type": "markdown",
   "metadata": {},
   "source": [
    "**Stemming algorithms** work by cutting off the end or the beginning of the word, taking into account a list of common prefixes and suffixes that can be found.\n",
    "\n",
    "On the other hand, **lemmatization** takes into consideration the morphological analysis of the words. So lemmatization takes into account the grammar of the word and tries to find the root word instead of just getting to the root word by brute force methods. We can see the difference below:"
   ]
  },
  {
   "cell_type": "code",
   "execution_count": 70,
   "metadata": {},
   "outputs": [
    {
     "name": "stdout",
     "output_type": "stream",
     "text": [
      "Lancaster Stemmer\n",
      "troubl\n",
      "troubl\n",
      "troubl\n",
      "WordNet Lemmatizer\n",
      "trouble\n",
      "trouble\n",
      "trouble\n"
     ]
    }
   ],
   "source": [
    "# some examples\n",
    "print(\"Lancaster Stemmer\")\n",
    "print(lancaster.stem(\"trouble\"))\n",
    "print(lancaster.stem(\"troubling\"))\n",
    "print(lancaster.stem(\"troubled\"))\n",
    "\n",
    "# Provide a word to be lemmatized\n",
    "print(\"WordNet Lemmatizer\")\n",
    "print(lemmatizer.lemmatize(\"trouble\", wordnet.NOUN))\n",
    "print(lemmatizer.lemmatize(\"troubling\", wordnet.VERB))\n",
    "print(lemmatizer.lemmatize(\"troubled\", wordnet.VERB))"
   ]
  },
  {
   "cell_type": "markdown",
   "metadata": {},
   "source": [
    "It can be seen that we get a meaning root word from Lemmatizer while Stemmer just cuts out and extracts the first important part of the word."
   ]
  },
  {
   "cell_type": "markdown",
   "metadata": {},
   "source": [
    "## Building our machine learning model (40 mts)\n",
    "\n",
    "Now we can start building a machine learning model for sentiment analysis! The features of this model will be derived from the review text."
   ]
  },
  {
   "cell_type": "code",
   "execution_count": 113,
   "metadata": {},
   "outputs": [],
   "source": [
    "# first, import the important libraries\n",
    "from sklearn.feature_extraction.text import CountVectorizer\n",
    "from sklearn.model_selection import train_test_split\n",
    "from sklearn.linear_model import LogisticRegression\n",
    "from sklearn.metrics import accuracy_score\n",
    "from sklearn.metrics import f1_score\n",
    "from sklearn.ensemble import RandomForestClassifier\n",
    "from sklearn.feature_extraction.text import TfidfVectorizer\n",
    "import os"
   ]
  },
  {
   "cell_type": "markdown",
   "metadata": {},
   "source": [
    "### Bag-of-words (5 mts)\n",
    "\n",
    "As we saw earlier, one way to create features from text is by forming n-grams. A simple way to interpret these n-grams is the bag-of-words model; this model disregards order and context and focuses only on frequency/count.\n",
    "\n",
    "`CountVectorizer` is a Python class that automatically accounts for certain preprocessing steps like removing stopwords, stemming, creating n-grams, and word tokenization:"
   ]
  },
  {
   "cell_type": "code",
   "execution_count": 71,
   "metadata": {},
   "outputs": [],
   "source": [
    "###  Creating a method for stemming\n",
    "from nltk.stem import PorterStemmer\n",
    "\n",
    "stemmer = PorterStemmer()\n",
    "analyzer = CountVectorizer().build_analyzer()\n",
    "\n",
    "def stemmed_words(doc):\n",
    "    return (stemmer.stem(w) for w in analyzer(doc))"
   ]
  },
  {
   "cell_type": "markdown",
   "metadata": {},
   "source": [
    "Let's use this to create a bag of words from the reviews, excluding the noise words we identified earlier:"
   ]
  },
  {
   "cell_type": "code",
   "execution_count": 72,
   "metadata": {},
   "outputs": [
    {
     "name": "stderr",
     "output_type": "stream",
     "text": [
      "/Users/sthais/miniconda2/envs/c1_womens_summit/lib/python3.8/site-packages/sklearn/feature_extraction/text.py:382: UserWarning:\n",
      "\n",
      "Your stop_words may be inconsistent with your preprocessing. Tokenizing the stop words generated tokens [\"'d\", \"'ll\", \"'re\", \"'s\", \"'ve\", 'might', 'must', \"n't\", 'sha', 'wo'] not in stop_words.\n",
      "\n"
     ]
    }
   ],
   "source": [
    "### Creating a python object of the class CountVectorizer\n",
    "\n",
    "bow_counts = CountVectorizer(tokenizer= word_tokenize, stop_words=noise_words,\n",
    "                             ngram_range=(1,1))\n",
    "\n",
    "bow_data = bow_counts.fit_transform(reviews.text_new)"
   ]
  },
  {
   "cell_type": "markdown",
   "metadata": {},
   "source": [
    "Once the bag of words is prepared, the dataset should be divided into training and test sets:"
   ]
  },
  {
   "cell_type": "code",
   "execution_count": 75,
   "metadata": {},
   "outputs": [],
   "source": [
    "X_train_bow, X_test_bow, y_train_bow, y_test_bow =  \\\n",
    "                            train_test_split(bow_data,reviews.sentiment,test_size = 0.2,random_state = 0)"
   ]
  },
  {
   "cell_type": "code",
   "execution_count": 76,
   "metadata": {},
   "outputs": [
    {
     "data": {
      "text/plain": [
       "1    0.786361\n",
       "0    0.213639\n",
       "Name: sentiment, dtype: float64"
      ]
     },
     "execution_count": 76,
     "metadata": {},
     "output_type": "execute_result"
    }
   ],
   "source": [
    "y_test_bow.value_counts()/y_test_bow.shape[0]"
   ]
  },
  {
   "cell_type": "markdown",
   "metadata": {},
   "source": [
    "The test data contains 79% positive sentiment reviews. So, if we were to naively classify all reviews as positive, then our model would achieve an accuracy of 79%. Therefore, this is the baseline accuracy that any model we create must beat."
   ]
  },
  {
   "cell_type": "markdown",
   "metadata": {},
   "source": [
    "### Applying logistic regression (5 mts)\n",
    "\n",
    "Let's train a logistic regression model on the training set (and test on the test set)."
   ]
  },
  {
   "cell_type": "code",
   "execution_count": 77,
   "metadata": {},
   "outputs": [
    {
     "name": "stdout",
     "output_type": "stream",
     "text": [
      "F1 score:  0.9367088607594937\n",
      "Accuracy:  89.74049487024743\n"
     ]
    }
   ],
   "source": [
    "### Training the model \n",
    "lr_model_all = LogisticRegression(C = 1)\n",
    "lr_model_all.fit(X_train_bow,y_train_bow)\n",
    "\n",
    "## Predicting the output\n",
    "test_pred_lr_prob = lr_model_all.predict_proba(X_test_bow)\n",
    "test_pred_lr_all = lr_model_all.predict(X_test_bow)\n",
    "\n",
    "print(\"F1 score: \",f1_score(y_test_bow,test_pred_lr_all))\n",
    "print(\"Accuracy: \", accuracy_score(y_test_bow,test_pred_lr_all)* 100)"
   ]
  },
  {
   "cell_type": "markdown",
   "metadata": {},
   "source": [
    "We already did better than the baseline accuracy! We can also look at some examples of the predicted sentimet and compare it to the review text and the original star value."
   ]
  },
  {
   "cell_type": "code",
   "execution_count": 80,
   "metadata": {},
   "outputs": [],
   "source": [
    "prob = [each[1] for each in test_pred_lr_prob]\n",
    "\n",
    "predictions = pd.DataFrame(list(zip(reviews[reviews.index.isin(X_test_bow.indices)].text.values,\n",
    "                             reviews[reviews.index.isin(X_test_bow.indices)].stars.values,\n",
    "                             test_pred_lr_all,\n",
    "                             prob)),\n",
    "                            columns = ['Text','Actual_Stars','Predicted_Sentiment','Predicted_probability'])"
   ]
  },
  {
   "cell_type": "code",
   "execution_count": 79,
   "metadata": {},
   "outputs": [
    {
     "data": {
      "text/html": [
       "<div>\n",
       "<style scoped>\n",
       "    .dataframe tbody tr th:only-of-type {\n",
       "        vertical-align: middle;\n",
       "    }\n",
       "\n",
       "    .dataframe tbody tr th {\n",
       "        vertical-align: top;\n",
       "    }\n",
       "\n",
       "    .dataframe thead th {\n",
       "        text-align: right;\n",
       "    }\n",
       "</style>\n",
       "<table border=\"1\" class=\"dataframe\">\n",
       "  <thead>\n",
       "    <tr style=\"text-align: right;\">\n",
       "      <th></th>\n",
       "      <th>Text</th>\n",
       "      <th>Actual_Sentimet</th>\n",
       "      <th>Predicted_Sentiment</th>\n",
       "      <th>Predicted_probability</th>\n",
       "    </tr>\n",
       "  </thead>\n",
       "  <tbody>\n",
       "    <tr>\n",
       "      <th>1652</th>\n",
       "      <td>I absolutely love this dish but decided to ste...</td>\n",
       "      <td>5</td>\n",
       "      <td>1</td>\n",
       "      <td>0.932732</td>\n",
       "    </tr>\n",
       "    <tr>\n",
       "      <th>1653</th>\n",
       "      <td>If you haven't been to Pinky's Westside Grill ...</td>\n",
       "      <td>5</td>\n",
       "      <td>1</td>\n",
       "      <td>0.971038</td>\n",
       "    </tr>\n",
       "    <tr>\n",
       "      <th>1654</th>\n",
       "      <td>I don't know what all the other bad reviews ar...</td>\n",
       "      <td>4</td>\n",
       "      <td>1</td>\n",
       "      <td>0.998136</td>\n",
       "    </tr>\n",
       "    <tr>\n",
       "      <th>1655</th>\n",
       "      <td>I've been living at Wildwood apartments since ...</td>\n",
       "      <td>5</td>\n",
       "      <td>1</td>\n",
       "      <td>0.998420</td>\n",
       "    </tr>\n",
       "    <tr>\n",
       "      <th>1656</th>\n",
       "      <td>This morning I was up early and decided to tre...</td>\n",
       "      <td>4</td>\n",
       "      <td>1</td>\n",
       "      <td>0.859341</td>\n",
       "    </tr>\n",
       "  </tbody>\n",
       "</table>\n",
       "</div>"
      ],
      "text/plain": [
       "                                                   Text  Actual_Sentimet  \\\n",
       "1652  I absolutely love this dish but decided to ste...                5   \n",
       "1653  If you haven't been to Pinky's Westside Grill ...                5   \n",
       "1654  I don't know what all the other bad reviews ar...                4   \n",
       "1655  I've been living at Wildwood apartments since ...                5   \n",
       "1656  This morning I was up early and decided to tre...                4   \n",
       "\n",
       "      Predicted_Sentiment  Predicted_probability  \n",
       "1652                    1               0.932732  \n",
       "1653                    1               0.971038  \n",
       "1654                    1               0.998136  \n",
       "1655                    1               0.998420  \n",
       "1656                    1               0.859341  "
      ]
     },
     "execution_count": 79,
     "metadata": {},
     "output_type": "execute_result"
    }
   ],
   "source": [
    "predictions.tail()"
   ]
  },
  {
   "cell_type": "markdown",
   "metadata": {},
   "source": [
    "### Exercise 4: (5 mts)\n",
    "\n",
    "Look at the three reviews for which the model predicted the lowest scores, and see if they are correctly predicted. If not, explain why they are wrongly predicted."
   ]
  },
  {
   "cell_type": "markdown",
   "metadata": {},
   "source": [
    "**Answer.** One possible solution is given below:"
   ]
  },
  {
   "cell_type": "code",
   "execution_count": 81,
   "metadata": {},
   "outputs": [
    {
     "data": {
      "text/plain": [
       "array([[\"Meh is about all I can say about Cabo. I feel like it is super over-hyped... We went in for dinner on a Tuesday night around 7pm. It was pretty crowded but there was no wait. They brought over chips & salsa. The chips were warm but I didn't get the feeling that they were made fresh. They were on the thicker side. The salsa was a mix of corn and tomatoes\\\\/peppers (pico de gallo). Not spicy and not really salsa, but ok. We each ordered our own combo taco plate ($10.50) which came with two tacos and a side. I got one BBQ Mahi taco and one Tavaruva Wahoo taco with fruit as my side (seasonal). I was incredibly underwhelmed with my food. The fish in both were way overcooked and dry. The wahoo taco was way salty and the mahi was under seasoned... Another thing that annoyed me, they only have flour tortillas... Really? A fish taco place with only flour tortillas... Even worse, they weren't homemade\\\\/fresh. They had that store bought flour tortilla smell. Come on guys... Step it up.\",\n",
       "        2, 0, 1.7382745396442048e-12],\n",
       "       ['Came in today to order balloons for my sons party. Jazmine and Izzy were so helpful, not to mention super sweet. Costumer service was awesome.',\n",
       "        5, 0, 3.832670628725428e-10],\n",
       "       [\"Seems silly to write a review about an established makeup chain, but I have always had good experiences at this particular location. First of all, I find that this location seems to be sold out of things less often than others. This is an overall problem with the Sephoras in this city - they sell out of things and don't restock often enough. \\nOne of Sephora's policies is that if you are, at any time, unhappy or unsatisfied with a product, you can return or exchange it.\\nI bought a cream eyeliner from this Sephora several months ago and used about half of it before it decided to dry out (even though I had been keeping the lid on it). I took it back actually because I was hoping there might be some cream or something I could add, that would make it creamy again. \\nNo need! They offered to give me a new one, or exchange mine. I chose exchange and they gave me a new brand that they said was excellent AND said they would mention the problem to the sales rep that was coming in for that brand next week. Not that I expect big things to come from that per say, but I'm happy they didn't just blow it off!\\nMy only problem with Sephora (all of them) is that you need to make an appointment in advance to get makeup put on and you are required to spend a certain amount of money, while every other makeup seller does this service for free and accommodates walk-ins. I just hear people asking about it a lot and I had a party to go to one night and was downtown and wanted someone to help me touch up my makeup (without doing it myself using samples in the store) and they were very reluctant to help. You'll sell more things people!!!\",\n",
       "        4, 0, 2.3279519988168743e-08]], dtype=object)"
      ]
     },
     "execution_count": 81,
     "metadata": {},
     "output_type": "execute_result"
    }
   ],
   "source": [
    "predictions.sort_values(['Predicted_probability'], ascending = True)[:3].values"
   ]
  },
  {
   "cell_type": "markdown",
   "metadata": {},
   "source": [
    "The first review is correctly classified, but the other two are not. There are some negative words/phrases in both of them ('not', 'sell out', 'silly', 'problem', etc) that likely contribute to the negative sentiment classification, despite the fact that in context these words don't mean anything negative. Clearly, featurizing our text as 1-grams cannot capture the overall context of the reviews."
   ]
  },
  {
   "cell_type": "markdown",
   "metadata": {},
   "source": [
    "### Exercise 5: (10 mts)\n",
    "\n",
    "Modify the set of features in the model to include bigrams, trigrams, and 4-grams. Don't remove the noise words defined earlier before featurizing. (Hint: set `ngram_range=(1,4)`.)"
   ]
  },
  {
   "cell_type": "markdown",
   "metadata": {},
   "source": [
    "**Answer.** One possible solution is shown below:"
   ]
  },
  {
   "cell_type": "code",
   "execution_count": 82,
   "metadata": {},
   "outputs": [],
   "source": [
    "### Changes with respect to the previous code\n",
    "### 1. Increasing the n-grams from just having 1-gram to (1-gram, 2-gram,3-gram and 4-gram)\n",
    "### 2. Including the stopwords in the bag of words features\n",
    "\n",
    "bow_counts = CountVectorizer(tokenizer= word_tokenize,\n",
    "                             ngram_range=(1,4))\n",
    "\n",
    "bow_data = bow_counts.fit_transform(reviews.text_new)"
   ]
  },
  {
   "cell_type": "code",
   "execution_count": 83,
   "metadata": {},
   "outputs": [],
   "source": [
    "X_train_bow, X_test_bow, y_train_bow, y_test_bow =  \\\n",
    "                            train_test_split(bow_data,reviews.sentiment,test_size = 0.2,random_state = 0)"
   ]
  },
  {
   "cell_type": "code",
   "execution_count": 86,
   "metadata": {},
   "outputs": [
    {
     "name": "stdout",
     "output_type": "stream",
     "text": [
      "F1 score:  0.9464351680827484\n",
      "Accuracy:  91.24924562462282\n"
     ]
    },
    {
     "name": "stderr",
     "output_type": "stream",
     "text": [
      "/Users/sthais/miniconda2/envs/c1_womens_summit/lib/python3.8/site-packages/sklearn/linear_model/_logistic.py:938: ConvergenceWarning:\n",
      "\n",
      "lbfgs failed to converge (status=1):\n",
      "STOP: TOTAL NO. of ITERATIONS REACHED LIMIT.\n",
      "\n",
      "Increase the number of iterations (max_iter) or scale the data as shown in:\n",
      "    https://scikit-learn.org/stable/modules/preprocessing.html\n",
      "Please also refer to the documentation for alternative solver options:\n",
      "    https://scikit-learn.org/stable/modules/linear_model.html#logistic-regression\n",
      "\n"
     ]
    }
   ],
   "source": [
    "#train a new model\n",
    "lr_model_all_new = LogisticRegression(C = 0.9, penalty= 'l2')\n",
    "# Training the model\n",
    "lr_model_all_new.fit(X_train_bow,y_train_bow)\n",
    "\n",
    "# Predicting the results\n",
    "test_pred_lr_prob = lr_model_all_new.predict_proba(X_test_bow)\n",
    "test_pred_lr_all = lr_model_all_new.predict(X_test_bow)\n",
    "\n",
    "print(\"F1 score: \",f1_score(y_test_bow,test_pred_lr_all))\n",
    "print(\"Accuracy: \", accuracy_score(y_test_bow,test_pred_lr_all)* 100)"
   ]
  },
  {
   "cell_type": "markdown",
   "metadata": {},
   "source": [
    "The accuracy has increased slightly from 89% to 91%. This is an example of how simple input feature modification can improve performance.\n",
    "\n",
    "We can also get interpretable features from this model such as what contributed the most to positive and negative sentiment classification:"
   ]
  },
  {
   "cell_type": "code",
   "execution_count": 87,
   "metadata": {},
   "outputs": [
    {
     "data": {
      "text/html": [
       "<div>\n",
       "<style scoped>\n",
       "    .dataframe tbody tr th:only-of-type {\n",
       "        vertical-align: middle;\n",
       "    }\n",
       "\n",
       "    .dataframe tbody tr th {\n",
       "        vertical-align: top;\n",
       "    }\n",
       "\n",
       "    .dataframe thead th {\n",
       "        text-align: right;\n",
       "    }\n",
       "</style>\n",
       "<table border=\"1\" class=\"dataframe\">\n",
       "  <thead>\n",
       "    <tr style=\"text-align: right;\">\n",
       "      <th></th>\n",
       "      <th>words</th>\n",
       "      <th>weights</th>\n",
       "    </tr>\n",
       "  </thead>\n",
       "  <tbody>\n",
       "    <tr>\n",
       "      <th>718646</th>\n",
       "      <td>great</td>\n",
       "      <td>1.129230</td>\n",
       "    </tr>\n",
       "    <tr>\n",
       "      <th>117829</th>\n",
       "      <td>amazing</td>\n",
       "      <td>0.928163</td>\n",
       "    </tr>\n",
       "    <tr>\n",
       "      <th>478618</th>\n",
       "      <td>delicious</td>\n",
       "      <td>0.911276</td>\n",
       "    </tr>\n",
       "    <tr>\n",
       "      <th>291321</th>\n",
       "      <td>best</td>\n",
       "      <td>0.782630</td>\n",
       "    </tr>\n",
       "    <tr>\n",
       "      <th>244378</th>\n",
       "      <td>awesome</td>\n",
       "      <td>0.730920</td>\n",
       "    </tr>\n",
       "    <tr>\n",
       "      <th>1012877</th>\n",
       "      <td>love</td>\n",
       "      <td>0.712486</td>\n",
       "    </tr>\n",
       "    <tr>\n",
       "      <th>572040</th>\n",
       "      <td>excellent</td>\n",
       "      <td>0.697922</td>\n",
       "    </tr>\n",
       "    <tr>\n",
       "      <th>660978</th>\n",
       "      <td>friendly</td>\n",
       "      <td>0.675137</td>\n",
       "    </tr>\n",
       "    <tr>\n",
       "      <th>476051</th>\n",
       "      <td>definitely</td>\n",
       "      <td>0.671842</td>\n",
       "    </tr>\n",
       "    <tr>\n",
       "      <th>703980</th>\n",
       "      <td>good</td>\n",
       "      <td>0.625795</td>\n",
       "    </tr>\n",
       "    <tr>\n",
       "      <th>1756163</th>\n",
       "      <td>they have</td>\n",
       "      <td>0.585838</td>\n",
       "    </tr>\n",
       "    <tr>\n",
       "      <th>1654200</th>\n",
       "      <td>the best</td>\n",
       "      <td>0.522319</td>\n",
       "    </tr>\n",
       "    <tr>\n",
       "      <th>112935</th>\n",
       "      <td>always</td>\n",
       "      <td>0.516984</td>\n",
       "    </tr>\n",
       "    <tr>\n",
       "      <th>1129953</th>\n",
       "      <td>nice</td>\n",
       "      <td>0.476778</td>\n",
       "    </tr>\n",
       "    <tr>\n",
       "      <th>1291539</th>\n",
       "      <td>perfect</td>\n",
       "      <td>0.469329</td>\n",
       "    </tr>\n",
       "  </tbody>\n",
       "</table>\n",
       "</div>"
      ],
      "text/plain": [
       "              words   weights\n",
       "718646        great  1.129230\n",
       "117829      amazing  0.928163\n",
       "478618    delicious  0.911276\n",
       "291321         best  0.782630\n",
       "244378      awesome  0.730920\n",
       "1012877        love  0.712486\n",
       "572040    excellent  0.697922\n",
       "660978     friendly  0.675137\n",
       "476051   definitely  0.671842\n",
       "703980         good  0.625795\n",
       "1756163   they have  0.585838\n",
       "1654200    the best  0.522319\n",
       "112935       always  0.516984\n",
       "1129953        nice  0.476778\n",
       "1291539     perfect  0.469329"
      ]
     },
     "execution_count": 87,
     "metadata": {},
     "output_type": "execute_result"
    }
   ],
   "source": [
    "# first, the positive weighted words\n",
    "lr_weights = pd.DataFrame(list(zip(bow_counts.get_feature_names(),\n",
    "                                   lr_model_all_new.coef_[0])),\n",
    "                          columns= ['words','weights'])\n",
    "\n",
    "lr_weights.sort_values(['weights'],ascending = False)[:15]"
   ]
  },
  {
   "cell_type": "code",
   "execution_count": 88,
   "metadata": {},
   "outputs": [
    {
     "data": {
      "text/html": [
       "<div>\n",
       "<style scoped>\n",
       "    .dataframe tbody tr th:only-of-type {\n",
       "        vertical-align: middle;\n",
       "    }\n",
       "\n",
       "    .dataframe tbody tr th {\n",
       "        vertical-align: top;\n",
       "    }\n",
       "\n",
       "    .dataframe thead th {\n",
       "        text-align: right;\n",
       "    }\n",
       "</style>\n",
       "<table border=\"1\" class=\"dataframe\">\n",
       "  <thead>\n",
       "    <tr style=\"text-align: right;\">\n",
       "      <th></th>\n",
       "      <th>words</th>\n",
       "      <th>weights</th>\n",
       "    </tr>\n",
       "  </thead>\n",
       "  <tbody>\n",
       "    <tr>\n",
       "      <th>1729771</th>\n",
       "      <td>the worst</td>\n",
       "      <td>-0.501023</td>\n",
       "    </tr>\n",
       "    <tr>\n",
       "      <th>1617541</th>\n",
       "      <td>tasted</td>\n",
       "      <td>-0.501238</td>\n",
       "    </tr>\n",
       "    <tr>\n",
       "      <th>1595229</th>\n",
       "      <td>t</td>\n",
       "      <td>-0.523168</td>\n",
       "    </tr>\n",
       "    <tr>\n",
       "      <th>939721</th>\n",
       "      <td>just</td>\n",
       "      <td>-0.524480</td>\n",
       "    </tr>\n",
       "    <tr>\n",
       "      <th>251882</th>\n",
       "      <td>bad</td>\n",
       "      <td>-0.539181</td>\n",
       "    </tr>\n",
       "    <tr>\n",
       "      <th>799857</th>\n",
       "      <td>horrible</td>\n",
       "      <td>-0.568670</td>\n",
       "    </tr>\n",
       "    <tr>\n",
       "      <th>1267015</th>\n",
       "      <td>overpriced</td>\n",
       "      <td>-0.590206</td>\n",
       "    </tr>\n",
       "    <tr>\n",
       "      <th>1415914</th>\n",
       "      <td>rude</td>\n",
       "      <td>-0.607097</td>\n",
       "    </tr>\n",
       "    <tr>\n",
       "      <th>305338</th>\n",
       "      <td>bland</td>\n",
       "      <td>-0.683659</td>\n",
       "    </tr>\n",
       "    <tr>\n",
       "      <th>1626325</th>\n",
       "      <td>terrible</td>\n",
       "      <td>-0.690766</td>\n",
       "    </tr>\n",
       "    <tr>\n",
       "      <th>1199364</th>\n",
       "      <td>ok</td>\n",
       "      <td>-0.725451</td>\n",
       "    </tr>\n",
       "    <tr>\n",
       "      <th>1136830</th>\n",
       "      <td>no</td>\n",
       "      <td>-0.793425</td>\n",
       "    </tr>\n",
       "    <tr>\n",
       "      <th>1123815</th>\n",
       "      <td>never</td>\n",
       "      <td>-0.803748</td>\n",
       "    </tr>\n",
       "    <tr>\n",
       "      <th>2040314</th>\n",
       "      <td>worst</td>\n",
       "      <td>-0.892640</td>\n",
       "    </tr>\n",
       "    <tr>\n",
       "      <th>1144857</th>\n",
       "      <td>not</td>\n",
       "      <td>-1.122887</td>\n",
       "    </tr>\n",
       "  </tbody>\n",
       "</table>\n",
       "</div>"
      ],
      "text/plain": [
       "              words   weights\n",
       "1729771   the worst -0.501023\n",
       "1617541      tasted -0.501238\n",
       "1595229           t -0.523168\n",
       "939721         just -0.524480\n",
       "251882          bad -0.539181\n",
       "799857     horrible -0.568670\n",
       "1267015  overpriced -0.590206\n",
       "1415914        rude -0.607097\n",
       "305338        bland -0.683659\n",
       "1626325    terrible -0.690766\n",
       "1199364          ok -0.725451\n",
       "1136830          no -0.793425\n",
       "1123815       never -0.803748\n",
       "2040314       worst -0.892640\n",
       "1144857         not -1.122887"
      ]
     },
     "execution_count": 88,
     "metadata": {},
     "output_type": "execute_result"
    }
   ],
   "source": [
    "# and now, the negative words\n",
    "lr_weights.sort_values(['weights'],ascending = False)[-15:]"
   ]
  },
  {
   "cell_type": "markdown",
   "metadata": {},
   "source": [
    "### Exercise 6: (10 mts)\n",
    "\n",
    "Perform random forests classification on our feature set just as we did above with logistic regression."
   ]
  },
  {
   "cell_type": "markdown",
   "metadata": {},
   "source": [
    "**Answer.** One possible solution is given below:"
   ]
  },
  {
   "cell_type": "code",
   "execution_count": 89,
   "metadata": {},
   "outputs": [],
   "source": [
    "rf_model_all = RandomForestClassifier()\n",
    "\n",
    "### Fitting the model by providing trainining data and training reponse variable\n",
    "rf_model_all.fit(X_train_bow,y_train_bow)\n",
    "\n",
    "### After the model is fit, output is predcited for the cross validation data\n",
    "test_pred_lr_prob = rf_model_all.predict_proba(X_test_bow)\n",
    "test_pred_lr_all = rf_model_all.predict(X_test_bow)"
   ]
  },
  {
   "cell_type": "code",
   "execution_count": 90,
   "metadata": {},
   "outputs": [
    {
     "name": "stdout",
     "output_type": "stream",
     "text": [
      "F1 score:  0.8845892735913102\n",
      "Accuracy:  79.48098974049486\n"
     ]
    }
   ],
   "source": [
    "print(\"F1 score: \",f1_score(y_test_bow,test_pred_lr_all))\n",
    "print(\"Accuracy: \", accuracy_score(y_test_bow,test_pred_lr_all)* 100)"
   ]
  },
  {
   "cell_type": "markdown",
   "metadata": {},
   "source": [
    "This is quite a bit less accurate than logistic regression. Nonetheless, we can get the n-grams which are most important for the sentiment predictions using the code below. This text corpus is very large, so the command can throw errors on some systems, to avoid this, we just show the results below:"
   ]
  },
  {
   "cell_type": "markdown",
   "metadata": {},
   "source": [
    "```python\n",
    "feature_importances = pd.DataFrame(rf_model_all.feature_importances_,\n",
    "                                   index = bow_counts.get_feature_names(),\n",
    "                                    columns=['importance'])\n",
    "feature_importances.sort_values(['importance'], ascending=False)[:10]\n",
    "```"
   ]
  },
  {
   "cell_type": "markdown",
   "metadata": {},
   "source": [
    "![title](bdt_feat_imp.png)"
   ]
  },
  {
   "cell_type": "markdown",
   "metadata": {},
   "source": [
    "## TF-IDF model (25 mts)\n",
    "\n",
    "Of course, bag-of-words are not the only way to featurize text. Another method is the **Term Frequency-Inverse Document Frequency (TF-IDF)** method. This evaluates how important a word is to a document within a large collection of documents (i.e. corpus). The importance increases proportionally based on the number of times a word appears in the document but is offset by the frequency of the word in the corpus.\n",
    "\n",
    "The TF-IDF weight is the product of two terms. The first computes the normalized Term Frequency (TF); i.e. the number of times a word appears in a document divided by the total number of words in that document. The second term is the Inverse Document Frequency (IDF), computed as the logarithm of the number of the documents in the corpus divided by the number of documents where the specific term appears:\n",
    "<img src='tf-idf.png'>"
   ]
  },
  {
   "cell_type": "markdown",
   "metadata": {},
   "source": [
    "Let's re-featurize our original set of reviews based on TF-IDF and split the resulting features into train and test sets:"
   ]
  },
  {
   "cell_type": "code",
   "execution_count": 95,
   "metadata": {},
   "outputs": [
    {
     "name": "stderr",
     "output_type": "stream",
     "text": [
      "/Users/sthais/miniconda2/envs/c1_womens_summit/lib/python3.8/site-packages/sklearn/feature_extraction/text.py:382: UserWarning:\n",
      "\n",
      "Your stop_words may be inconsistent with your preprocessing. Tokenizing the stop words generated tokens [\"'d\", \"'ll\", \"'re\", \"'s\", \"'ve\", 'might', 'must', \"n't\", 'sha', 'wo'] not in stop_words.\n",
      "\n"
     ]
    }
   ],
   "source": [
    "### Creating a python object of the class CountVectorizer\n",
    "tfidf_counts = TfidfVectorizer(tokenizer= word_tokenize,stop_words=noise_words,\n",
    "                             ngram_range=(1,1))\n",
    "tfidf_data = tfidf_counts.fit_transform(reviews.text_new)"
   ]
  },
  {
   "cell_type": "code",
   "execution_count": 96,
   "metadata": {},
   "outputs": [],
   "source": [
    "X_train_tfidf, X_test_tfidf, y_train_tfidf, y_test_tfidf =  \\\n",
    "                            train_test_split(tfidf_data,reviews.sentiment,test_size = 0.2,random_state = 0)"
   ]
  },
  {
   "cell_type": "markdown",
   "metadata": {},
   "source": [
    "### Applying logistic regression to TF-IDF features (5 mts)\n",
    "\n",
    "Let's apply logistic regression to the features created from TF-IDF:"
   ]
  },
  {
   "cell_type": "code",
   "execution_count": 97,
   "metadata": {},
   "outputs": [
    {
     "name": "stdout",
     "output_type": "stream",
     "text": [
      "F1 score:  0.9146685472496474\n",
      "Accuracy:  85.39529269764635\n"
     ]
    }
   ],
   "source": [
    "### Setting up the model class\n",
    "lr_model_tf_idf = LogisticRegression()\n",
    "\n",
    "## Training the model \n",
    "lr_model_tf_idf.fit(X_train_tfidf,y_train_tfidf)\n",
    "\n",
    "## Prediciting the results\n",
    "test_pred_lr_prob = lr_model_tf_idf.predict_proba(X_test_tfidf)\n",
    "test_pred_lr_all = lr_model_tf_idf.predict(X_test_tfidf)\n",
    "\n",
    "## Evaluating the model\n",
    "print(\"F1 score: \",f1_score(y_test_bow,test_pred_lr_all))\n",
    "print(\"Accuracy: \", accuracy_score(y_test_bow,test_pred_lr_all)* 100)"
   ]
  },
  {
   "cell_type": "markdown",
   "metadata": {},
   "source": [
    "Here we have only reached an accuracy of 85% with TF-IDF as compared to 90% with 1-grams."
   ]
  },
  {
   "cell_type": "markdown",
   "metadata": {},
   "source": [
    "### Exercise 7: (10 mts)\n",
    "\n",
    "Try increasing the accuracy of the model by setting `ngram_range=(1,4)` and not removing the noise words beforehand."
   ]
  },
  {
   "cell_type": "markdown",
   "metadata": {},
   "source": [
    "**Answer.** One possible solution is given below:"
   ]
  },
  {
   "cell_type": "code",
   "execution_count": 99,
   "metadata": {},
   "outputs": [],
   "source": [
    "### Creating a python object of the class CountVectorizer\n",
    "### Changes: Removing stop words and including 1-4 grams in the tf-idf data\n",
    "\n",
    "tfidf_counts = TfidfVectorizer(tokenizer= word_tokenize,\n",
    "                             ngram_range=(1,4))\n",
    "tfidf_data = tfidf_counts.fit_transform(reviews.text_new)"
   ]
  },
  {
   "cell_type": "code",
   "execution_count": 101,
   "metadata": {},
   "outputs": [],
   "source": [
    "X_train_tfidf, X_test_tfidf, y_train_tfidf, y_test_tfidf =  \\\n",
    "                            train_test_split(tfidf_data,reviews.sentiment,test_size = 0.2,random_state = 0)"
   ]
  },
  {
   "cell_type": "code",
   "execution_count": 103,
   "metadata": {},
   "outputs": [
    {
     "name": "stdout",
     "output_type": "stream",
     "text": [
      "F1 score:  0.9269162210338682\n",
      "Accuracy:  87.6282438141219\n"
     ]
    },
    {
     "name": "stderr",
     "output_type": "stream",
     "text": [
      "/Users/sthais/miniconda2/envs/c1_womens_summit/lib/python3.8/site-packages/sklearn/linear_model/_logistic.py:938: ConvergenceWarning:\n",
      "\n",
      "lbfgs failed to converge (status=1):\n",
      "STOP: TOTAL NO. of ITERATIONS REACHED LIMIT.\n",
      "\n",
      "Increase the number of iterations (max_iter) or scale the data as shown in:\n",
      "    https://scikit-learn.org/stable/modules/preprocessing.html\n",
      "Please also refer to the documentation for alternative solver options:\n",
      "    https://scikit-learn.org/stable/modules/linear_model.html#logistic-regression\n",
      "\n"
     ]
    }
   ],
   "source": [
    "### Setting up the model class\n",
    "lr_model_tf_idf_new = LogisticRegression(C = 1e2, penalty= 'l2')\n",
    "\n",
    "## Training the model \n",
    "lr_model_tf_idf_new.fit(X_train_tfidf,y_train_tfidf)\n",
    "\n",
    "## Prediciting the results\n",
    "test_pred_lr_prob = lr_model_tf_idf_new.predict_proba(X_test_tfidf)\n",
    "test_pred_lr_all = lr_model_tf_idf_new.predict(X_test_tfidf)\n",
    "\n",
    "## Evaluating the model`\n",
    "print(\"F1 score: \",f1_score(y_test_bow,test_pred_lr_all))\n",
    "print(\"Accuracy: \", accuracy_score(y_test_bow,test_pred_lr_all)* 100)"
   ]
  },
  {
   "cell_type": "markdown",
   "metadata": {},
   "source": [
    "This is a higher accuracy than before, but still not as high as the bag-of-words n-gram featurization from earlier. We can get the set of top features that contributed most of positive and negative sentiment predictions:"
   ]
  },
  {
   "cell_type": "code",
   "execution_count": 104,
   "metadata": {},
   "outputs": [
    {
     "data": {
      "text/html": [
       "<div>\n",
       "<style scoped>\n",
       "    .dataframe tbody tr th:only-of-type {\n",
       "        vertical-align: middle;\n",
       "    }\n",
       "\n",
       "    .dataframe tbody tr th {\n",
       "        vertical-align: top;\n",
       "    }\n",
       "\n",
       "    .dataframe thead th {\n",
       "        text-align: right;\n",
       "    }\n",
       "</style>\n",
       "<table border=\"1\" class=\"dataframe\">\n",
       "  <thead>\n",
       "    <tr style=\"text-align: right;\">\n",
       "      <th></th>\n",
       "      <th>words</th>\n",
       "      <th>weights</th>\n",
       "    </tr>\n",
       "  </thead>\n",
       "  <tbody>\n",
       "    <tr>\n",
       "      <th>718646</th>\n",
       "      <td>great</td>\n",
       "      <td>16.880189</td>\n",
       "    </tr>\n",
       "    <tr>\n",
       "      <th>127206</th>\n",
       "      <td>and</td>\n",
       "      <td>12.794001</td>\n",
       "    </tr>\n",
       "    <tr>\n",
       "      <th>478618</th>\n",
       "      <td>delicious</td>\n",
       "      <td>10.650914</td>\n",
       "    </tr>\n",
       "    <tr>\n",
       "      <th>117829</th>\n",
       "      <td>amazing</td>\n",
       "      <td>10.341564</td>\n",
       "    </tr>\n",
       "    <tr>\n",
       "      <th>1012877</th>\n",
       "      <td>love</td>\n",
       "      <td>9.647756</td>\n",
       "    </tr>\n",
       "    <tr>\n",
       "      <th>476051</th>\n",
       "      <td>definitely</td>\n",
       "      <td>8.293856</td>\n",
       "    </tr>\n",
       "    <tr>\n",
       "      <th>703980</th>\n",
       "      <td>good</td>\n",
       "      <td>8.263147</td>\n",
       "    </tr>\n",
       "    <tr>\n",
       "      <th>291321</th>\n",
       "      <td>best</td>\n",
       "      <td>7.954216</td>\n",
       "    </tr>\n",
       "    <tr>\n",
       "      <th>112935</th>\n",
       "      <td>always</td>\n",
       "      <td>7.936192</td>\n",
       "    </tr>\n",
       "    <tr>\n",
       "      <th>660978</th>\n",
       "      <td>friendly</td>\n",
       "      <td>7.897409</td>\n",
       "    </tr>\n",
       "  </tbody>\n",
       "</table>\n",
       "</div>"
      ],
      "text/plain": [
       "              words    weights\n",
       "718646        great  16.880189\n",
       "127206          and  12.794001\n",
       "478618    delicious  10.650914\n",
       "117829      amazing  10.341564\n",
       "1012877        love   9.647756\n",
       "476051   definitely   8.293856\n",
       "703980         good   8.263147\n",
       "291321         best   7.954216\n",
       "112935       always   7.936192\n",
       "660978     friendly   7.897409"
      ]
     },
     "execution_count": 104,
     "metadata": {},
     "output_type": "execute_result"
    }
   ],
   "source": [
    "# first, positive sentiment\n",
    "lr_weights = pd.DataFrame(list(zip(tfidf_counts.get_feature_names(),\n",
    "                                   lr_model_tf_idf_new.coef_[0])),\n",
    "                          columns= ['words','weights'])\n",
    "\n",
    "lr_weights.sort_values(['weights'],ascending = False)[:10]"
   ]
  },
  {
   "cell_type": "code",
   "execution_count": 105,
   "metadata": {},
   "outputs": [
    {
     "data": {
      "text/html": [
       "<div>\n",
       "<style scoped>\n",
       "    .dataframe tbody tr th:only-of-type {\n",
       "        vertical-align: middle;\n",
       "    }\n",
       "\n",
       "    .dataframe tbody tr th {\n",
       "        vertical-align: top;\n",
       "    }\n",
       "\n",
       "    .dataframe thead th {\n",
       "        text-align: right;\n",
       "    }\n",
       "</style>\n",
       "<table border=\"1\" class=\"dataframe\">\n",
       "  <thead>\n",
       "    <tr style=\"text-align: right;\">\n",
       "      <th></th>\n",
       "      <th>words</th>\n",
       "      <th>weights</th>\n",
       "    </tr>\n",
       "  </thead>\n",
       "  <tbody>\n",
       "    <tr>\n",
       "      <th>1123815</th>\n",
       "      <td>never</td>\n",
       "      <td>-8.455925</td>\n",
       "    </tr>\n",
       "    <tr>\n",
       "      <th>1199364</th>\n",
       "      <td>ok</td>\n",
       "      <td>-8.539061</td>\n",
       "    </tr>\n",
       "    <tr>\n",
       "      <th>1796125</th>\n",
       "      <td>to</td>\n",
       "      <td>-8.588700</td>\n",
       "    </tr>\n",
       "    <tr>\n",
       "      <th>251882</th>\n",
       "      <td>bad</td>\n",
       "      <td>-8.744082</td>\n",
       "    </tr>\n",
       "    <tr>\n",
       "      <th>1626325</th>\n",
       "      <td>terrible</td>\n",
       "      <td>-9.005365</td>\n",
       "    </tr>\n",
       "    <tr>\n",
       "      <th>305338</th>\n",
       "      <td>bland</td>\n",
       "      <td>-9.199410</td>\n",
       "    </tr>\n",
       "    <tr>\n",
       "      <th>1595229</th>\n",
       "      <td>t</td>\n",
       "      <td>-10.315419</td>\n",
       "    </tr>\n",
       "    <tr>\n",
       "      <th>2040314</th>\n",
       "      <td>worst</td>\n",
       "      <td>-11.378883</td>\n",
       "    </tr>\n",
       "    <tr>\n",
       "      <th>1136830</th>\n",
       "      <td>no</td>\n",
       "      <td>-13.516315</td>\n",
       "    </tr>\n",
       "    <tr>\n",
       "      <th>1144857</th>\n",
       "      <td>not</td>\n",
       "      <td>-21.666208</td>\n",
       "    </tr>\n",
       "  </tbody>\n",
       "</table>\n",
       "</div>"
      ],
      "text/plain": [
       "            words    weights\n",
       "1123815     never  -8.455925\n",
       "1199364        ok  -8.539061\n",
       "1796125        to  -8.588700\n",
       "251882        bad  -8.744082\n",
       "1626325  terrible  -9.005365\n",
       "305338      bland  -9.199410\n",
       "1595229         t -10.315419\n",
       "2040314     worst -11.378883\n",
       "1136830        no -13.516315\n",
       "1144857       not -21.666208"
      ]
     },
     "execution_count": 105,
     "metadata": {},
     "output_type": "execute_result"
    }
   ],
   "source": [
    "# and now, negative sentiment \n",
    "lr_weights.sort_values(['weights'],ascending = False)[-10:]"
   ]
  },
  {
   "cell_type": "markdown",
   "metadata": {},
   "source": [
    "## Word embeddings model (20 mts)\n",
    "\n",
    "The final type of featurization we will cover are **word embeddings**. This is a type of word representation that allows words with similar meaning to have a similar representation. It is this approach to representing words and documents that may be considered one of the key breakthroughs of deep learning on challenging natural language processing problems. It is capable of capturing the context of a word in a document, its semantic and syntactic similarity, and its relation with other words. Word embeddings are in fact a class of techniques where individual words are represented as real-valued vectors in a predefined vector space.\n",
    "\n",
    "In the following image, each of the words have been represented in 2-dimensions for simplicity. It can be clearly seen that words with similar context are grouped together – bathroom, kitchen, bathtub are grouped together, while microwave, refrigerator, oven form another group, etc."
   ]
  },
  {
   "cell_type": "code",
   "execution_count": 108,
   "metadata": {},
   "outputs": [],
   "source": [
    "from IPython.display import Image\n",
    "from IPython.core.display import HTML"
   ]
  },
  {
   "cell_type": "markdown",
   "metadata": {},
   "source": [
    "<img src='wembeddings.png'>"
   ]
  },
  {
   "cell_type": "markdown",
   "metadata": {},
   "source": [
    "There are different methods to learn word embeddings - Word2Vec, GloVe, FastText. **Word2Vec** uses a shallow Neural Network and is of two types; _CBOW_ and _Skip Gram_. **GloVe** is an unsupervised learning algorithm for obtaining vector representations for words. Training is performed on aggregated global word-word co-occurrence statistics from a corpus, and the resulting representations showcase interesting linear substructures of the word vector space. **fastText** is a library for learning of word embeddings and text classification created by Facebook's AI Research lab."
   ]
  },
  {
   "cell_type": "markdown",
   "metadata": {},
   "source": [
    "### Why use word embeddings over bag-of-words and TF-IDF? (5 mts)\n",
    "\n",
    "Each word is represented by a real-valued vector, which generally has tens or hundreds of dimensions. This is in contrast to he thousands or millions of dimensions required for sparse word representations. Thus, word embeddings can drastically reduce the number of dimensions required for representing a text document:"
   ]
  },
  {
   "cell_type": "code",
   "execution_count": 111,
   "metadata": {},
   "outputs": [],
   "source": [
    "import gensim"
   ]
  },
  {
   "cell_type": "markdown",
   "metadata": {},
   "source": [
    "We can load a pre-trained glove word embedding that is trained on a twitter dataset. This embedding is 200 dimensional."
   ]
  },
  {
   "cell_type": "code",
   "execution_count": 115,
   "metadata": {},
   "outputs": [],
   "source": [
    "model = gensim.models.KeyedVectors.load_word2vec_format(\n",
    "    os.path.join(os.getcwd(), 'glove.twitter.27B.200d_out.txt'), binary=False,\n",
    "    unicode_errors='ignore')"
   ]
  },
  {
   "cell_type": "markdown",
   "metadata": {},
   "source": [
    "We had approximately 18,000 distinct tokens for 1-gram features in the bag-of-words representation, yet will only have 200 dimensions in this word embedding. This is a huge difference!\n",
    "\n",
    "Moreover, word embeddings capture the context and semantics of the sentences since each word vector representation is itself based on its contextual meaning.\n",
    "\n",
    "Below is the vector representation for \"food\" and \"great\":"
   ]
  },
  {
   "cell_type": "code",
   "execution_count": 116,
   "metadata": {},
   "outputs": [
    {
     "name": "stdout",
     "output_type": "stream",
     "text": [
      "The embedding for food is 200 dimensional\n"
     ]
    },
    {
     "data": {
      "text/plain": [
       "array([-6.9175e-01, -1.4259e-01,  3.8653e-01, -2.3141e-01, -2.0408e-01,\n",
       "       -2.1565e-01,  7.7839e-01,  2.2689e-03, -7.2446e-02, -6.0134e-01,\n",
       "       -4.2400e-01, -5.7140e-01, -8.4249e-01,  1.5947e-01, -1.2899e-01,\n",
       "        5.9032e-01, -1.3632e-01, -6.6478e-01, -1.9557e-01, -8.2453e-01,\n",
       "       -1.3177e-01,  1.3514e-01, -7.3214e-01,  4.8200e-01,  4.3505e-01,\n",
       "        1.6676e+00, -1.8275e-01, -1.0007e-01,  3.7003e-01,  1.0411e-01,\n",
       "       -8.8115e-01, -9.7733e-04, -2.9459e-01, -7.3869e-02, -4.0103e-01,\n",
       "       -4.6626e-01,  2.3253e-01,  2.7776e-01,  4.0754e-01, -4.5051e-02,\n",
       "       -1.9468e-01, -2.9230e-01, -3.4642e-01, -4.9286e-01,  1.0467e-01,\n",
       "        7.2143e-01,  5.9596e-01,  5.3495e-01,  3.8788e-02, -1.4406e-01,\n",
       "       -5.2248e-02, -6.8292e-01, -1.0080e-01, -1.2961e-01, -2.6006e-02,\n",
       "        1.4836e-01,  3.2417e-02,  1.3997e-01,  8.3943e-03, -2.3139e-01,\n",
       "       -1.8000e-01, -3.1689e-01,  2.3606e-01,  1.8237e-01,  4.3933e-01,\n",
       "       -3.2313e-01, -2.1512e-03, -4.4172e-01,  4.1011e-01,  1.7174e-01,\n",
       "       -8.6405e-01, -3.9674e-01,  4.4175e-01,  5.9300e-01,  1.8982e-01,\n",
       "       -2.9646e-02, -3.4041e-01, -3.3708e-02,  7.3449e-01,  4.5300e-01,\n",
       "       -2.7855e-02, -1.8993e-02,  3.8107e-01, -5.6606e-02,  1.4864e-02,\n",
       "        3.1518e-01, -3.2304e-01, -2.7439e-01,  6.1900e-02,  3.2886e-01,\n",
       "        1.5138e-01,  5.3268e-01, -1.6616e-01, -2.3076e-01, -9.6515e-02,\n",
       "        4.5991e-01, -5.1475e-01,  1.0297e-01, -4.0225e-02,  5.6679e-01,\n",
       "        3.1027e-01,  1.5679e-01, -2.5897e-01,  4.6312e-01,  2.2561e-01,\n",
       "       -3.9300e-01, -3.9593e-01,  4.4001e-01,  3.7176e-01,  1.4747e-02,\n",
       "       -1.9193e-01, -2.2478e-01, -1.2665e-01, -3.4982e-01,  5.0847e-01,\n",
       "        3.1720e-01,  1.2942e-01, -6.2695e-01,  5.8675e-01,  4.1040e-02,\n",
       "        1.8835e-01, -2.2626e-01, -1.1744e-01,  5.1429e-03,  7.2058e-02,\n",
       "       -4.9525e-01,  4.4159e-01,  8.6225e-01,  7.6765e-02, -9.7908e-02,\n",
       "        6.8383e-02,  3.0596e-01,  3.7980e-01,  1.1563e-01, -6.1020e-01,\n",
       "       -6.8107e-01,  3.2723e-02,  2.5346e-01,  3.5334e-01,  2.5407e-01,\n",
       "       -4.6516e-01,  4.8858e-01,  3.9032e-01, -8.1296e-01, -6.9780e-01,\n",
       "       -1.2542e-01,  7.9234e-02,  1.2918e-01, -1.1048e-01,  8.9312e-03,\n",
       "        3.6999e-01,  3.0116e-01, -4.6578e+00, -4.4493e-03,  2.0313e-02,\n",
       "       -5.0215e-02, -2.0646e-01, -3.7321e-02, -5.1779e-02,  6.6986e-02,\n",
       "       -5.8853e-01,  7.1753e-01,  4.2784e-02,  1.6667e-03, -2.6193e-01,\n",
       "        5.8214e-01, -1.0513e+00, -3.0341e-02,  7.3892e-01, -1.8003e-01,\n",
       "       -1.1104e-01,  3.0846e-01,  4.4027e-01, -8.4080e-02, -2.6251e-01,\n",
       "       -3.8733e-01, -2.6630e-01,  1.9655e-01,  5.3812e-02, -2.4456e-01,\n",
       "       -7.8868e-01, -7.1843e-01,  7.0593e-02, -1.9051e-01,  2.5553e-01,\n",
       "       -1.3786e-01,  1.2942e-01,  4.5864e-01,  5.5462e-01,  8.2104e-01,\n",
       "       -2.5049e-01, -3.3623e-01,  1.8491e-01, -4.8235e-01,  3.1425e-01,\n",
       "        2.4499e-01, -2.4404e-01,  8.0309e-02,  3.4060e-01,  7.0451e-01],\n",
       "      dtype=float32)"
      ]
     },
     "execution_count": 116,
     "metadata": {},
     "output_type": "execute_result"
    }
   ],
   "source": [
    "print(\"The embedding for food is\",len(model['food']),\"dimensional\")\n",
    "\n",
    "model['food']"
   ]
  },
  {
   "cell_type": "code",
   "execution_count": 117,
   "metadata": {},
   "outputs": [
    {
     "name": "stdout",
     "output_type": "stream",
     "text": [
      "The embedding for great is 200 dimensional\n"
     ]
    },
    {
     "data": {
      "text/plain": [
       "array([ 1.0751e-01,  1.5958e-01,  1.3332e-01,  1.6642e-01, -3.2737e-02,\n",
       "        1.7592e-01,  7.2395e-01,  1.1713e-01, -3.5036e-01, -4.2937e-01,\n",
       "       -4.0925e-01, -2.5761e-01, -1.0264e+00, -1.0014e-01,  5.5390e-02,\n",
       "        2.0413e-01,  1.2807e-01, -2.6337e-02, -6.9719e-02, -3.6193e-02,\n",
       "       -1.9917e-01,  3.9437e-02, -9.2358e-02,  2.6981e-01, -2.0951e-01,\n",
       "        1.5455e+00, -2.8123e-01,  3.2046e-01,  4.5545e-01, -3.8841e-02,\n",
       "       -1.7369e-01, -2.3251e-01, -5.9551e-02,  2.3250e-01,  4.4214e-01,\n",
       "        3.3666e-01,  3.9352e-02, -1.2462e-01, -2.9317e-01, -4.8857e-02,\n",
       "        6.9021e-01,  7.1279e-02,  1.0252e-01,  1.6122e-01, -2.3536e-01,\n",
       "        6.2724e-02,  2.0222e-01,  5.0234e-02, -1.1611e-01,  2.8909e-02,\n",
       "       -1.1109e-01, -5.0241e-02, -5.9063e-01, -8.8747e-02,  5.1444e-01,\n",
       "       -1.3715e-01,  1.7194e-01, -8.3657e-02,  9.6333e-02, -9.7063e-02,\n",
       "        3.4003e-03, -7.0180e-02, -5.9588e-01, -2.8264e-01,  1.2529e-01,\n",
       "        2.4359e-01, -4.9082e-01, -4.2533e-02,  2.2158e-01, -2.1491e-01,\n",
       "       -4.2101e-02,  2.3359e-01,  3.1978e-01,  3.5063e-01,  6.1748e-01,\n",
       "       -1.0197e-01,  5.3357e-01, -3.6005e-01, -1.7212e-02,  1.6645e-01,\n",
       "        8.9432e-01,  2.7322e-02,  3.0683e-01,  1.9715e-02,  6.0516e-01,\n",
       "        4.1085e-01,  5.5945e-01, -8.4501e-02,  3.5933e-01,  1.0216e-01,\n",
       "        2.6675e-01, -6.0445e-01, -1.0513e-01, -1.9248e-01,  2.9150e-01,\n",
       "       -1.0537e-01,  5.2671e-01,  2.3763e-01, -1.3640e-01, -6.1029e-02,\n",
       "        1.0081e-01,  7.4541e-02, -1.4899e-01, -2.2301e-01, -1.3653e-02,\n",
       "        4.0192e-02,  5.5821e-03, -2.9936e-02,  2.7338e-02,  5.9412e-01,\n",
       "       -1.0302e-01,  9.0319e-02,  3.1055e-01,  6.3336e-01,  2.9762e-01,\n",
       "       -8.4671e-02, -1.2552e-01, -6.3930e-01,  3.8613e-01,  6.6371e-01,\n",
       "        5.1345e-01,  2.0719e-01,  2.1100e-01,  1.4579e-01, -7.3321e-02,\n",
       "       -7.0593e-01, -6.2578e-02, -2.5470e-01,  1.1986e-01,  1.6102e-01,\n",
       "        3.2958e-02, -2.4159e-01, -2.5708e-01,  3.2051e-01, -1.1569e-01,\n",
       "        6.7540e-03, -1.1688e-01, -3.6158e-02, -6.5320e-01,  4.9560e-01,\n",
       "       -3.9429e-02, -1.8395e-01,  2.3295e-01,  5.4128e-01,  2.4568e-02,\n",
       "       -1.9862e-01,  2.1041e-01,  9.3798e-02,  8.3096e-03, -6.1551e-02,\n",
       "        2.3262e-01, -4.2756e-02, -5.3511e+00,  3.0604e-01,  3.3578e-01,\n",
       "       -3.6771e-01,  5.6225e-01, -8.2341e-02,  2.9809e-01,  2.5189e-01,\n",
       "       -4.6203e-01,  1.0452e-01, -3.9540e-01,  3.6961e-01,  1.3093e-01,\n",
       "        1.6653e-01, -3.1915e-01,  1.6974e-01,  4.2575e-01,  3.6420e-01,\n",
       "        3.7175e-01, -1.9450e-01,  6.2702e-02,  4.9775e-01,  3.1842e-02,\n",
       "       -6.4072e-02,  7.6183e-02, -5.9534e-01,  3.1731e-01, -2.8254e-01,\n",
       "        1.5987e-01, -9.2750e-02, -4.1426e-02,  7.5799e-02,  9.5740e-03,\n",
       "       -2.1532e-01, -3.1419e-01, -1.5144e-01, -4.6584e-01, -1.1069e-01,\n",
       "       -4.0130e-01,  3.9266e-02,  8.1880e-01, -4.2955e-02,  2.1698e-01,\n",
       "       -6.0347e-02,  3.3431e-01, -9.9549e-02, -1.8156e-01, -8.5143e-02],\n",
       "      dtype=float32)"
      ]
     },
     "execution_count": 117,
     "metadata": {},
     "output_type": "execute_result"
    }
   ],
   "source": [
    "print(\"The embedding for great is\",len(model['great']),\"dimensional\")\n",
    "\n",
    "model['great']"
   ]
  },
  {
   "cell_type": "markdown",
   "metadata": {},
   "source": [
    "To find the vector for an entire review, we get the vector for each word in the review separately and take a simple average."
   ]
  },
  {
   "cell_type": "markdown",
   "metadata": {},
   "source": [
    "### Exercise 8: (5 mts)\n",
    "\n",
    "Calculate the vector for every single review in the dataset."
   ]
  },
  {
   "cell_type": "markdown",
   "metadata": {},
   "source": [
    "**Answer.** One possible solution is shown below:"
   ]
  },
  {
   "cell_type": "code",
   "execution_count": 121,
   "metadata": {},
   "outputs": [],
   "source": [
    "review_embeddings = []\n",
    "\n",
    "for each_review in reviews.text_new:\n",
    "    \n",
    "    ## Review_average\n",
    "    Review_average = np.zeros(model.vector_size)\n",
    "    count_val = 1\n",
    "    \n",
    "    for each_word in word_tokenize(each_review):\n",
    "\n",
    "# Uncomment the following sentence to ignore stopwords while calculating word embeddings\n",
    "#         if(each_word.lower() in noise_words):\n",
    "#             print(each_word.lower())\n",
    "#             continue\n",
    "        \n",
    "        if(each_word.lower() in model):\n",
    "            Review_average =+ model[each_word.lower()]\n",
    "            count_val += 1\n",
    "    \n",
    "    review_embeddings.append(list(Review_average/count_val))"
   ]
  },
  {
   "cell_type": "markdown",
   "metadata": {},
   "source": [
    "Let's convert the list of vector representations for each review into a DataFrame and split it into train and test sets:"
   ]
  },
  {
   "cell_type": "code",
   "execution_count": 122,
   "metadata": {},
   "outputs": [],
   "source": [
    "embedding_data = pd.DataFrame(review_embeddings)\n",
    "embedding_data = embedding_data.fillna(0)"
   ]
  },
  {
   "cell_type": "code",
   "execution_count": 123,
   "metadata": {},
   "outputs": [],
   "source": [
    "X_train_embed, X_test_embed, y_train_embed, y_test_embed =  \\\n",
    "                            train_test_split(embedding_data,reviews.sentiment,test_size = 0.2,random_state = 0)"
   ]
  },
  {
   "cell_type": "markdown",
   "metadata": {},
   "source": [
    "Now we can apply logistic regression to our word embeddings representation:"
   ]
  },
  {
   "cell_type": "code",
   "execution_count": 124,
   "metadata": {},
   "outputs": [
    {
     "name": "stdout",
     "output_type": "stream",
     "text": [
      "F1 score:  0.8804054054054054\n",
      "Accuracy:  78.63608931804465\n"
     ]
    }
   ],
   "source": [
    "lr_model_all.fit(X_train_embed,y_train_embed)\n",
    "test_pred_lr_prob = lr_model_all.predict_proba(X_test_embed)\n",
    "test_pred_lr_all = lr_model_all.predict(X_test_embed)\n",
    "\n",
    "print(\"F1 score: \",f1_score(y_test_embed,test_pred_lr_all))\n",
    "print(\"Accuracy: \", accuracy_score(y_test_embed,test_pred_lr_all)* 100)"
   ]
  },
  {
   "cell_type": "markdown",
   "metadata": {},
   "source": [
    "Unfortunately, this is not as good as either the bag-of-words or TF-IDF representations. Furthermore, although word embeddings was really effective at reducing the overall number of dimensions, it suffers from the problem of interpretability. This means that it is very hard for us to even diagnose what is causing its sub-par performance.\n",
    "\n",
    "In our case, creating features using bag-of-words got us an accuracy of 91% with very interpretable features. This is a good combination and so we deem this the best model for us here."
   ]
  },
  {
   "cell_type": "markdown",
   "metadata": {},
   "source": [
    "## Conclusions (5 mts)\n",
    "\n",
    "In this case we learned about various parts of an NLP pipeline. We learned a variety of methods for preprocessing text data and three different kinds of feature extraction methods: bag-of-words, TF-IDF, and embeddings. \n",
    "\n",
    "We also built classification models on these featurizations to predict the sentiment in Yelp reviews. We saw that bag-of-words and TF-IDF both gave interpretable features. Through increase of 1-grams to 4-grams, we were able to get our logistic regression model accuracy up to 91%."
   ]
  },
  {
   "cell_type": "markdown",
   "metadata": {},
   "source": [
    "## Takeaways (5 mts)\n",
    "\n",
    "Text pre-processing is more complex than other forms of pre-processing you might be familiar with, as good pre-processing may rely on an enormous number of rules extracted from large corpora of English text. You shouldn't try to recreate this work by yourself; instead, take advantage of large and powerful libraries such as `nltk` which have built-in corpora when possible, and use regular expressions when necessary to extend or tweak them.\n",
    "\n",
    "Pre-processing is an extremely important and nontrivial part of NLP, and will likely take the bulk of the work for most NLP projects. Most popular parts of the pipeline come with many parameters. Some of the most popular parameters, such as in TF-IDF, are quite clever and non-obvious. They can give surprisingly useful summaries of entire corpora without much adjustment."
   ]
  }
 ],
 "metadata": {
  "kernelspec": {
   "display_name": "Python 3",
   "language": "python",
   "name": "python3"
  },
  "language_info": {
   "codemirror_mode": {
    "name": "ipython",
    "version": 3
   },
   "file_extension": ".py",
   "mimetype": "text/x-python",
   "name": "python",
   "nbconvert_exporter": "python",
   "pygments_lexer": "ipython3",
   "version": "3.8.1"
  }
 },
 "nbformat": 4,
 "nbformat_minor": 4
}
